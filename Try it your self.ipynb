{
 "cells": [
  {
   "cell_type": "markdown",
   "id": "239284cc-4857-433d-a0b3-6f4484024b84",
   "metadata": {},
   "source": [
    "INTRODUCING LISTS\n",
    "==="
   ]
  },
  {
   "cell_type": "markdown",
   "id": "6093b6c1-c7a5-44f8-9294-d9124f3a7252",
   "metadata": {},
   "source": [
    "What is list?\n",
    "---\n",
    "   A list is a collection of items in a particular order.\n",
    "   \n",
    "   you can make alist that includes the letters of alphabet, the digits    from 0-9,or the names of all people in your class."
   ]
  },
  {
   "cell_type": "code",
   "execution_count": 1,
   "id": "c94840ff-d31b-418f-aec2-981b22a0539b",
   "metadata": {},
   "outputs": [
    {
     "name": "stdout",
     "output_type": "stream",
     "text": [
      "['ragu', 'jegan', 'vicky', 'krishna', 'navith', 'naveen', 'vel', 'kannan', 'abi']\n",
      "['ragu', 'jegan', 'vicky', 'krishna', 'navith', 'naveen', 'vel', 'kannan', 'abi', 'Ragu']\n"
     ]
    }
   ],
   "source": [
    "class_mates = ['ragu', 'jegan', 'vicky', 'krishna', 'navith', 'naveen', 'vel', 'kannan', 'abi']\n",
    "print(class_mates)\n",
    "class_mates = ['ragu', 'jegan', 'vicky', 'krishna', 'navith', 'naveen', 'vel', 'kannan', 'abi',\"Ragu\"]\n",
    "print(class_mates)"
   ]
  },
  {
   "cell_type": "markdown",
   "id": "19f67906-3fb7-44ac-be39-f5f34289068b",
   "metadata": {},
   "source": [
    "Accessing Elements in a List\n",
    "----"
   ]
  },
  {
   "cell_type": "code",
   "execution_count": 2,
   "id": "8d14d7a7-4c0f-4ed1-b34a-d59b9502fb56",
   "metadata": {},
   "outputs": [
    {
     "name": "stdout",
     "output_type": "stream",
     "text": [
      "vicky\n"
     ]
    }
   ],
   "source": [
    "print(class_mates[2])"
   ]
  },
  {
   "cell_type": "markdown",
   "id": "406df442-e4fe-488d-bae5-3d30a805fa3d",
   "metadata": {},
   "source": [
    "Python has a special syntax for accessing the last element in a list. By ask-\n",
    "ing for the item at index -1, Python always returns the last item in the list:"
   ]
  },
  {
   "cell_type": "code",
   "execution_count": 3,
   "id": "568a21fa-c664-4d65-ac9f-b3c321dd4ca7",
   "metadata": {},
   "outputs": [
    {
     "name": "stdout",
     "output_type": "stream",
     "text": [
      "Ragu\n"
     ]
    }
   ],
   "source": [
    "print(class_mates[-1])"
   ]
  },
  {
   "cell_type": "code",
   "execution_count": 4,
   "id": "cd8e3391-a1ac-4f8c-868b-36940c750326",
   "metadata": {},
   "outputs": [
    {
     "name": "stdout",
     "output_type": "stream",
     "text": [
      "Ragu\n"
     ]
    }
   ],
   "source": [
    "print(class_mates[-1].title())"
   ]
  },
  {
   "cell_type": "markdown",
   "id": "b4a028df-15e4-43d5-8306-611b9d0a6e31",
   "metadata": {},
   "source": [
    "Index Positions Start at 0, Not 1\n",
    "---\n",
    "\n",
    "\n",
    "Python considers the first item in a list to be at position 0, not position 1.\n",
    "This is true of most programming languages, and the reason has to do with\n",
    "how the list operations are implemented at a lower level. If you’re receiving\n",
    "unexpected results, determine whether you are making a simple off-by-one\n",
    "error.\n",
    "\n",
    "The second item in a list has an index of 1. Using this simple counting\n",
    "system, you can get any element you want from a list by subtracting one\n",
    "from its position in the list. For instance, to access the fourth item in a list,\n",
    "you request the item at index 3."
   ]
  },
  {
   "cell_type": "code",
   "execution_count": 5,
   "id": "17eceb4d-b53a-4869-8fb3-b51bf4002ecc",
   "metadata": {},
   "outputs": [
    {
     "name": "stdout",
     "output_type": "stream",
     "text": [
      "jegan\n",
      "krishna\n"
     ]
    }
   ],
   "source": [
    "print(class_mates[1])\n",
    "print(class_mates[3])"
   ]
  },
  {
   "cell_type": "markdown",
   "id": "ade01c8a-4651-4b0c-8475-ebea67540c28",
   "metadata": {},
   "source": [
    "Using Individual Values from a List\n",
    "---"
   ]
  },
  {
   "cell_type": "code",
   "execution_count": 6,
   "id": "a1c200b9-da5d-4dad-8080-64011d9db6f8",
   "metadata": {},
   "outputs": [],
   "source": [
    "message = class_mates[-2].title()+\" \"+\"is an university hockey player\""
   ]
  },
  {
   "cell_type": "code",
   "execution_count": 7,
   "id": "f347d119-7fa3-44a4-9be5-a7ff8a1e63ff",
   "metadata": {},
   "outputs": [
    {
     "name": "stdout",
     "output_type": "stream",
     "text": [
      "Abi is an university hockey player\n"
     ]
    }
   ],
   "source": [
    "print(message)"
   ]
  },
  {
   "cell_type": "markdown",
   "id": "e812bc3a-e745-4562-b7c3-8baf91166410",
   "metadata": {},
   "source": [
    "Changing, adding, and removing elements\n",
    "---\n",
    "\n",
    "Most lists you create will be dynamic, meaning you’ll build a list and\n",
    "then add and remove elements from it as your program runs its course. For\n",
    "example, you might create a game in which a player has to shoot aliens out\n",
    "of the sky. You could store the initial set of aliens in a list and then remove\n",
    "an alien from the list each time one is shot down. Each time a new alien\n",
    "appears on the screen, you add it to the list. Your list of aliens will decrease\n",
    "and increase in length throughout the course of the game."
   ]
  },
  {
   "cell_type": "markdown",
   "id": "a7e4d45d-cad9-4d2a-8db5-72007c067d3d",
   "metadata": {},
   "source": [
    "Modifying Elements in a List\n",
    "----\n",
    "The syntax for modifying an element is similar to the syntax for accessing\n",
    "an element in a list. To change an element, use the name of the list followed\n",
    "by the index of the element you want to change, and then provide the new\n",
    "value you want that item to have."
   ]
  },
  {
   "cell_type": "code",
   "execution_count": 8,
   "id": "6c31ba6b-cc29-487e-b8a3-d31c9947030f",
   "metadata": {},
   "outputs": [
    {
     "data": {
      "text/plain": [
       "['vector', 'statistics', 'algebra']"
      ]
     },
     "execution_count": 8,
     "metadata": {},
     "output_type": "execute_result"
    }
   ],
   "source": [
    "math = ['vector', 'statistics', 'algebra']\n",
    "math"
   ]
  },
  {
   "cell_type": "code",
   "execution_count": 9,
   "id": "7fa82911-b07b-429d-b4f9-3e0ef1d43df8",
   "metadata": {},
   "outputs": [
    {
     "data": {
      "text/plain": [
       "['probability', 'statistics', 'algebra']"
      ]
     },
     "execution_count": 9,
     "metadata": {},
     "output_type": "execute_result"
    }
   ],
   "source": [
    "math[0] = 'probability'\n",
    "math"
   ]
  },
  {
   "cell_type": "markdown",
   "id": "b0e7ede4-8489-4a68-a784-f0c6cf8f5d68",
   "metadata": {},
   "source": [
    "Adding Elements to a List\n",
    "---\n",
    "You might want to add a new element to a list for many reasons. For\n",
    "example, you might want to make new aliens appear in a game, add new\n",
    "data to a visualization, or add new registered users to a website you’ve\n",
    "built. Python provides several ways to add new data to existing lists."
   ]
  },
  {
   "cell_type": "markdown",
   "id": "86e20fb5-34d1-428a-8f99-9534b4e0dd10",
   "metadata": {},
   "source": [
    "appending Elements to the End of a List\n",
    "---\n",
    "The simplest way to add a new element to a list is to append the item to the\n",
    "list. When you append an item to a list, the new element is added to the end\n",
    "of the list. Using the same list we had in the previous example, we’ll add the\n",
    "new element 'ducati' to the end of the list:"
   ]
  },
  {
   "cell_type": "code",
   "execution_count": 10,
   "id": "bd58b567-7cfd-4f03-9649-bbe1aabd6216",
   "metadata": {},
   "outputs": [
    {
     "data": {
      "text/plain": [
       "['vector', 'statistics', 'algebra', 'probability']"
      ]
     },
     "execution_count": 10,
     "metadata": {},
     "output_type": "execute_result"
    }
   ],
   "source": [
    "math = ['vector', 'statistics', 'algebra']\n",
    "math.append('probability')\n",
    "math"
   ]
  },
  {
   "cell_type": "code",
   "execution_count": 11,
   "id": "cee5862c-221e-4044-bfd4-a66b3e620787",
   "metadata": {},
   "outputs": [
    {
     "data": {
      "text/plain": [
       "['vector',\n",
       " 'statistics',\n",
       " 'algebra',\n",
       " 'probability',\n",
       " 'geometry',\n",
       " 'measurements',\n",
       " 'calculus']"
      ]
     },
     "execution_count": 11,
     "metadata": {},
     "output_type": "execute_result"
    }
   ],
   "source": [
    "math.append('geometry')\n",
    "math.append('measurements')\n",
    "math.append('calculus')\n",
    "math"
   ]
  },
  {
   "cell_type": "markdown",
   "id": "187aacfc-a085-4fdc-8db8-4608632bc40e",
   "metadata": {},
   "source": [
    "Inserting Elements into a List\n",
    "----\n",
    "You can add a new element at any position in your list by using the insert()\n",
    "method. You do this by specifying the index of the new element and the\n",
    "value of the new item."
   ]
  },
  {
   "cell_type": "code",
   "execution_count": 12,
   "id": "7d47c7e5-b964-4c60-b6fd-3df0e8111ec4",
   "metadata": {},
   "outputs": [
    {
     "data": {
      "text/plain": [
       "['probability', 'vector', 'statistics', 'algebra']"
      ]
     },
     "execution_count": 12,
     "metadata": {},
     "output_type": "execute_result"
    }
   ],
   "source": [
    "math = ['vector', 'statistics', 'algebra']\n",
    "math.insert(0,'probability')\n",
    "math"
   ]
  },
  {
   "cell_type": "code",
   "execution_count": 13,
   "id": "df74520b-118f-41ae-8966-b0b5fff050a5",
   "metadata": {},
   "outputs": [
    {
     "data": {
      "text/plain": [
       "['vector', 'statistics', 'geometry', 'algebra']"
      ]
     },
     "execution_count": 13,
     "metadata": {},
     "output_type": "execute_result"
    }
   ],
   "source": [
    "math = ['vector', 'statistics', 'algebra']\n",
    "math.insert(-1,'geometry')\n",
    "math"
   ]
  },
  {
   "cell_type": "markdown",
   "id": "d354fb2d-1f9a-483b-8485-448362c176a4",
   "metadata": {},
   "source": [
    "Removing Elements from a List\n",
    "---\n",
    "Often, you’ll want to remove an item or a set of items from a list. "
   ]
  },
  {
   "cell_type": "markdown",
   "id": "06e84fe2-672c-4fbd-80b7-95a9fedfcc48",
   "metadata": {},
   "source": [
    "Removing an Item Using the del Statement\n",
    "---\n",
    "If you know the position of the item you want to remove from a list, you can\n",
    "use the del statement."
   ]
  },
  {
   "cell_type": "code",
   "execution_count": 14,
   "id": "bdaf4627-36de-4a08-8199-64fc5612cd20",
   "metadata": {},
   "outputs": [
    {
     "data": {
      "text/plain": [
       "['statistics', 'algebra']"
      ]
     },
     "execution_count": 14,
     "metadata": {},
     "output_type": "execute_result"
    }
   ],
   "source": [
    "math = ['vector', 'statistics', 'algebra']\n",
    "del math[0]\n",
    "math\n"
   ]
  },
  {
   "cell_type": "code",
   "execution_count": 15,
   "id": "c061acd0-7e64-4f7c-b218-9d0601ad33f2",
   "metadata": {},
   "outputs": [
    {
     "data": {
      "text/plain": [
       "['statistics']"
      ]
     },
     "execution_count": 15,
     "metadata": {},
     "output_type": "execute_result"
    }
   ],
   "source": [
    "del math[-1]\n",
    "math"
   ]
  },
  {
   "cell_type": "markdown",
   "id": "47a79bcd-752d-496d-a424-32cbe9fff6a2",
   "metadata": {},
   "source": [
    "Removing an Item Using the pop() Method\n",
    "---"
   ]
  },
  {
   "cell_type": "code",
   "execution_count": 16,
   "id": "a3e6b438-04d9-41b1-992d-9c1903963a9e",
   "metadata": {},
   "outputs": [
    {
     "name": "stdout",
     "output_type": "stream",
     "text": [
      "['vector', 'statistics', 'algebra', 'probability', 'geometry', 'measurements', 'calculus']\n"
     ]
    }
   ],
   "source": [
    "math = ['vector','statistics','algebra','probability','geometry','measurements','calculus']\n",
    "print (math)"
   ]
  },
  {
   "cell_type": "code",
   "execution_count": 17,
   "id": "52340ff8-4676-4463-ac99-cc52bf649a34",
   "metadata": {},
   "outputs": [
    {
     "name": "stdout",
     "output_type": "stream",
     "text": [
      "calculus\n"
     ]
    }
   ],
   "source": [
    "popped_math = math.pop()\n",
    "print(popped_math)"
   ]
  },
  {
   "cell_type": "code",
   "execution_count": 18,
   "id": "c4b09284-3f11-46c5-9c68-69568fe5813f",
   "metadata": {},
   "outputs": [
    {
     "name": "stdout",
     "output_type": "stream",
     "text": [
      "['vector', 'statistics', 'algebra', 'probability', 'geometry', 'measurements']\n"
     ]
    }
   ],
   "source": [
    "print(math)"
   ]
  },
  {
   "cell_type": "markdown",
   "id": "c34165c9-9885-4cf6-a792-b92f2f9a061c",
   "metadata": {},
   "source": [
    "Popping Items from any Position in a List\n",
    "---"
   ]
  },
  {
   "cell_type": "code",
   "execution_count": 19,
   "id": "0edfa597-e40a-4d0e-b4c7-31c769fc93ca",
   "metadata": {},
   "outputs": [
    {
     "name": "stdout",
     "output_type": "stream",
     "text": [
      "statistics is a base of Machine Learning\n"
     ]
    }
   ],
   "source": [
    "math = ['vector','statistics','algebra','probability','geometry','measurements','calculus']\n",
    "popped_math = math.pop(1)\n",
    "print(popped_math+\" is a base of Machine Learning\")"
   ]
  },
  {
   "cell_type": "markdown",
   "id": "c12a3596-6000-4d42-b210-2096537d85fd",
   "metadata": {},
   "source": [
    "Removing an Item by Value\n",
    "---"
   ]
  },
  {
   "cell_type": "code",
   "execution_count": 20,
   "id": "80a1abd2-0f42-47f7-b96a-080d237e693d",
   "metadata": {},
   "outputs": [
    {
     "name": "stdout",
     "output_type": "stream",
     "text": [
      "['vector', 'statistics', 'probability', 'geometry', 'measurements', 'calculus']\n"
     ]
    }
   ],
   "source": [
    "math = ['vector','statistics','algebra','probability','geometry','measurements','calculus']\n",
    "math.remove('algebra')\n",
    "print(math)"
   ]
  },
  {
   "cell_type": "code",
   "execution_count": 21,
   "id": "38623718-78a5-49db-8cc8-c858ec864440",
   "metadata": {},
   "outputs": [
    {
     "name": "stdout",
     "output_type": "stream",
     "text": [
      "\n",
      " Calculus is too hard for me.\n"
     ]
    }
   ],
   "source": [
    "math = ['vector','statistics','algebra','probability','geometry','measurements','calculus']\n",
    "too_hard = 'calculus'\n",
    "math.remove(too_hard)\n",
    "math\n",
    "print(\"\\n \" + too_hard.title() + \" is too hard for me.\")"
   ]
  },
  {
   "cell_type": "markdown",
   "id": "b3319244-7387-4cd6-a702-b7b748e6a236",
   "metadata": {},
   "source": [
    "organizing a list\n",
    "---"
   ]
  },
  {
   "cell_type": "markdown",
   "id": "1a3f74ce-2dd5-4022-8bc1-483fe0e0959f",
   "metadata": {},
   "source": [
    "Sorting a List Permanently with the sort() Method\n",
    "---\n",
    "Python’s sort() method makes it relatively easy to sort a list. Imagine we\n",
    "have a list of cars and want to change the order of the list to store them\n",
    "alphabetically. To keep the task simple, let’s assume that all the values in\n",
    "the list are lowercase."
   ]
  },
  {
   "cell_type": "code",
   "execution_count": 22,
   "id": "3395d857-133a-4c8e-9cbb-19adc31cf24f",
   "metadata": {},
   "outputs": [
    {
     "data": {
      "text/plain": [
       "['map reduce',\n",
       " 'machine learning',\n",
       " 'data visualization',\n",
       " 'data engineering',\n",
       " 'no sql',\n",
       " 'computer network']"
      ]
     },
     "execution_count": 22,
     "metadata": {},
     "output_type": "execute_result"
    }
   ],
   "source": [
    "subject = ['map reduce', 'machine learning', 'data visualization','data engineering','no sql','computer network']\n",
    "subject"
   ]
  },
  {
   "cell_type": "code",
   "execution_count": 23,
   "id": "9a88930c-60b7-4123-a804-1f5c43faafe1",
   "metadata": {},
   "outputs": [
    {
     "name": "stdout",
     "output_type": "stream",
     "text": [
      "['computer network', 'data engineering', 'data visualization', 'machine learning', 'map reduce', 'no sql']\n"
     ]
    }
   ],
   "source": [
    "subject.sort()\n",
    "print(subject)"
   ]
  },
  {
   "cell_type": "code",
   "execution_count": 24,
   "id": "94849dfc-8a0d-4c53-a239-25f1ed5043fb",
   "metadata": {},
   "outputs": [
    {
     "name": "stdout",
     "output_type": "stream",
     "text": [
      "['no sql', 'map reduce', 'machine learning', 'data visualization', 'data engineering', 'computer network']\n"
     ]
    }
   ],
   "source": [
    "subject.sort(reverse=True)\n",
    "print(subject)"
   ]
  },
  {
   "cell_type": "code",
   "execution_count": 25,
   "id": "0f3b30a6-8e9e-486c-a9a8-8074fb803441",
   "metadata": {},
   "outputs": [
    {
     "name": "stdout",
     "output_type": "stream",
     "text": [
      "Here is the original list:\n",
      "['no sql', 'map reduce', 'machine learning', 'data visualization', 'data engineering', 'computer network']\n",
      "\n",
      "Here is the sorted list:\n",
      "['computer network', 'data engineering', 'data visualization', 'machine learning', 'map reduce', 'no sql']\n",
      "\n",
      "Here is the original list again:\n",
      "['no sql', 'map reduce', 'machine learning', 'data visualization', 'data engineering', 'computer network']\n"
     ]
    }
   ],
   "source": [
    "print(\"Here is the original list:\")\n",
    "print(subject)\n",
    "print(\"\\nHere is the sorted list:\")\n",
    "print(sorted(subject))\n",
    "print(\"\\nHere is the original list again:\")\n",
    "print(subject)"
   ]
  },
  {
   "cell_type": "markdown",
   "id": "82739578-2788-44d1-9ce9-2a875f720a4c",
   "metadata": {},
   "source": [
    "Printing a List in Reverse Order\n",
    "---"
   ]
  },
  {
   "cell_type": "markdown",
   "id": "9e177907-754e-416d-bdb9-5ede347400e1",
   "metadata": {},
   "source": [
    "To reverse the original order of a list, you can use the reverse() method.\n",
    "\n",
    "If we originally stored the list of cars in chronological order according to\n",
    "when we owned them, we could easily rearrange the list into reverse chron-ological order:"
   ]
  },
  {
   "cell_type": "code",
   "execution_count": 26,
   "id": "033e5395-e9ba-463a-a03a-71e16a8625ca",
   "metadata": {},
   "outputs": [
    {
     "name": "stdout",
     "output_type": "stream",
     "text": [
      "['computer network', 'no sql', 'data engineering', 'data visualization', 'machine learning', 'map reduce']\n"
     ]
    }
   ],
   "source": [
    "subject = ['map reduce', 'machine learning', 'data visualization','data engineering','no sql','computer network']\n",
    "subject.reverse()\n",
    "print(subject)"
   ]
  },
  {
   "cell_type": "markdown",
   "id": "ef908082-1802-44da-bccc-1fd1301bf6d9",
   "metadata": {},
   "source": [
    "Finding the Length of a List\n",
    "---\n",
    "You can quickly find the length of a list by using the len() function. The list\n",
    "in this example has four items, so its length is 4:"
   ]
  },
  {
   "cell_type": "code",
   "execution_count": 27,
   "id": "95c60b42-e153-4acf-bbdc-e61d8e5e4b91",
   "metadata": {},
   "outputs": [
    {
     "data": {
      "text/plain": [
       "6"
      ]
     },
     "execution_count": 27,
     "metadata": {},
     "output_type": "execute_result"
    }
   ],
   "source": [
    "subject = ['map reduce', 'machine learning', 'data visualization','data engineering','no sql','computer network']\n",
    "len(subject)"
   ]
  },
  {
   "cell_type": "markdown",
   "id": "a304e8f4-3f07-4b1b-b535-5eb5b17aec38",
   "metadata": {},
   "source": [
    "Avoiding Index errors when working with lists\n",
    "---\n",
    "One type of error is common to see when you’re working with lists for the\n",
    "first time. Let’s say you have a list with three items, and you ask for the\n",
    "7th item:"
   ]
  },
  {
   "cell_type": "code",
   "execution_count": 28,
   "id": "a3d38ae9-7183-49c4-ac66-29a8755fc432",
   "metadata": {},
   "outputs": [
    {
     "name": "stdout",
     "output_type": "stream",
     "text": [
      "computer network\n"
     ]
    }
   ],
   "source": [
    "subject = ['map reduce', 'machine learning', 'data visualization','data engineering','no sql','computer network']\n",
    "print(subject[5])"
   ]
  },
  {
   "cell_type": "code",
   "execution_count": 29,
   "id": "56272e9a-ce5f-47d0-9b6b-376903b97c06",
   "metadata": {},
   "outputs": [
    {
     "name": "stdout",
     "output_type": "stream",
     "text": [
      "computer network\n"
     ]
    }
   ],
   "source": [
    "print(subject[-1])"
   ]
  },
  {
   "cell_type": "markdown",
   "id": "81857913-8b1a-4731-b339-1873acd2b40d",
   "metadata": {},
   "source": [
    "Try It yourse lf\n",
    "---\n",
    "\n",
    "Try these short programs to get some firsthand experience with Python’s lists .\n",
    "You might want to create a new folder for each chapter’s exercises to keep\n",
    "them organized ."
   ]
  },
  {
   "cell_type": "markdown",
   "id": "b4b7a6df-918a-47a1-8db6-f76c676f804a",
   "metadata": {},
   "source": [
    "3-1. Names: Store the names of a few of your friends in a list called names . Print\n",
    "each person’s name by accessing each element in the list, one at a time ."
   ]
  },
  {
   "cell_type": "code",
   "execution_count": 30,
   "id": "db5bc631-0aea-4c61-a7c4-5dbe2062c29a",
   "metadata": {},
   "outputs": [
    {
     "name": "stdout",
     "output_type": "stream",
     "text": [
      "akash\n",
      "muthu\n",
      "rokesh\n",
      "gokul\n"
     ]
    }
   ],
   "source": [
    "frnds = ['akash','muthu','rokesh','gokul']\n",
    "print(frnds[0])\n",
    "print(frnds[-3])\n",
    "print(frnds[2])\n",
    "print(frnds[-1])"
   ]
  },
  {
   "cell_type": "markdown",
   "id": "cbd4d659-46bc-4e56-a334-9e5245b55b00",
   "metadata": {},
   "source": [
    "3-2. Greetings: Start with the list you used in Exercise 3-1, but instead of just\n",
    "printing each person’s name, print a message to them . The text of each mes-\n",
    "sage should be the same, but each message should be personalized with the\n",
    "person’s name ."
   ]
  },
  {
   "cell_type": "code",
   "execution_count": 31,
   "id": "5228054d-95f1-4bbe-a2a6-fb2b6490b6a0",
   "metadata": {},
   "outputs": [
    {
     "name": "stdout",
     "output_type": "stream",
     "text": [
      "akash from Ds\n",
      "rokesh from DS\n",
      "muthu from AI\n",
      "gokul from AI\n"
     ]
    }
   ],
   "source": [
    "frnds = ['akash','muthu','rokesh','gokul']\n",
    "print(frnds[0]+\" from Ds\")\n",
    "print(frnds[2]+\" from DS\")\n",
    "print(frnds[1]+\" from AI\")\n",
    "print(frnds[3]+\" from AI\")"
   ]
  },
  {
   "cell_type": "markdown",
   "id": "b9190d9f-58b3-4469-b9b1-0022a898f5fd",
   "metadata": {},
   "source": [
    "3-3. Your Own List: Think of your favorite mode of transportation, such as a\n",
    "motorcycle or a car, and make a list that stores several examples . Use your list\n",
    "to print a series of statements about these items, such as “I would like to own a\n",
    "Honda motorcycle .”"
   ]
  },
  {
   "cell_type": "code",
   "execution_count": 32,
   "id": "d7407a5f-2f7d-453a-81ed-d6f3c3efedc7",
   "metadata": {},
   "outputs": [],
   "source": [
    "favorite_mode_of_transportation = [['tata','Volkswagen','Daimler','Ford'],['honda', 'yamaha', 'suzuki', 'ducati']]\n",
    "car = favorite_mode_of_transportation[0]\n",
    "bike = favorite_mode_of_transportation[1]"
   ]
  },
  {
   "cell_type": "code",
   "execution_count": 33,
   "id": "7e99803e-d2cc-439d-9517-256e98d8a51f",
   "metadata": {},
   "outputs": [
    {
     "name": "stdout",
     "output_type": "stream",
     "text": [
      "['tata', 'Volkswagen', 'Daimler', 'Ford']\n",
      "['honda', 'yamaha', 'suzuki', 'ducati']\n"
     ]
    }
   ],
   "source": [
    "print(car)\n",
    "print(bike)"
   ]
  },
  {
   "cell_type": "code",
   "execution_count": 34,
   "id": "365792e2-d47e-42f9-850f-7819e2c1e1a1",
   "metadata": {},
   "outputs": [
    {
     "name": "stdout",
     "output_type": "stream",
     "text": [
      "Ducati is costly.\n"
     ]
    }
   ],
   "source": [
    "print(bike[-1].title()+\" is costly.\")"
   ]
  },
  {
   "cell_type": "code",
   "execution_count": 35,
   "id": "e3ae84c5-12ec-4d2a-8ff7-9c7d1af891be",
   "metadata": {},
   "outputs": [
    {
     "name": "stdout",
     "output_type": "stream",
     "text": [
      "TATA,india’s leading automobile company.\n"
     ]
    }
   ],
   "source": [
    "print(car[0].upper()+\",india’s leading automobile company.\")"
   ]
  },
  {
   "cell_type": "markdown",
   "id": "108668ab-58c8-457e-9417-48d815f64c5d",
   "metadata": {},
   "source": [
    " print a series of statements, what you want?"
   ]
  },
  {
   "cell_type": "markdown",
   "id": "5c6c58e1-90bc-4baa-ab8a-462a2046cb4f",
   "metadata": {},
   "source": [
    "3-4. Guest List: If you could invite anyone, living or deceased, to dinner, who\n",
    "would you invite? Make a list that includes at least three people you’d like to\n",
    "invite to dinner . Then use your list to print a message to each person, inviting\n",
    "them to dinner ."
   ]
  },
  {
   "cell_type": "code",
   "execution_count": 36,
   "id": "1bb6cc27-9718-44c9-bf7d-378b6f6134c6",
   "metadata": {},
   "outputs": [],
   "source": [
    "Guests=['Elon Musk','Linus Torvalds','Mark Zuckerburg','Newton','Turing','Albert']"
   ]
  },
  {
   "cell_type": "code",
   "execution_count": 37,
   "id": "9494ed8c-c4d0-4a63-b80e-5c12d0fd2d8a",
   "metadata": {},
   "outputs": [
    {
     "name": "stdout",
     "output_type": "stream",
     "text": [
      "Hello Mark Zuckerburg. Everything is well at my end and hope the same with you. In this letter, I wanted to invite you to have dinner with me and my family.\n"
     ]
    }
   ],
   "source": [
    "print(\"Hello \"+Guests[2]+\".\"\" Everything is well at my end and hope the same with you. In this letter, I wanted to invite you to have dinner with me and my family.\") "
   ]
  },
  {
   "cell_type": "code",
   "execution_count": 38,
   "id": "f747f32c-467e-4878-8eeb-061ed42e05bb",
   "metadata": {},
   "outputs": [
    {
     "name": "stdout",
     "output_type": "stream",
     "text": [
      "Hello Elon Musk. Everything is well at my end and hope the same with you. In this letter, I wanted to invite you to have dinner with me and my family.\n"
     ]
    }
   ],
   "source": [
    "print(\"Hello \"+Guests[0]+\".\"\" Everything is well at my end and hope the same with you. In this letter, I wanted to invite you to have dinner with me and my family.\") "
   ]
  },
  {
   "cell_type": "code",
   "execution_count": 39,
   "id": "5c2cb008-67a7-410b-bdb8-24edbc214afb",
   "metadata": {},
   "outputs": [
    {
     "name": "stdout",
     "output_type": "stream",
     "text": [
      "Hello Linus Torvalds. Everything is well at my end and hope the same with you. In this letter, I wanted to invite you to have dinner with me and my family.\n"
     ]
    }
   ],
   "source": [
    "print(\"Hello \"+Guests[1]+\".\"\" Everything is well at my end and hope the same with you. In this letter, I wanted to invite you to have dinner with me and my family.\") "
   ]
  },
  {
   "cell_type": "markdown",
   "id": "7c77f69a-c6a9-472b-af5c-ea3b27a4c061",
   "metadata": {},
   "source": [
    "3-5. Changing Guest List: You just heard that one of your guests can’t make the dinner, so you need to send out a new set of invitations . You’ll have to think of someone else to invite .\n",
    "\n",
    "•  Start with your program from Exercise 3-4 . Add a print statement at the\n",
    "end of your program stating the name of the guest who can’t make it .\n",
    "\n",
    "•  Modify your list, replacing the name of the guest who can’t make it with\n",
    "the name of the new person you are inviting .\n",
    "\n",
    "•  Print a second set of invitation messages, one for each person who is still\n",
    "in your list ."
   ]
  },
  {
   "cell_type": "code",
   "execution_count": 40,
   "id": "99f24058-e46f-4f82-bb16-c32932891997",
   "metadata": {},
   "outputs": [],
   "source": [
    "Guests=['Elon Musk','Linus Torvalds','Mark Zuckerburg','Newton','Turing','Albert']"
   ]
  },
  {
   "cell_type": "code",
   "execution_count": 41,
   "id": "0ce3eb39-c978-45e0-98d8-f8a1614d8040",
   "metadata": {},
   "outputs": [
    {
     "name": "stdout",
     "output_type": "stream",
     "text": [
      "Hello Mark Zuckerburg. Everything is well at my end and hope the same with you. In this letter, I wanted to invite you to have dinner with me and my family.\n"
     ]
    }
   ],
   "source": [
    "print(\"Hello \"+Guests[2]+\".\"\" Everything is well at my end and hope the same with you. In this letter, I wanted to invite you to have dinner with me and my family.\") "
   ]
  },
  {
   "cell_type": "code",
   "execution_count": 42,
   "id": "8c9ff74f-1ab4-4b37-b127-d0376fe2168b",
   "metadata": {},
   "outputs": [
    {
     "name": "stdout",
     "output_type": "stream",
     "text": [
      "Hello Elon Musk. Everything is well at my end and hope the same with you. In this letter, I wanted to invite you to have dinner with me and my family.\n"
     ]
    }
   ],
   "source": [
    "print(\"Hello \"+Guests[0]+\".\"\" Everything is well at my end and hope the same with you. In this letter, I wanted to invite you to have dinner with me and my family.\") "
   ]
  },
  {
   "cell_type": "code",
   "execution_count": 43,
   "id": "33944258-5e9c-494e-bc92-901108667301",
   "metadata": {},
   "outputs": [
    {
     "name": "stdout",
     "output_type": "stream",
     "text": [
      "Hello Linus Torvalds. Everything is well at my end and hope the same with you. In this letter, I wanted to invite you to have dinner with me and my family.\n"
     ]
    }
   ],
   "source": [
    "print(\"Hello \"+Guests[1]+\".\"\" Everything is well at my end and hope the same with you. In this letter, I wanted to invite you to have dinner with me and my family.\") "
   ]
  },
  {
   "cell_type": "markdown",
   "id": "4edf734c-7887-4d2b-8d84-ac9f63b12bf2",
   "metadata": {},
   "source": [
    "__________________________________________________________________"
   ]
  },
  {
   "cell_type": "code",
   "execution_count": 44,
   "id": "32c4c0f3-d77c-4e4f-b95c-dc97ceeea32d",
   "metadata": {},
   "outputs": [],
   "source": [
    "Guests[0] = 'Edward'\n",
    "modifed_Guests = Guests\n",
    "\n"
   ]
  },
  {
   "cell_type": "code",
   "execution_count": 45,
   "id": "ca7b72a3-09e1-440c-8b6c-b4fc9c6defb5",
   "metadata": {},
   "outputs": [
    {
     "name": "stdout",
     "output_type": "stream",
     "text": [
      "Hello Mark Zuckerburg. Everything is well at my end and hope the same with you. In this letter, I wanted to invite you to have dinner with me and my family.\n"
     ]
    }
   ],
   "source": [
    "print(\"Hello \"+modifed_Guests[2]+\".\"\" Everything is well at my end and hope the same with you. In this letter, I wanted to invite you to have dinner with me and my family.\") "
   ]
  },
  {
   "cell_type": "code",
   "execution_count": 46,
   "id": "59019d57-1ae6-44ad-be0e-d18e19ef0474",
   "metadata": {},
   "outputs": [
    {
     "name": "stdout",
     "output_type": "stream",
     "text": [
      "Hello Edward. Everything is well at my end and hope the same with you. In this letter, I wanted to invite you to have dinner with me and my family.\n"
     ]
    }
   ],
   "source": [
    "print(\"Hello \"+modifed_Guests[0]+\".\"\" Everything is well at my end and hope the same with you. In this letter, I wanted to invite you to have dinner with me and my family.\") "
   ]
  },
  {
   "cell_type": "code",
   "execution_count": 47,
   "id": "777be941-110f-4d2e-85c7-be3a37cec3d7",
   "metadata": {},
   "outputs": [
    {
     "name": "stdout",
     "output_type": "stream",
     "text": [
      "Hello Linus Torvalds. Everything is well at my end and hope the same with you. In this letter, I wanted to invite you to have dinner with me and my family.\n"
     ]
    }
   ],
   "source": [
    "print(\"Hello \"+modifed_Guests[1]+\".\"\" Everything is well at my end and hope the same with you. In this letter, I wanted to invite you to have dinner with me and my family.\") "
   ]
  },
  {
   "cell_type": "markdown",
   "id": "8768d460-ecf0-44c3-a764-15c3367048d3",
   "metadata": {},
   "source": [
    "3-6. More Guests: You just found a bigger dinner table, so now more space is\n",
    "available . Think of three more guests to invite to dinner.\n",
    "\n",
    "•  Start with your program from Exercise 3-4 or Exercise 3-5 . Add a print\n",
    "statement to the end of your program informing people that you found a\n",
    "bigger dinner table .\n",
    "\n",
    "•  Use insert() to add one new guest to the beginning of your list .\n",
    "\n",
    "•  Use insert() to add one new guest to the middle of your list .\n",
    "\n",
    "•  Use append() to add one new guest to the end of your list .\n",
    "\n",
    "•  Print a new set of invitation messages, one for each person in your list "
   ]
  },
  {
   "cell_type": "code",
   "execution_count": 48,
   "id": "571d3e3e-2e08-4fed-8fbe-4b0f8032597e",
   "metadata": {},
   "outputs": [
    {
     "data": {
      "text/plain": [
       "['Edward', 'Linus Torvalds', 'Mark Zuckerburg', 'Newton', 'Turing', 'Albert']"
      ]
     },
     "execution_count": 48,
     "metadata": {},
     "output_type": "execute_result"
    }
   ],
   "source": [
    "modifed_Guests"
   ]
  },
  {
   "cell_type": "code",
   "execution_count": 49,
   "id": "0c26caa1-d6f4-433a-a428-f20743e55258",
   "metadata": {},
   "outputs": [],
   "source": [
    "modifed_Guests.insert(0,'sher lock') "
   ]
  },
  {
   "cell_type": "code",
   "execution_count": 50,
   "id": "7e352a1c-e2a0-4836-a717-2567fb91f100",
   "metadata": {},
   "outputs": [
    {
     "data": {
      "text/plain": [
       "['sher lock',\n",
       " 'Edward',\n",
       " 'Linus Torvalds',\n",
       " 'Mark Zuckerburg',\n",
       " 'Newton',\n",
       " 'Turing',\n",
       " 'Albert']"
      ]
     },
     "execution_count": 50,
     "metadata": {},
     "output_type": "execute_result"
    }
   ],
   "source": [
    "modifed_Guests"
   ]
  },
  {
   "cell_type": "code",
   "execution_count": 51,
   "id": "dcc17062-777e-42b8-9a5c-b5831492e0bf",
   "metadata": {},
   "outputs": [],
   "source": [
    "modifed_Guests.insert(3,'Guido Van Rassum') "
   ]
  },
  {
   "cell_type": "code",
   "execution_count": 52,
   "id": "e5f59b76-27c6-4391-866b-9bfd5470db28",
   "metadata": {},
   "outputs": [
    {
     "data": {
      "text/plain": [
       "['sher lock',\n",
       " 'Edward',\n",
       " 'Linus Torvalds',\n",
       " 'Guido Van Rassum',\n",
       " 'Mark Zuckerburg',\n",
       " 'Newton',\n",
       " 'Turing',\n",
       " 'Albert']"
      ]
     },
     "execution_count": 52,
     "metadata": {},
     "output_type": "execute_result"
    }
   ],
   "source": [
    "modifed_Guests"
   ]
  },
  {
   "cell_type": "code",
   "execution_count": 53,
   "id": "0d9e0161-1b2a-4998-b3d5-5d73d3a4653a",
   "metadata": {},
   "outputs": [],
   "source": [
    "modifed_Guests.append('Tim Berners-Lee') "
   ]
  },
  {
   "cell_type": "code",
   "execution_count": 54,
   "id": "a9c072b0-5bd8-4c7a-adbf-e11bf1689fe0",
   "metadata": {},
   "outputs": [
    {
     "data": {
      "text/plain": [
       "['sher lock',\n",
       " 'Edward',\n",
       " 'Linus Torvalds',\n",
       " 'Guido Van Rassum',\n",
       " 'Mark Zuckerburg',\n",
       " 'Newton',\n",
       " 'Turing',\n",
       " 'Albert',\n",
       " 'Tim Berners-Lee']"
      ]
     },
     "execution_count": 54,
     "metadata": {},
     "output_type": "execute_result"
    }
   ],
   "source": [
    "modifed_Guests"
   ]
  },
  {
   "cell_type": "code",
   "execution_count": 55,
   "id": "d7c071ae-9d1e-4e59-8297-5d3fd61ed187",
   "metadata": {},
   "outputs": [
    {
     "name": "stdout",
     "output_type": "stream",
     "text": [
      "Hello Turing. Everything is well at my end and hope the same with you. In this letter, I wanted to invite you to have dinner with me and my family.\n"
     ]
    }
   ],
   "source": [
    "print(\"Hello \"+modifed_Guests[-3]+\".\"\" Everything is well at my end and hope the same with you. In this letter, I wanted to invite you to have dinner with me and my family.\") "
   ]
  },
  {
   "cell_type": "markdown",
   "id": "aaa43ab7-efb4-45b0-a5d1-f73fa9436827",
   "metadata": {},
   "source": [
    "3-7. Shrinking Guest List: You just found out that your new dinner table won’t\n",
    "arrive in time for the dinner, and you have space for only two guests .\n",
    "\n",
    "•  Start with your program from Exercise 3-6 . Add a new line that prints a\n",
    "message saying that you can invite only two people for dinner .\n",
    "\n",
    "•  Use pop() to remove guests from your list one at a time until only two\n",
    "names remain in your list . Each time you pop a name from your list, print\n",
    "a message to that person letting them know you’re sorry you can’t invite\n",
    "them to dinner .\n",
    "\n",
    "•  Print a message to each of the two people still on your list, letting them\n",
    "know they’re still invited .\n",
    "\n",
    "•  Use del to remove the last two names from your list, so you have an empty\n",
    "list . Print your list to make sure you actually have an empty list at the end\n",
    "of your program "
   ]
  },
  {
   "cell_type": "code",
   "execution_count": 56,
   "id": "93f65b05-99cf-4caf-aec8-dc7b26d81884",
   "metadata": {},
   "outputs": [
    {
     "name": "stdout",
     "output_type": "stream",
     "text": [
      "Hello Turing. Everything is well at my end and hope the same with you. In this letter, I wanted to invite you to have dinner with me and my family.\n"
     ]
    }
   ],
   "source": [
    "print(\"Hello \"+modifed_Guests[-3]+\".\"\" Everything is well at my end and hope the same with you. In this letter, I wanted to invite you to have dinner with me and my family.\") "
   ]
  },
  {
   "cell_type": "code",
   "execution_count": 57,
   "id": "364786ff-3fb9-46ef-bcd0-244dc53b2d43",
   "metadata": {},
   "outputs": [
    {
     "name": "stdout",
     "output_type": "stream",
     "text": [
      "Hello Tim Berners-Lee. Everything is well at my end and hope the same with you. In this letter, I wanted to invite you to have dinner with me and my family.\n"
     ]
    }
   ],
   "source": [
    "print(\"Hello \"+modifed_Guests[-1]+\".\"\" Everything is well at my end and hope the same with you. In this letter, I wanted to invite you to have dinner with me and my family.\") "
   ]
  },
  {
   "cell_type": "code",
   "execution_count": 58,
   "id": "77d3c08f-5397-41e6-ac78-70b3e652c522",
   "metadata": {},
   "outputs": [
    {
     "data": {
      "text/plain": [
       "'Guido Van Rassum'"
      ]
     },
     "execution_count": 58,
     "metadata": {},
     "output_type": "execute_result"
    }
   ],
   "source": [
    "modifed_Guests.pop(0)\n",
    "modifed_Guests.pop(1)\n",
    "modifed_Guests.pop(2)\n",
    "modifed_Guests.pop(1)"
   ]
  },
  {
   "cell_type": "code",
   "execution_count": 59,
   "id": "5161a6b1-3532-4cf5-8d20-28d358a91570",
   "metadata": {},
   "outputs": [
    {
     "data": {
      "text/plain": [
       "['Edward', 'Newton', 'Turing', 'Albert', 'Tim Berners-Lee']"
      ]
     },
     "execution_count": 59,
     "metadata": {},
     "output_type": "execute_result"
    }
   ],
   "source": [
    "modifed_Guests"
   ]
  },
  {
   "cell_type": "code",
   "execution_count": 60,
   "id": "d476b3f6-ed06-4cb5-a27f-d43868d4efce",
   "metadata": {},
   "outputs": [
    {
     "name": "stdout",
     "output_type": "stream",
     "text": [
      "Hello Tim Berners-Lee you’re sorry you can’t invite them to dinner.\n"
     ]
    }
   ],
   "source": [
    "print(\"Hello \"+modifed_Guests[-1]+\" you’re sorry you can’t invite them to dinner.\")\n"
   ]
  },
  {
   "cell_type": "code",
   "execution_count": 61,
   "id": "d9bc7120-5a95-4e80-af87-d0897c6c83cc",
   "metadata": {},
   "outputs": [
    {
     "name": "stdout",
     "output_type": "stream",
     "text": [
      "Hello Edward you’re sorry you can’t invite them to dinner.\n"
     ]
    }
   ],
   "source": [
    "print(\"Hello \"+modifed_Guests[0]+\" you’re sorry you can’t invite them to dinner.\")\n"
   ]
  },
  {
   "cell_type": "code",
   "execution_count": 62,
   "id": "0e087bf4-d053-423a-833e-e16b4db2154c",
   "metadata": {},
   "outputs": [],
   "source": [
    "del modifed_Guests[0]\n"
   ]
  },
  {
   "cell_type": "code",
   "execution_count": 63,
   "id": "96ac46d8-94da-4e26-b163-9992bc7de92a",
   "metadata": {},
   "outputs": [
    {
     "data": {
      "text/plain": [
       "['Newton', 'Turing', 'Albert', 'Tim Berners-Lee']"
      ]
     },
     "execution_count": 63,
     "metadata": {},
     "output_type": "execute_result"
    }
   ],
   "source": [
    "modifed_Guests"
   ]
  },
  {
   "cell_type": "markdown",
   "id": "8cc0242b-845f-4117-a115-f6d765f39144",
   "metadata": {},
   "source": [
    "3-8. Seeing the World: Think of at least five places in the world you’d like to\n",
    "visit .\n",
    "\n",
    "•  Store the locations in a list . Make sure the list is not in alphabetical order .\n",
    "\n",
    "•  Print your list in its original order . Don’t worry about printing the list neatly,\n",
    "just print it as a raw Python list .\n",
    "\n",
    "•  Use sorted() to print your list in alphabetical order without modifying the\n",
    "actual list .\n",
    "\n",
    "•  Show that your list is still in its original order by printing it .\n",
    "•  Use sorted() to print your list in reverse alphabetical order without chang-\n",
    "ing the order of the original list .\n",
    "\n",
    "•  Show that your list is still in its original order by printing it again .\n",
    "\n",
    "•  Use reverse() to change the order of your list . Print the list to show that its\n",
    "order has changed .\n",
    "\n",
    "•  Use reverse() to change the order of your list again . Print the list to show\n",
    "it’s back to its original order .\n",
    "\n",
    "•  Use sort() to change your list so it’s stored in alphabetical order . Print the\n",
    "list to show that its order has been changed .\n",
    "\n",
    "•  Use sort() to change your list so it’s stored in reverse alphabetical order .\n",
    "\n",
    "Print the list to show that its order has changed ."
   ]
  },
  {
   "cell_type": "code",
   "execution_count": 64,
   "id": "8d4ae9f0-fceb-41f7-afcb-c2c795a9e63f",
   "metadata": {},
   "outputs": [],
   "source": [
    "visited_location = ['Hosur','Tiruchirapalli','Salem','Erode','Kumbakonam']"
   ]
  },
  {
   "cell_type": "code",
   "execution_count": 65,
   "id": "0081ba4d-5612-4188-ad6e-d933d3929c51",
   "metadata": {},
   "outputs": [
    {
     "name": "stdout",
     "output_type": "stream",
     "text": [
      "['Erode', 'Hosur', 'Kumbakonam', 'Salem', 'Tiruchirapalli']\n"
     ]
    }
   ],
   "source": [
    "print(sorted(visited_location))"
   ]
  },
  {
   "cell_type": "code",
   "execution_count": 66,
   "id": "2c191cb9-b695-4cfb-93ca-60d28cbf523e",
   "metadata": {},
   "outputs": [
    {
     "data": {
      "text/plain": [
       "['Hosur', 'Tiruchirapalli', 'Salem', 'Erode', 'Kumbakonam']"
      ]
     },
     "execution_count": 66,
     "metadata": {},
     "output_type": "execute_result"
    }
   ],
   "source": [
    "visited_location"
   ]
  },
  {
   "cell_type": "code",
   "execution_count": 67,
   "id": "e7aecaeb-7e4f-4dbe-a3a4-80c0af567d5b",
   "metadata": {},
   "outputs": [
    {
     "name": "stdout",
     "output_type": "stream",
     "text": [
      "['Erode', 'Hosur', 'Kumbakonam', 'Salem', 'Tiruchirapalli']\n",
      "['Kumbakonam', 'Erode', 'Salem', 'Tiruchirapalli', 'Hosur']\n"
     ]
    }
   ],
   "source": [
    "visited_location = ['Hosur','Tiruchirapalli','Salem','Erode','Kumbakonam']\n",
    "print(sorted(visited_location))\n",
    "visited_location.reverse()\n",
    "print(visited_location)\n"
   ]
  },
  {
   "cell_type": "markdown",
   "id": "e8ae08fd-28a6-4402-8bef-6b35ebdcccb0",
   "metadata": {},
   "source": [
    "3-9. Dinner Guests: Working with one of the programs from Exercises 3-4\n",
    "through 3-7 (page 46), use len() to print a message indicating the number\n",
    "of people you are inviting to dinner ."
   ]
  },
  {
   "cell_type": "code",
   "execution_count": 68,
   "id": "d8f043ad-e490-4bcd-b8c3-d313ee368f4c",
   "metadata": {},
   "outputs": [
    {
     "data": {
      "text/plain": [
       "4"
      ]
     },
     "execution_count": 68,
     "metadata": {},
     "output_type": "execute_result"
    }
   ],
   "source": [
    "len(modifed_Guests)"
   ]
  },
  {
   "cell_type": "markdown",
   "id": "550e05d9-d319-4b75-ad72-b799d47cb7fa",
   "metadata": {},
   "source": [
    "3-10. Every Function: Think of something you could store in a list . For example,\n",
    "you could make a list of mountains, rivers, countries, cities, languages, or any-\n",
    "thing else you’d like . Write a program that creates a list containing these items\n",
    "and then uses each function introduced in this chapter at least once ."
   ]
  },
  {
   "cell_type": "code",
   "execution_count": 69,
   "id": "8339860f-bac8-42cc-a9ba-1ec0f2115d63",
   "metadata": {},
   "outputs": [
    {
     "name": "stdout",
     "output_type": "stream",
     "text": [
      "Hosur in Tamilnadu\n",
      "Tiruchirapalli in Tamilnadu\n",
      "Salem in Tamilnadu\n",
      "Erode in Tamilnadu\n",
      "Kumbakonam in Tamilnadu\n"
     ]
    }
   ],
   "source": [
    "Cities = ['Hosur','Tiruchirapalli','Salem','Erode','Kumbakonam']\n",
    "for city in Cities:\n",
    "    print(city + \" in Tamilnadu\")"
   ]
  },
  {
   "cell_type": "markdown",
   "id": "cf52738c-12e3-4b0e-a20b-20bd00d1b80d",
   "metadata": {},
   "source": [
    "3-11. Intentional Error: If you haven’t received an index error in one of your\n",
    "programs yet, try to make one happen . Change an index in one of your pro-\n",
    "grams to produce an index error . Make sure you correct the error before clos-\n",
    "ing the program ."
   ]
  },
  {
   "cell_type": "code",
   "execution_count": 70,
   "id": "1891bb66-3091-49ce-9f94-e73b5a757e30",
   "metadata": {},
   "outputs": [
    {
     "name": "stdout",
     "output_type": "stream",
     "text": [
      "data engineering\n"
     ]
    }
   ],
   "source": [
    "'''subject = ['map reduce', 'machine learning', 'data visualization','data engineering','no sql','computer network']\n",
    "print(subject[6])'''\n",
    "subject = ['map reduce', 'machine learning', 'data visualization','data engineering','no sql','computer network']\n",
    "print(subject[3])"
   ]
  }
 ],
 "metadata": {
  "kernelspec": {
   "display_name": "Python 3 (ipykernel)",
   "language": "python",
   "name": "python3"
  },
  "language_info": {
   "codemirror_mode": {
    "name": "ipython",
    "version": 3
   },
   "file_extension": ".py",
   "mimetype": "text/x-python",
   "name": "python",
   "nbconvert_exporter": "python",
   "pygments_lexer": "ipython3",
   "version": "3.7.16"
  }
 },
 "nbformat": 4,
 "nbformat_minor": 5
}
