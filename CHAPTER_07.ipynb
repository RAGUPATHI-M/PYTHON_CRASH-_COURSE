{
 "cells": [
  {
   "cell_type": "markdown",
   "id": "cae4397d",
   "metadata": {},
   "source": [
    "CHAPTER-7 USER INPUT AND  LOOPS\n",
    "============="
   ]
  },
  {
   "cell_type": "markdown",
   "id": "a215d880",
   "metadata": {},
   "source": [
    "how the input() function works\n",
    "------------\n",
    "The input() function pauses your program and waits for the user to enter\n",
    "some text. Once Python receives the user’s input, it stores it in a variable to\n",
    "make it convenient for you to work with.\n",
    "\n",
    "For example, the following program asks the user to enter some text,\n",
    "then displays that message back to the user:"
   ]
  },
  {
   "cell_type": "code",
   "execution_count": 1,
   "id": "d63ad00b",
   "metadata": {},
   "outputs": [
    {
     "name": "stdout",
     "output_type": "stream",
     "text": [
      "chapter??\n"
     ]
    }
   ],
   "source": [
    "Message = input(\"chapter??\")"
   ]
  },
  {
   "cell_type": "code",
   "execution_count": null,
   "id": "16844e26",
   "metadata": {},
   "outputs": [],
   "source": []
  },
  {
   "cell_type": "markdown",
   "id": "3496052f",
   "metadata": {},
   "source": [
    "Type casting\n",
    "----"
   ]
  },
  {
   "cell_type": "code",
   "execution_count": 2,
   "id": "fe339ff7",
   "metadata": {},
   "outputs": [
    {
     "data": {
      "text/plain": [
       "str"
      ]
     },
     "execution_count": 2,
     "metadata": {},
     "output_type": "execute_result"
    }
   ],
   "source": [
    "Message\n",
    "type(Message)"
   ]
  },
  {
   "cell_type": "code",
   "execution_count": 3,
   "id": "1813a967",
   "metadata": {},
   "outputs": [
    {
     "name": "stdout",
     "output_type": "stream",
     "text": [
      "\n"
     ]
    }
   ],
   "source": [
    "Message = input()"
   ]
  },
  {
   "cell_type": "code",
   "execution_count": 4,
   "id": "25f8d2c9",
   "metadata": {},
   "outputs": [
    {
     "data": {
      "text/plain": [
       "str"
      ]
     },
     "execution_count": 4,
     "metadata": {},
     "output_type": "execute_result"
    }
   ],
   "source": [
    "type(Message)"
   ]
  },
  {
   "cell_type": "code",
   "execution_count": 5,
   "id": "64986424",
   "metadata": {},
   "outputs": [
    {
     "name": "stdout",
     "output_type": "stream",
     "text": [
      "\n"
     ]
    },
    {
     "ename": "SyntaxError",
     "evalue": "unexpected EOF while parsing (<string>, line 0)",
     "output_type": "error",
     "traceback": [
      "Traceback \u001b[1;36m(most recent call last)\u001b[0m:\n",
      "  File \u001b[0;32m~\\AppData\\Roaming\\Python\\Python310\\site-packages\\IPython\\core\\interactiveshell.py:3251\u001b[0m in \u001b[0;35mrun_code\u001b[0m\n    exec(code_obj, self.user_global_ns, self.user_ns)\n",
      "\u001b[1;36m  Input \u001b[1;32mIn [5]\u001b[1;36m in \u001b[1;35m<module>\u001b[1;36m\u001b[0m\n\u001b[1;33m    Message = eval(input())\u001b[0m\n",
      "\u001b[1;36m  File \u001b[1;32m<string>\u001b[1;36m\u001b[0m\n\u001b[1;33m    \u001b[0m\n\u001b[1;37m    ^\u001b[0m\n\u001b[1;31mSyntaxError\u001b[0m\u001b[1;31m:\u001b[0m unexpected EOF while parsing\n"
     ]
    }
   ],
   "source": [
    "Message = eval(input())"
   ]
  },
  {
   "cell_type": "code",
   "execution_count": 6,
   "id": "a6819fa7",
   "metadata": {},
   "outputs": [
    {
     "name": "stdout",
     "output_type": "stream",
     "text": [
      "<class 'str'>\n"
     ]
    }
   ],
   "source": [
    "print(type(Message))"
   ]
  },
  {
   "cell_type": "markdown",
   "id": "87d75367",
   "metadata": {},
   "source": [
    "Using int() to Accept Numerical Input\n",
    "-----------\n",
    "When you use the input() function, Python interprets everything the user \n",
    "enters as a string. Consider the following interpreter session, which asks for \n",
    "the user’s age:"
   ]
  },
  {
   "cell_type": "code",
   "execution_count": 7,
   "id": "3d481d70",
   "metadata": {},
   "outputs": [
    {
     "name": "stdout",
     "output_type": "stream",
     "text": [
      "How old are you?\n"
     ]
    }
   ],
   "source": [
    "Age = input(\"How old are you?\")\n",
    "\n"
   ]
  },
  {
   "cell_type": "code",
   "execution_count": 8,
   "id": "69e2bad7",
   "metadata": {},
   "outputs": [
    {
     "data": {
      "text/plain": [
       "str"
      ]
     },
     "execution_count": 8,
     "metadata": {},
     "output_type": "execute_result"
    }
   ],
   "source": [
    "type(Age)"
   ]
  },
  {
   "cell_type": "code",
   "execution_count": 9,
   "id": "f4dd5b45",
   "metadata": {},
   "outputs": [
    {
     "ename": "ValueError",
     "evalue": "invalid literal for int() with base 10: ''",
     "output_type": "error",
     "traceback": [
      "\u001b[1;31m-----------------------------------\u001b[0m",
      "\u001b[1;31mValueError\u001b[0mTraceback (most recent call last)",
      "Input \u001b[1;32mIn [9]\u001b[0m, in \u001b[0;36m<module>\u001b[1;34m\u001b[0m\n\u001b[1;32m----> 1\u001b[0m age \u001b[38;5;241m=\u001b[39m \u001b[38;5;28;43mint\u001b[39;49m\u001b[43m(\u001b[49m\u001b[43mAge\u001b[49m\u001b[43m)\u001b[49m\n",
      "\u001b[1;31mValueError\u001b[0m: invalid literal for int() with base 10: ''"
     ]
    }
   ],
   "source": [
    "age = int(Age)"
   ]
  },
  {
   "cell_type": "code",
   "execution_count": null,
   "id": "3070822d",
   "metadata": {},
   "outputs": [],
   "source": [
    "type(age)"
   ]
  },
  {
   "cell_type": "code",
   "execution_count": 10,
   "id": "de89bb2e",
   "metadata": {},
   "outputs": [
    {
     "name": "stdout",
     "output_type": "stream",
     "text": [
      "How tall are you, in inches? \n"
     ]
    },
    {
     "ename": "ValueError",
     "evalue": "invalid literal for int() with base 10: ''",
     "output_type": "error",
     "traceback": [
      "\u001b[1;31m-----------------------------------\u001b[0m",
      "\u001b[1;31mValueError\u001b[0mTraceback (most recent call last)",
      "Input \u001b[1;32mIn [10]\u001b[0m, in \u001b[0;36m<module>\u001b[1;34m\u001b[0m\n\u001b[1;32m----> 1\u001b[0m height \u001b[38;5;241m=\u001b[39m \u001b[38;5;28;43mint\u001b[39;49m\u001b[43m(\u001b[49m\u001b[38;5;28;43minput\u001b[39;49m\u001b[43m(\u001b[49m\u001b[38;5;124;43m\"\u001b[39;49m\u001b[38;5;124;43mHow tall are you, in inches? \u001b[39;49m\u001b[38;5;124;43m\"\u001b[39;49m\u001b[43m)\u001b[49m\u001b[43m)\u001b[49m\n\u001b[0;32m      2\u001b[0m \u001b[38;5;28;01mif\u001b[39;00m height \u001b[38;5;241m>\u001b[39m\u001b[38;5;241m=\u001b[39m \u001b[38;5;241m36\u001b[39m:\n\u001b[0;32m      3\u001b[0m  \u001b[38;5;28mprint\u001b[39m(\u001b[38;5;124m\"\u001b[39m\u001b[38;5;130;01m\\n\u001b[39;00m\u001b[38;5;124mYou\u001b[39m\u001b[38;5;124m'\u001b[39m\u001b[38;5;124mre tall enough to ride!\u001b[39m\u001b[38;5;124m\"\u001b[39m)\n",
      "\u001b[1;31mValueError\u001b[0m: invalid literal for int() with base 10: ''"
     ]
    }
   ],
   "source": [
    "height = int(input(\"How tall are you, in inches? \"))\n",
    "if height >= 36:\n",
    " print(\"\\nYou're tall enough to ride!\")\n",
    "else:\n",
    " print(\"\\nYou'll be able to ride when you're a little older.\")"
   ]
  },
  {
   "cell_type": "markdown",
   "id": "1c70cbfd",
   "metadata": {},
   "source": [
    "The Modulo Operator\n",
    "----\n",
    "A useful tool for working with numerical information is the modulo operator (%), \n",
    "which divides one number by another number and returns the remainder:"
   ]
  },
  {
   "cell_type": "code",
   "execution_count": 11,
   "id": "99953203",
   "metadata": {},
   "outputs": [
    {
     "data": {
      "text/plain": [
       "4"
      ]
     },
     "execution_count": 11,
     "metadata": {},
     "output_type": "execute_result"
    }
   ],
   "source": [
    "4 % 5"
   ]
  },
  {
   "cell_type": "code",
   "execution_count": 12,
   "id": "5ff3e70f",
   "metadata": {},
   "outputs": [
    {
     "data": {
      "text/plain": [
       "145"
      ]
     },
     "execution_count": 12,
     "metadata": {},
     "output_type": "execute_result"
    }
   ],
   "source": [
    "145 % 678"
   ]
  },
  {
   "cell_type": "code",
   "execution_count": 13,
   "id": "72e41f1a",
   "metadata": {},
   "outputs": [
    {
     "data": {
      "text/plain": [
       "68128"
      ]
     },
     "execution_count": 13,
     "metadata": {},
     "output_type": "execute_result"
    }
   ],
   "source": [
    "11098945678 % 78945"
   ]
  },
  {
   "cell_type": "markdown",
   "id": "06f87175",
   "metadata": {},
   "source": [
    "even or odd\n",
    "----"
   ]
  },
  {
   "cell_type": "code",
   "execution_count": 14,
   "id": "947ec980",
   "metadata": {},
   "outputs": [
    {
     "name": "stdout",
     "output_type": "stream",
     "text": [
      "Enter a number , I'll tell you if it's even or odd:\n"
     ]
    },
    {
     "ename": "ValueError",
     "evalue": "invalid literal for int() with base 10: ''",
     "output_type": "error",
     "traceback": [
      "\u001b[1;31m-----------------------------------\u001b[0m",
      "\u001b[1;31mValueError\u001b[0mTraceback (most recent call last)",
      "Input \u001b[1;32mIn [14]\u001b[0m, in \u001b[0;36m<module>\u001b[1;34m\u001b[0m\n\u001b[0;32m      1\u001b[0m Number \u001b[38;5;241m=\u001b[39m \u001b[38;5;28minput\u001b[39m(\u001b[38;5;124m\"\u001b[39m\u001b[38;5;124mEnter a number , I\u001b[39m\u001b[38;5;124m'\u001b[39m\u001b[38;5;124mll tell you if it\u001b[39m\u001b[38;5;124m'\u001b[39m\u001b[38;5;124ms even or odd:\u001b[39m\u001b[38;5;124m\"\u001b[39m)\n\u001b[1;32m----> 2\u001b[0m Number \u001b[38;5;241m=\u001b[39m \u001b[38;5;28;43mint\u001b[39;49m\u001b[43m(\u001b[49m\u001b[43mNumber\u001b[49m\u001b[43m)\u001b[49m\n\u001b[0;32m      3\u001b[0m \u001b[38;5;28;01mif\u001b[39;00m Number \u001b[38;5;241m%\u001b[39m \u001b[38;5;241m2\u001b[39m \u001b[38;5;241m==\u001b[39m \u001b[38;5;241m0\u001b[39m:\n\u001b[0;32m      4\u001b[0m     \u001b[38;5;28mprint\u001b[39m(\u001b[38;5;124m'\u001b[39m\u001b[38;5;130;01m\\n\u001b[39;00m\u001b[38;5;124m The number \u001b[39m\u001b[38;5;124m'\u001b[39m\u001b[38;5;241m+\u001b[39m \u001b[38;5;28mstr\u001b[39m(Number)\u001b[38;5;241m+\u001b[39m\u001b[38;5;124m\"\u001b[39m\u001b[38;5;124m is even \u001b[39m\u001b[38;5;124m\"\u001b[39m )\n",
      "\u001b[1;31mValueError\u001b[0m: invalid literal for int() with base 10: ''"
     ]
    }
   ],
   "source": [
    "Number = input(\"Enter a number , I'll tell you if it's even or odd:\")\n",
    "Number = int(Number)\n",
    "if Number % 2 == 0:\n",
    "    print('\\n The number '+ str(Number)+\" is even \" )\n",
    "else:\n",
    "    print('\\n The number '+ str(Number)+ \" is odd \")    "
   ]
  },
  {
   "cell_type": "markdown",
   "id": "19bb80ac",
   "metadata": {},
   "source": [
    "Introducing while Loops\n",
    "-----------\n",
    "The for loop takes a collection of items and executes a block of code once \n",
    "for each item in the collection. In contrast, the while loop runs as long as, \n",
    "or while, a certain condition is true. \n",
    "\n",
    "\n",
    "The while Loop in Action\n",
    "-------------\n",
    "You can use a while loop to count up through a series of numbers. For \n",
    "example, the following while loop counts from 1 to 5:"
   ]
  },
  {
   "cell_type": "code",
   "execution_count": 15,
   "id": "e02fa81a",
   "metadata": {},
   "outputs": [
    {
     "name": "stdout",
     "output_type": "stream",
     "text": [
      "1\n",
      "2\n",
      "3\n",
      "4\n",
      "5\n"
     ]
    }
   ],
   "source": [
    "current_number = 1\n",
    "while   current_number <= 5  :\n",
    "    print(current_number)\n",
    "    current_number += 1\n",
    "    "
   ]
  },
  {
   "cell_type": "markdown",
   "id": "5b274348",
   "metadata": {},
   "source": [
    "Using break to Exit a Loop\n",
    "----"
   ]
  },
  {
   "cell_type": "code",
   "execution_count": 16,
   "id": "b4dae414",
   "metadata": {},
   "outputs": [],
   "source": [
    "import random\n",
    "n = 20\n",
    "to_be_guessed = int(n * random.random())+1\n",
    "\n",
    "\n",
    "    "
   ]
  },
  {
   "cell_type": "code",
   "execution_count": 17,
   "id": "451f35e3",
   "metadata": {},
   "outputs": [
    {
     "name": "stdout",
     "output_type": "stream",
     "text": [
      "New Number:\n"
     ]
    },
    {
     "ename": "ValueError",
     "evalue": "invalid literal for int() with base 10: ''",
     "output_type": "error",
     "traceback": [
      "\u001b[1;31m-----------------------------------\u001b[0m",
      "\u001b[1;31mValueError\u001b[0mTraceback (most recent call last)",
      "Input \u001b[1;32mIn [17]\u001b[0m, in \u001b[0;36m<module>\u001b[1;34m\u001b[0m\n\u001b[0;32m      1\u001b[0m guess \u001b[38;5;241m=\u001b[39m \u001b[38;5;241m0\u001b[39m\n\u001b[0;32m      2\u001b[0m \u001b[38;5;28;01mwhile\u001b[39;00m guess \u001b[38;5;241m!=\u001b[39m to_be_guessed:\n\u001b[1;32m----> 3\u001b[0m     guess \u001b[38;5;241m=\u001b[39m \u001b[38;5;28;43mint\u001b[39;49m\u001b[43m(\u001b[49m\u001b[38;5;28;43minput\u001b[39;49m\u001b[43m(\u001b[49m\u001b[38;5;124;43m\"\u001b[39;49m\u001b[38;5;124;43mNew Number:\u001b[39;49m\u001b[38;5;124;43m\"\u001b[39;49m\u001b[43m)\u001b[49m\u001b[43m)\u001b[49m\n\u001b[0;32m      4\u001b[0m     \u001b[38;5;28;01mif\u001b[39;00m guess \u001b[38;5;241m==\u001b[39mto_be_guessed:\n\u001b[0;32m      5\u001b[0m         \u001b[38;5;28mprint\u001b[39m(\u001b[38;5;124m\"\u001b[39m\u001b[38;5;124mcongratulation. you made it!\u001b[39m\u001b[38;5;124m\"\u001b[39m)\n",
      "\u001b[1;31mValueError\u001b[0m: invalid literal for int() with base 10: ''"
     ]
    }
   ],
   "source": [
    "guess = 0\n",
    "while guess != to_be_guessed:\n",
    "    guess = int(input(\"New Number:\"))\n",
    "    if guess ==to_be_guessed:\n",
    "        print(\"congratulation. you made it!\")\n",
    "        break\n",
    "    elif guess > to_be_guessed:\n",
    "        print(\"Number too large\")\n",
    "    elif guess < to_be_guessed:\n",
    "        print(\"Number too small\")\n",
    "    else:\n",
    "        print(\"sorry that you're giving up!\")\n",
    "        break"
   ]
  },
  {
   "cell_type": "code",
   "execution_count": 18,
   "id": "89901e77",
   "metadata": {},
   "outputs": [
    {
     "name": "stdout",
     "output_type": "stream",
     "text": [
      "yes\n"
     ]
    }
   ],
   "source": [
    "x = 0\n",
    "while x <= 5:\n",
    "    print(\"yes\")\n",
    "    x +=1\n",
    "    break"
   ]
  },
  {
   "cell_type": "markdown",
   "id": "44c7eb14",
   "metadata": {},
   "source": [
    "# guess = 0\n",
    "while guess != to_be_guessed:\n",
    "    guess = int(input(\"New Number:\"))\n",
    "    if guess ==to_be_guessed:\n",
    "        print(\"congratulation. you made it!\")\n",
    "        break\n",
    "    elif guess > to_be_guessed:\n",
    "        print(\"Number too large\")\n",
    "        break\n",
    "    elif guess < to_be_guessed:\n",
    "        print(\"Number too small:\")\n",
    "        break\n",
    "    else:\n",
    "        print(\"sorry that you're giving up!\")\n",
    "        break"
   ]
  },
  {
   "cell_type": "markdown",
   "id": "0d2584dd",
   "metadata": {},
   "source": [
    "Using continue in a Loop\n",
    "---------------------"
   ]
  },
  {
   "cell_type": "code",
   "execution_count": 19,
   "id": "09a0e289",
   "metadata": {},
   "outputs": [
    {
     "name": "stdout",
     "output_type": "stream",
     "text": [
      "1\n",
      "3\n",
      "5\n",
      "7\n",
      "9\n"
     ]
    }
   ],
   "source": [
    "for i in range(1,11):\n",
    "    if i%2==0:\n",
    "        continue\n",
    "        \n",
    "    print(i)\n",
    "    \n"
   ]
  },
  {
   "cell_type": "markdown",
   "id": "c00a36b4",
   "metadata": {},
   "source": [
    "\"Write a program that prints the numbers from 1 to 100. \n",
    "But for multiples of three print “Fizz” instead of the number and for \n",
    "the multiples of five print “Buzz”. For numbers which are multiples of both \n",
    "three and five print “FizzBuzz”.\""
   ]
  },
  {
   "cell_type": "code",
   "execution_count": 20,
   "id": "ec0121c6",
   "metadata": {},
   "outputs": [
    {
     "name": "stdout",
     "output_type": "stream",
     "text": [
      "1\n",
      "2\n",
      "Fizz\n",
      "4\n",
      "Buzz\n",
      "Fizz\n",
      "7\n",
      "8\n",
      "Fizz\n",
      "Buzz\n",
      "11\n",
      "Fizz\n",
      "13\n",
      "14\n",
      "FuzzBuzz\n"
     ]
    }
   ],
   "source": [
    "for i in range(1,16):\n",
    "    if i%3==0 and i%5==0:\n",
    "        print(\"FuzzBuzz\")\n",
    "    elif i%5==0:\n",
    "        print(\"Buzz\")\n",
    "    elif i%3==0:\n",
    "        print(\"Fizz\")\n",
    "        \n",
    "    else:\n",
    "        print(i)\n",
    "   \n"
   ]
  },
  {
   "cell_type": "markdown",
   "id": "831092d5",
   "metadata": {},
   "source": [
    "Using pass in a Loop\n",
    "---------------------"
   ]
  },
  {
   "cell_type": "code",
   "execution_count": 21,
   "id": "81aeb740",
   "metadata": {},
   "outputs": [
    {
     "name": "stdout",
     "output_type": "stream",
     "text": [
      "1\n",
      "3\n",
      "5\n",
      "7\n",
      "9\n"
     ]
    }
   ],
   "source": [
    "for i in range(1,10):\n",
    "    if i%2==0:\n",
    "        pass\n",
    "    else:\n",
    "        print(i)\n"
   ]
  },
  {
   "cell_type": "markdown",
   "id": "8fd85098",
   "metadata": {},
   "source": [
    "Avoiding Infinite Loops\n",
    "--------------------\n",
    "Every while loop needs a way to stop running so it won’t continue to run for-\n",
    "ever. For example, this counting loop should count from 1 to 5:"
   ]
  },
  {
   "cell_type": "code",
   "execution_count": 22,
   "id": "4391869b",
   "metadata": {},
   "outputs": [
    {
     "name": "stdout",
     "output_type": "stream",
     "text": [
      "1\n",
      "2\n",
      "3\n",
      "4\n",
      "5\n"
     ]
    }
   ],
   "source": [
    "x = 1\n",
    "while x <= 5:\n",
    "    print(x)\n",
    "    x += 1"
   ]
  },
  {
   "cell_type": "code",
   "execution_count": 23,
   "id": "830fbd0e",
   "metadata": {},
   "outputs": [
    {
     "data": {
      "text/plain": [
       "'x = 1\\nwhile x => 5:\\n    print(x)\\n    x += 1'"
      ]
     },
     "execution_count": 23,
     "metadata": {},
     "output_type": "execute_result"
    }
   ],
   "source": [
    "'''x = 1\n",
    "while x => 5:\n",
    "    print(x)\n",
    "    x += 1'''   "
   ]
  },
  {
   "cell_type": "markdown",
   "id": "c365ec27",
   "metadata": {},
   "source": [
    "using a while loop with lists and dictionaries\n",
    "----------------------------------------------"
   ]
  },
  {
   "cell_type": "markdown",
   "id": "47eadeec",
   "metadata": {},
   "source": [
    "Moving Items from One List to Another\n",
    "-----"
   ]
  },
  {
   "cell_type": "code",
   "execution_count": 24,
   "id": "f9d19ed0",
   "metadata": {},
   "outputs": [
    {
     "name": "stdout",
     "output_type": "stream",
     "text": [
      "verfying seats: 18\n",
      "verfying seats: 12\n",
      "verfying seats: 8\n",
      "verfying seats: 6\n",
      "verfying seats: 4\n",
      "verfying seats: 1\n"
     ]
    },
    {
     "data": {
      "text/plain": [
       "[18, 12, 8, 6, 4, 1]"
      ]
     },
     "execution_count": 24,
     "metadata": {},
     "output_type": "execute_result"
    }
   ],
   "source": [
    "unconfirmed_seats = [1,4,6,8,12,18]\n",
    "confirmed_seats = []\n",
    "\n",
    "while unconfirmed_seats:\n",
    "    current_seats = unconfirmed_seats.pop()\n",
    "    print(\"verfying seats: \" + str(current_seats))\n",
    "    confirmed_seats.append(current_seats)\n",
    "    \n",
    "confirmed_seats"
   ]
  },
  {
   "cell_type": "markdown",
   "id": "ac035bc5",
   "metadata": {},
   "source": [
    "Removing All Instances of Specific Values from a List\n",
    "---------------------"
   ]
  },
  {
   "cell_type": "code",
   "execution_count": 25,
   "id": "6d4254ef",
   "metadata": {},
   "outputs": [
    {
     "name": "stdout",
     "output_type": "stream",
     "text": [
      "['dog', 'cat', 'goldfish', 'rabbit', 'dog', 'rabbit']\n",
      "['cat', 'goldfish', 'rabbit', 'rabbit']\n"
     ]
    }
   ],
   "source": [
    "pets = ['dog','cat','goldfish','rabbit','dog','rabbit']\n",
    "print(pets)\n",
    "while 'dog' in pets:\n",
    "    pets.remove('dog')\n",
    "print(pets)    "
   ]
  },
  {
   "cell_type": "markdown",
   "id": "f00980ac",
   "metadata": {},
   "source": [
    "Filling a Dictionary with User Input\n",
    "------------------------------------"
   ]
  },
  {
   "cell_type": "code",
   "execution_count": 26,
   "id": "135fccff",
   "metadata": {},
   "outputs": [
    {
     "name": "stdout",
     "output_type": "stream",
     "text": [
      "\n",
      " What is your name?\n",
      "Which mountain would you like to climb someday?\n",
      "\n",
      " Would you like to let another person respond? (yes/no)\n",
      "\n",
      " What is your name?\n",
      "Which mountain would you like to climb someday?\n",
      "\n",
      " Would you like to let another person respond? (yes/no)\n",
      "\n",
      " What is your name?\n",
      "Which mountain would you like to climb someday?\n",
      "\n",
      " Would you like to let another person respond? (yes/no)\n",
      "\n",
      " What is your name?\n",
      "Which mountain would you like to climb someday?e\n",
      "\n",
      " Would you like to let another person respond? (yes/no)no\n",
      "\n",
      " -----------Results--------------\n",
      " would like to climb e.\n"
     ]
    }
   ],
   "source": [
    "responses = {}\n",
    "active = True\n",
    "while active:\n",
    "    name = input(\"\\n What is your name?\")\n",
    "    reponse = input(\"Which mountain would you like to climb someday?\")\n",
    "    responses[name] = reponse\n",
    "    repeat =input(\"\\n Would you like to let another person respond? (yes/no)\")\n",
    "    if repeat ==\"no\":\n",
    "        active= False\n",
    "        \n",
    "        \n",
    "print(\"\\n -----------Results--------------\")   \n",
    "for name, response in responses.items():\n",
    "    print(name + \" would like to climb \" + response + \".\")\n",
    "\n",
    "    "
   ]
  },
  {
   "cell_type": "code",
   "execution_count": 27,
   "id": "ef2e82d9",
   "metadata": {},
   "outputs": [
    {
     "data": {
      "text/plain": [
       "{'': 'e'}"
      ]
     },
     "execution_count": 27,
     "metadata": {},
     "output_type": "execute_result"
    }
   ],
   "source": [
    "responses"
   ]
  },
  {
   "cell_type": "code",
   "execution_count": null,
   "id": "da1419e3",
   "metadata": {},
   "outputs": [],
   "source": []
  },
  {
   "cell_type": "code",
   "execution_count": null,
   "id": "873c7d21",
   "metadata": {},
   "outputs": [],
   "source": []
  },
  {
   "cell_type": "code",
   "execution_count": null,
   "id": "51df2eab",
   "metadata": {},
   "outputs": [],
   "source": []
  },
  {
   "cell_type": "code",
   "execution_count": null,
   "id": "19bbf573",
   "metadata": {},
   "outputs": [],
   "source": []
  }
 ],
 "metadata": {
  "kernelspec": {
   "display_name": "Python 3 (ipykernel)",
   "language": "python",
   "name": "python3"
  },
  "language_info": {
   "codemirror_mode": {
    "name": "ipython",
    "version": 3
   },
   "file_extension": ".py",
   "mimetype": "text/x-python",
   "name": "python",
   "nbconvert_exporter": "python",
   "pygments_lexer": "ipython3",
   "version": "3.10.0"
  }
 },
 "nbformat": 4,
 "nbformat_minor": 5
}
