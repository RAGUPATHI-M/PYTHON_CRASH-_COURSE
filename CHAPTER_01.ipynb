{
 "cells": [
  {
   "cell_type": "markdown",
   "metadata": {},
   "source": [
    "CHAPTER-1 Hello World\n",
    "==="
   ]
  },
  {
   "cell_type": "code",
   "execution_count": 1,
   "metadata": {},
   "outputs": [
    {
     "name": "stdout",
     "output_type": "stream",
     "text": [
      "Hello World\n"
     ]
    }
   ],
   "source": [
    "#It’s that simple,just used the jupyter notebook.\n",
    "#print() used to show the output.\n",
    "print(\"Hello World\")"
   ]
  },
  {
   "cell_type": "markdown",
   "metadata": {},
   "source": [
    "Try It Yourself\n",
    "---"
   ]
  },
  {
   "cell_type": "markdown",
   "metadata": {},
   "source": [
    "1-1. python.org: Explore the Python home page (http://python.org/ ) to find\n",
    "topics that interest you. As you become familiar with Python, different parts of\n",
    "the site will be more useful to you."
   ]
  },
  {
   "cell_type": "markdown",
   "metadata": {},
   "source": [
    "1-2. Hello World Typos: Open the CHAPTER_1.ipynb file you just created. Make a\n",
    "typo somewhere in the line and run the program again. Can you make a typo\n",
    "that generates an error? Can you make sense of the error message? Can you\n",
    "make a typo that doesn’t generate an error? Why do you think it didn’t make\n",
    "an error?"
   ]
  },
  {
   "cell_type": "markdown",
   "metadata": {},
   "source": [
    "1-3. Infinite Skills: If you had infinite programming skills, what would you build?\n",
    "You’re about to learn how to program. If you have an end goal in mind, you’ll\n",
    "have an immediate use for your new skills; now is a great time to draft descrip-\n",
    "tions of what you’d like to create. It’s a good habit to keep an “ideas” notebook\n",
    "that you can refer to whenever you want to start a new project. Take a few\n",
    "minutes now to describe three programs you’d like to create."
   ]
  },
  {
   "cell_type": "code",
   "execution_count": null,
   "metadata": {},
   "outputs": [],
   "source": []
  },
  {
   "cell_type": "code",
   "execution_count": null,
   "metadata": {},
   "outputs": [],
   "source": []
  },
  {
   "cell_type": "markdown",
   "metadata": {},
   "source": [
    "Exploration is curiosity put into action.\n",
    "================================="
   ]
  },
  {
   "cell_type": "code",
   "execution_count": null,
   "metadata": {},
   "outputs": [],
   "source": []
  }
 ],
 "metadata": {
  "interpreter": {
   "hash": "916dbcbb3f70747c44a77c7bcd40155683ae19c65e1c03b4aa3499c5328201f1"
  },
  "kernelspec": {
   "display_name": "Python 3 (ipykernel)",
   "language": "python",
   "name": "python3"
  },
  "language_info": {
   "codemirror_mode": {
    "name": "ipython",
    "version": 3
   },
   "file_extension": ".py",
   "mimetype": "text/x-python",
   "name": "python",
   "nbconvert_exporter": "python",
   "pygments_lexer": "ipython3",
   "version": "3.10.0"
  }
 },
 "nbformat": 4,
 "nbformat_minor": 2
}
