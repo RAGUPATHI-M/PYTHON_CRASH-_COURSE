{
 "cells": [
  {
   "cell_type": "markdown",
   "id": "85f07e77",
   "metadata": {},
   "source": [
    "CHAPTER-3  INTRODUCING LISTS\n",
    "==="
   ]
  },
  {
   "cell_type": "markdown",
   "id": "09e13907",
   "metadata": {},
   "source": [
    "What is list?\n",
    "---\n",
    "   A list is a collection of items in a particular order.\n",
    "   \n",
    "   you can make alist that includes the letters of alphabet, the digits    from 0-9,or the names of all people in your class."
   ]
  },
  {
   "cell_type": "code",
   "execution_count": 1,
   "id": "e91ad712",
   "metadata": {},
   "outputs": [
    {
     "name": "stdout",
     "output_type": "stream",
     "text": [
      "['ragu', 'jegan', 'vicky', 'krishna', 'navith', 'naveen', 'vel', 'kannan', 'abi']\n",
      "['ragu', 'jegan', 'vicky', 'krishna', 'navith', 'naveen', 'vel', 'kannan', 'abi', 2]\n"
     ]
    }
   ],
   "source": [
    "class_mates = ['ragu', 'jegan', 'vicky', 'krishna', 'navith', 'naveen', 'vel', 'kannan', 'abi']\n",
    "print(class_mates)\n",
    "class_mates = ['ragu', 'jegan', 'vicky', 'krishna', 'navith', 'naveen', 'vel', 'kannan', 'abi',2]\n",
    "print(class_mates)"
   ]
  },
  {
   "cell_type": "markdown",
   "id": "54275eea",
   "metadata": {},
   "source": [
    "Accessing Elements in a List\n",
    "----"
   ]
  },
  {
   "cell_type": "code",
   "execution_count": 2,
   "id": "68577312",
   "metadata": {},
   "outputs": [
    {
     "name": "stdout",
     "output_type": "stream",
     "text": [
      "vicky\n"
     ]
    }
   ],
   "source": [
    "print(class_mates[2])"
   ]
  },
  {
   "cell_type": "markdown",
   "id": "791bff6e",
   "metadata": {},
   "source": [
    "Python has a special syntax for accessing the last element in a list. By ask-\n",
    "ing for the item at index -1, Python always returns the last item in the list:"
   ]
  },
  {
   "cell_type": "code",
   "execution_count": 3,
   "id": "0ed8f8e2",
   "metadata": {},
   "outputs": [
    {
     "name": "stdout",
     "output_type": "stream",
     "text": [
      "2\n"
     ]
    }
   ],
   "source": [
    "print(class_mates[-1])"
   ]
  },
  {
   "cell_type": "code",
   "execution_count": 4,
   "id": "31c53b70",
   "metadata": {},
   "outputs": [
    {
     "ename": "AttributeError",
     "evalue": "'int' object has no attribute 'title'",
     "output_type": "error",
     "traceback": [
      "\u001b[1;31m-----------------------------------\u001b[0m",
      "\u001b[1;31mAttributeError\u001b[0mTraceback (most recent call last)",
      "Input \u001b[1;32mIn [4]\u001b[0m, in \u001b[0;36m<module>\u001b[1;34m\u001b[0m\n\u001b[1;32m----> 1\u001b[0m \u001b[38;5;28mprint\u001b[39m(\u001b[43mclass_mates\u001b[49m\u001b[43m[\u001b[49m\u001b[38;5;241;43m-\u001b[39;49m\u001b[38;5;241;43m1\u001b[39;49m\u001b[43m]\u001b[49m\u001b[38;5;241;43m.\u001b[39;49m\u001b[43mtitle\u001b[49m())\n",
      "\u001b[1;31mAttributeError\u001b[0m: 'int' object has no attribute 'title'"
     ]
    }
   ],
   "source": [
    "print(class_mates[-1].title())"
   ]
  },
  {
   "cell_type": "markdown",
   "id": "dd647bd7",
   "metadata": {},
   "source": [
    "Index Positions Start at 0, Not 1\n",
    "---\n",
    "\n",
    "\n",
    "Python considers the first item in a list to be at position 0, not position 1.\n",
    "This is true of most programming languages, and the reason has to do with\n",
    "how the list operations are implemented at a lower level. If you’re receiving\n",
    "unexpected results, determine whether you are making a simple off-by-one\n",
    "error.\n",
    "\n",
    "The second item in a list has an index of 1. Using this simple counting\n",
    "system, you can get any element you want from a list by subtracting one\n",
    "from its position in the list. For instance, to access the fourth item in a list,\n",
    "you request the item at index 3."
   ]
  },
  {
   "cell_type": "code",
   "execution_count": null,
   "id": "ff67a2cd",
   "metadata": {},
   "outputs": [],
   "source": [
    "print(class_mates[1])\n",
    "print(class_mates[3])"
   ]
  },
  {
   "cell_type": "markdown",
   "id": "19df2c36",
   "metadata": {},
   "source": [
    "Using Individual Values from a List\n",
    "---"
   ]
  },
  {
   "cell_type": "code",
   "execution_count": 5,
   "id": "528f17c4",
   "metadata": {},
   "outputs": [],
   "source": [
    "message = class_mates[-2].title()+\" \"+\"is an university hockey player\""
   ]
  },
  {
   "cell_type": "code",
   "execution_count": 6,
   "id": "29f57401",
   "metadata": {},
   "outputs": [
    {
     "name": "stdout",
     "output_type": "stream",
     "text": [
      "Abi is an university hockey player\n"
     ]
    }
   ],
   "source": [
    "print(message)"
   ]
  },
  {
   "cell_type": "markdown",
   "id": "acad45f9",
   "metadata": {},
   "source": [
    "Changing, adding, and removing elements\n",
    "---\n",
    "\n",
    "Most lists you create will be dynamic, meaning you’ll build a list and\n",
    "then add and remove elements from it as your program runs its course. For\n",
    "example, you might create a game in which a player has to shoot aliens out\n",
    "of the sky. You could store the initial set of aliens in a list and then remove\n",
    "an alien from the list each time one is shot down. Each time a new alien\n",
    "appears on the screen, you add it to the list. Your list of aliens will decrease\n",
    "and increase in length throughout the course of the game."
   ]
  },
  {
   "cell_type": "markdown",
   "id": "0157f21a",
   "metadata": {},
   "source": [
    "Modifying Elements in a List\n",
    "----\n",
    "The syntax for modifying an element is similar to the syntax for accessing\n",
    "an element in a list. To change an element, use the name of the list followed\n",
    "by the index of the element you want to change, and then provide the new\n",
    "value you want that item to have."
   ]
  },
  {
   "cell_type": "code",
   "execution_count": 7,
   "id": "ab80d665",
   "metadata": {},
   "outputs": [
    {
     "data": {
      "text/plain": [
       "['vector', 'statistics', 'algebra']"
      ]
     },
     "execution_count": 7,
     "metadata": {},
     "output_type": "execute_result"
    }
   ],
   "source": [
    "math = ['vector', 'statistics', 'algebra']\n",
    "math"
   ]
  },
  {
   "cell_type": "code",
   "execution_count": 8,
   "id": "9c3998db",
   "metadata": {},
   "outputs": [
    {
     "data": {
      "text/plain": [
       "['probability', 'statistics', 'algebra']"
      ]
     },
     "execution_count": 8,
     "metadata": {},
     "output_type": "execute_result"
    }
   ],
   "source": [
    "math[0] = 'probability'\n",
    "math"
   ]
  },
  {
   "cell_type": "markdown",
   "id": "33452a74",
   "metadata": {},
   "source": [
    "Adding Elements to a List\n",
    "---\n",
    "You might want to add a new element to a list for many reasons. For\n",
    "example, you might want to make new aliens appear in a game, add new\n",
    "data to a visualization, or add new registered users to a website you’ve\n",
    "built. Python provides several ways to add new data to existing lists."
   ]
  },
  {
   "cell_type": "markdown",
   "id": "59b638b8",
   "metadata": {},
   "source": [
    "appending Elements to the End of a List\n",
    "---\n",
    "The simplest way to add a new element to a list is to append the item to the\n",
    "list. When you append an item to a list, the new element is added to the end\n",
    "of the list. Using the same list we had in the previous example, we’ll add the\n",
    "new element 'ducati' to the end of the list:"
   ]
  },
  {
   "cell_type": "code",
   "execution_count": 9,
   "id": "f072416c",
   "metadata": {},
   "outputs": [
    {
     "data": {
      "text/plain": [
       "['vector', 'statistics', 'algebra', 'probability']"
      ]
     },
     "execution_count": 9,
     "metadata": {},
     "output_type": "execute_result"
    }
   ],
   "source": [
    "math = ['vector', 'statistics', 'algebra']\n",
    "math.append('probability')\n",
    "math"
   ]
  },
  {
   "cell_type": "code",
   "execution_count": 10,
   "id": "b901109a",
   "metadata": {},
   "outputs": [
    {
     "data": {
      "text/plain": [
       "['vector',\n",
       " 'statistics',\n",
       " 'algebra',\n",
       " 'probability',\n",
       " 'geometry',\n",
       " 'measurements',\n",
       " 'calculus']"
      ]
     },
     "execution_count": 10,
     "metadata": {},
     "output_type": "execute_result"
    }
   ],
   "source": [
    "math.append('geometry')\n",
    "math.append('measurements')\n",
    "math.append('calculus')\n",
    "math"
   ]
  },
  {
   "cell_type": "markdown",
   "id": "5da9a412",
   "metadata": {},
   "source": [
    "Inserting Elements into a List\n",
    "----\n",
    "You can add a new element at any position in your list by using the insert()\n",
    "method. You do this by specifying the index of the new element and the\n",
    "value of the new item."
   ]
  },
  {
   "cell_type": "code",
   "execution_count": 11,
   "id": "9e925113",
   "metadata": {},
   "outputs": [
    {
     "data": {
      "text/plain": [
       "['probability', 'vector', 'statistics', 'algebra']"
      ]
     },
     "execution_count": 11,
     "metadata": {},
     "output_type": "execute_result"
    }
   ],
   "source": [
    "math = ['vector', 'statistics', 'algebra']\n",
    "math.insert(0,'probability')\n",
    "math"
   ]
  },
  {
   "cell_type": "code",
   "execution_count": 12,
   "id": "2b365021",
   "metadata": {},
   "outputs": [
    {
     "data": {
      "text/plain": [
       "['vector', 'statistics', 'geometry', 'algebra']"
      ]
     },
     "execution_count": 12,
     "metadata": {},
     "output_type": "execute_result"
    }
   ],
   "source": [
    "math = ['vector', 'statistics', 'algebra']\n",
    "math.insert(-1,'geometry')\n",
    "math"
   ]
  },
  {
   "cell_type": "markdown",
   "id": "7140ac8c",
   "metadata": {},
   "source": [
    "Removing Elements from a List\n",
    "---\n",
    "Often, you’ll want to remove an item or a set of items from a list. "
   ]
  },
  {
   "cell_type": "markdown",
   "id": "f6add887",
   "metadata": {},
   "source": [
    "Removing an Item Using the del Statement\n",
    "---\n",
    "If you know the position of the item you want to remove from a list, you can\n",
    "use the del statement."
   ]
  },
  {
   "cell_type": "code",
   "execution_count": 13,
   "id": "28ec0a99",
   "metadata": {},
   "outputs": [
    {
     "data": {
      "text/plain": [
       "['statistics', 'algebra']"
      ]
     },
     "execution_count": 13,
     "metadata": {},
     "output_type": "execute_result"
    }
   ],
   "source": [
    "math = ['vector', 'statistics', 'algebra']\n",
    "del math[0]\n",
    "math\n"
   ]
  },
  {
   "cell_type": "code",
   "execution_count": 14,
   "id": "f4ead67c",
   "metadata": {},
   "outputs": [
    {
     "data": {
      "text/plain": [
       "['statistics']"
      ]
     },
     "execution_count": 14,
     "metadata": {},
     "output_type": "execute_result"
    }
   ],
   "source": [
    "del math[-1]\n",
    "math"
   ]
  },
  {
   "cell_type": "markdown",
   "id": "97637db1",
   "metadata": {},
   "source": [
    "Removing an Item Using the pop() Method\n",
    "---"
   ]
  },
  {
   "cell_type": "code",
   "execution_count": 15,
   "id": "3efb8396",
   "metadata": {},
   "outputs": [
    {
     "name": "stdout",
     "output_type": "stream",
     "text": [
      "['vector', 'statistics', 'algebra', 'probability', 'geometry', 'measurements', 'calculus']\n"
     ]
    }
   ],
   "source": [
    "math = ['vector','statistics','algebra','probability','geometry','measurements','calculus']\n",
    "print (math)"
   ]
  },
  {
   "cell_type": "code",
   "execution_count": 16,
   "id": "56fff1f9",
   "metadata": {},
   "outputs": [
    {
     "name": "stdout",
     "output_type": "stream",
     "text": [
      "calculus\n"
     ]
    }
   ],
   "source": [
    "popped_math = math.pop()\n",
    "print(popped_math)"
   ]
  },
  {
   "cell_type": "code",
   "execution_count": 17,
   "id": "86b91b8f",
   "metadata": {},
   "outputs": [
    {
     "name": "stdout",
     "output_type": "stream",
     "text": [
      "['vector', 'statistics', 'algebra', 'probability', 'geometry', 'measurements']\n"
     ]
    }
   ],
   "source": [
    "print(math)"
   ]
  },
  {
   "cell_type": "markdown",
   "id": "727fa60e",
   "metadata": {},
   "source": [
    "Popping Items from any Position in a List\n",
    "---"
   ]
  },
  {
   "cell_type": "code",
   "execution_count": 18,
   "id": "87b84cfe",
   "metadata": {},
   "outputs": [
    {
     "name": "stdout",
     "output_type": "stream",
     "text": [
      "statistics is a base of Machine Learning\n"
     ]
    }
   ],
   "source": [
    "math = ['vector','statistics','algebra','probability','geometry','measurements','calculus']\n",
    "popped_math = math.pop(1)\n",
    "print(popped_math+\" is a base of Machine Learning\")"
   ]
  },
  {
   "cell_type": "markdown",
   "id": "d6376999",
   "metadata": {},
   "source": [
    "Removing an Item by Value\n",
    "---"
   ]
  },
  {
   "cell_type": "code",
   "execution_count": 19,
   "id": "4c3adb61",
   "metadata": {},
   "outputs": [
    {
     "name": "stdout",
     "output_type": "stream",
     "text": [
      "['vector', 'statistics', 'probability', 'geometry', 'measurements', 'calculus']\n"
     ]
    }
   ],
   "source": [
    "math = ['vector','statistics','algebra','probability','geometry','measurements','calculus']\n",
    "math.remove('algebra')\n",
    "print(math)"
   ]
  },
  {
   "cell_type": "code",
   "execution_count": 20,
   "id": "e1ea71d6",
   "metadata": {},
   "outputs": [
    {
     "name": "stdout",
     "output_type": "stream",
     "text": [
      "\n",
      " Calculus is too hard for me.\n"
     ]
    }
   ],
   "source": [
    "math = ['vector','statistics','algebra','probability','geometry','measurements','calculus']\n",
    "too_hard = 'calculus'\n",
    "math.remove(too_hard)\n",
    "math\n",
    "print(\"\\n \" + too_hard.title() + \" is too hard for me.\")"
   ]
  },
  {
   "cell_type": "markdown",
   "id": "19cf1a6a",
   "metadata": {},
   "source": [
    "organizing a list\n",
    "---"
   ]
  },
  {
   "cell_type": "markdown",
   "id": "d11f1947",
   "metadata": {},
   "source": [
    "Sorting a List Permanently with the sort() Method\n",
    "---\n",
    "Python’s sort() method makes it relatively easy to sort a list. Imagine we\n",
    "have a list of cars and want to change the order of the list to store them\n",
    "alphabetically. To keep the task simple, let’s assume that all the values in\n",
    "the list are lowercase."
   ]
  },
  {
   "cell_type": "code",
   "execution_count": 21,
   "id": "d753f145",
   "metadata": {},
   "outputs": [
    {
     "data": {
      "text/plain": [
       "['map reduce',\n",
       " 'machine learning',\n",
       " 'data visualization',\n",
       " 'data engineering',\n",
       " 'no sql',\n",
       " 'computer network']"
      ]
     },
     "execution_count": 21,
     "metadata": {},
     "output_type": "execute_result"
    }
   ],
   "source": [
    "subject = ['map reduce', 'machine learning', 'data visualization','data engineering','no sql','computer network']\n",
    "subject"
   ]
  },
  {
   "cell_type": "code",
   "execution_count": 22,
   "id": "55f43c0a",
   "metadata": {},
   "outputs": [
    {
     "name": "stdout",
     "output_type": "stream",
     "text": [
      "['computer network', 'data engineering', 'data visualization', 'machine learning', 'map reduce', 'no sql']\n"
     ]
    }
   ],
   "source": [
    "subject.sort()\n",
    "print(subject)"
   ]
  },
  {
   "cell_type": "code",
   "execution_count": 23,
   "id": "7a15deb3",
   "metadata": {},
   "outputs": [
    {
     "name": "stdout",
     "output_type": "stream",
     "text": [
      "['no sql', 'map reduce', 'machine learning', 'data visualization', 'data engineering', 'computer network']\n"
     ]
    }
   ],
   "source": [
    "subject.sort(reverse=True)\n",
    "print(subject)"
   ]
  },
  {
   "cell_type": "code",
   "execution_count": 24,
   "id": "1f836e79",
   "metadata": {},
   "outputs": [
    {
     "name": "stdout",
     "output_type": "stream",
     "text": [
      "Here is the original list:\n",
      "['no sql', 'map reduce', 'machine learning', 'data visualization', 'data engineering', 'computer network']\n",
      "\n",
      "Here is the sorted list:\n",
      "['computer network', 'data engineering', 'data visualization', 'machine learning', 'map reduce', 'no sql']\n",
      "\n",
      "Here is the original list again:\n",
      "['no sql', 'map reduce', 'machine learning', 'data visualization', 'data engineering', 'computer network']\n"
     ]
    }
   ],
   "source": [
    "print(\"Here is the original list:\")\n",
    "print(subject)\n",
    "print(\"\\nHere is the sorted list:\")\n",
    "print(sorted(subject))\n",
    "print(\"\\nHere is the original list again:\")\n",
    "print(subject)"
   ]
  },
  {
   "cell_type": "markdown",
   "id": "c1809391",
   "metadata": {},
   "source": [
    "Printing a List in Reverse Order\n",
    "---"
   ]
  },
  {
   "cell_type": "markdown",
   "id": "338fa83f",
   "metadata": {},
   "source": [
    "To reverse the original order of a list, you can use the reverse() method.\n",
    "\n",
    "If we originally stored the list of cars in chronological order according to\n",
    "when we owned them, we could easily rearrange the list into reverse chron-ological order:"
   ]
  },
  {
   "cell_type": "code",
   "execution_count": 25,
   "id": "9359acfe",
   "metadata": {},
   "outputs": [
    {
     "name": "stdout",
     "output_type": "stream",
     "text": [
      "['computer network', 'no sql', 'data engineering', 'data visualization', 'machine learning', 'map reduce']\n"
     ]
    }
   ],
   "source": [
    "subject = ['map reduce', 'machine learning', 'data visualization','data engineering','no sql','computer network']\n",
    "subject.reverse()\n",
    "print(subject)"
   ]
  },
  {
   "cell_type": "markdown",
   "id": "17a31704",
   "metadata": {},
   "source": [
    "Finding the Length of a List\n",
    "---\n",
    "You can quickly find the length of a list by using the len() function. The list\n",
    "in this example has four items, so its length is 4:"
   ]
  },
  {
   "cell_type": "code",
   "execution_count": 26,
   "id": "d436d0b4",
   "metadata": {},
   "outputs": [
    {
     "data": {
      "text/plain": [
       "6"
      ]
     },
     "execution_count": 26,
     "metadata": {},
     "output_type": "execute_result"
    }
   ],
   "source": [
    "subject = ['map reduce', 'machine learning', 'data visualization','data engineering','no sql','computer network']\n",
    "len(subject)"
   ]
  },
  {
   "cell_type": "markdown",
   "id": "04a1aefd",
   "metadata": {},
   "source": [
    "Avoiding Index errors when working with lists\n",
    "---\n",
    "One type of error is common to see when you’re working with lists for the\n",
    "first time. Let’s say you have a list with three items, and you ask for the\n",
    "7th item:"
   ]
  },
  {
   "cell_type": "code",
   "execution_count": 27,
   "id": "5021d4aa",
   "metadata": {},
   "outputs": [
    {
     "ename": "IndexError",
     "evalue": "list index out of range",
     "output_type": "error",
     "traceback": [
      "\u001b[1;31m-----------------------------------\u001b[0m",
      "\u001b[1;31mIndexError\u001b[0mTraceback (most recent call last)",
      "Input \u001b[1;32mIn [27]\u001b[0m, in \u001b[0;36m<module>\u001b[1;34m\u001b[0m\n\u001b[0;32m      1\u001b[0m subject \u001b[38;5;241m=\u001b[39m [\u001b[38;5;124m'\u001b[39m\u001b[38;5;124mmap reduce\u001b[39m\u001b[38;5;124m'\u001b[39m, \u001b[38;5;124m'\u001b[39m\u001b[38;5;124mmachine learning\u001b[39m\u001b[38;5;124m'\u001b[39m, \u001b[38;5;124m'\u001b[39m\u001b[38;5;124mdata visualization\u001b[39m\u001b[38;5;124m'\u001b[39m,\u001b[38;5;124m'\u001b[39m\u001b[38;5;124mdata engineering\u001b[39m\u001b[38;5;124m'\u001b[39m,\u001b[38;5;124m'\u001b[39m\u001b[38;5;124mno sql\u001b[39m\u001b[38;5;124m'\u001b[39m,\u001b[38;5;124m'\u001b[39m\u001b[38;5;124mcomputer network\u001b[39m\u001b[38;5;124m'\u001b[39m]\n\u001b[1;32m----> 2\u001b[0m \u001b[38;5;28mprint\u001b[39m(\u001b[43msubject\u001b[49m\u001b[43m[\u001b[49m\u001b[38;5;241;43m6\u001b[39;49m\u001b[43m]\u001b[49m)\n",
      "\u001b[1;31mIndexError\u001b[0m: list index out of range"
     ]
    }
   ],
   "source": [
    "subject = ['map reduce', 'machine learning', 'data visualization','data engineering','no sql','computer network']\n",
    "print(subject[6])"
   ]
  },
  {
   "cell_type": "code",
   "execution_count": 28,
   "id": "1a344eb7",
   "metadata": {},
   "outputs": [
    {
     "name": "stdout",
     "output_type": "stream",
     "text": [
      "computer network\n"
     ]
    }
   ],
   "source": [
    "print(subject[-1])"
   ]
  },
  {
   "cell_type": "code",
   "execution_count": 29,
   "id": "411c4fca",
   "metadata": {},
   "outputs": [
    {
     "ename": "IndexError",
     "evalue": "list index out of range",
     "output_type": "error",
     "traceback": [
      "\u001b[1;31m-----------------------------------\u001b[0m",
      "\u001b[1;31mIndexError\u001b[0mTraceback (most recent call last)",
      "Input \u001b[1;32mIn [29]\u001b[0m, in \u001b[0;36m<module>\u001b[1;34m\u001b[0m\n\u001b[0;32m      1\u001b[0m subject\u001b[38;5;241m=\u001b[39m[]\n\u001b[1;32m----> 2\u001b[0m \u001b[38;5;28mprint\u001b[39m(\u001b[43msubject\u001b[49m\u001b[43m[\u001b[49m\u001b[38;5;241;43m0\u001b[39;49m\u001b[43m]\u001b[49m)\n",
      "\u001b[1;31mIndexError\u001b[0m: list index out of range"
     ]
    }
   ],
   "source": [
    "subject=[]\n",
    "print(subject[0])"
   ]
  },
  {
   "cell_type": "markdown",
   "id": "a44fda57",
   "metadata": {},
   "source": [
    "Try It yourse lf\n",
    "---\n",
    "\n",
    "Try these short programs to get some firsthand experience with Python’s lists .\n",
    "You might want to create a new folder for each chapter’s exercises to keep\n",
    "them organized ."
   ]
  },
  {
   "cell_type": "markdown",
   "id": "4bd57569",
   "metadata": {},
   "source": [
    "3-1. Names: Store the names of a few of your friends in a list called names . Print\n",
    "each person’s name by accessing each element in the list, one at a time ."
   ]
  },
  {
   "cell_type": "code",
   "execution_count": 30,
   "id": "e92ee1f3",
   "metadata": {},
   "outputs": [
    {
     "name": "stdout",
     "output_type": "stream",
     "text": [
      "akash\n",
      "muthu\n",
      "rokesh\n",
      "gokul\n"
     ]
    }
   ],
   "source": [
    "frnds = ['akash','muthu','rokesh','gokul']\n",
    "print(frnds[0])\n",
    "print(frnds[-3])\n",
    "print(frnds[2])\n",
    "print(frnds[-1])"
   ]
  },
  {
   "cell_type": "markdown",
   "id": "5de71bd7",
   "metadata": {},
   "source": [
    "3-2. Greetings: Start with the list you used in Exercise 3-1, but instead of just\n",
    "printing each person’s name, print a message to them . The text of each mes-\n",
    "sage should be the same, but each message should be personalized with the\n",
    "person’s name ."
   ]
  },
  {
   "cell_type": "code",
   "execution_count": 31,
   "id": "d486ddf4",
   "metadata": {},
   "outputs": [
    {
     "name": "stdout",
     "output_type": "stream",
     "text": [
      "akash from Ds\n",
      "rokesh from DS\n",
      "muthu from AI\n",
      "gokul from AI\n"
     ]
    }
   ],
   "source": [
    "frnds = ['akash','muthu','rokesh','gokul']\n",
    "print(frnds[0]+\" from Ds\")\n",
    "print(frnds[2]+\" from DS\")\n",
    "print(frnds[1]+\" from AI\")\n",
    "print(frnds[3]+\" from AI\")"
   ]
  },
  {
   "cell_type": "markdown",
   "id": "5df08bf5",
   "metadata": {},
   "source": [
    "3-3. Your Own List: Think of your favorite mode of transportation, such as a\n",
    "motorcycle or a car, and make a list that stores several examples . Use your list\n",
    "to print a series of statements about these items, such as “I would like to own a\n",
    "Honda motorcycle .”"
   ]
  },
  {
   "cell_type": "code",
   "execution_count": 32,
   "id": "379c86ce",
   "metadata": {},
   "outputs": [],
   "source": [
    "favorite_mode_of_transportation = [['tata','Volkswagen','Daimler','Ford'],['honda', 'yamaha', 'suzuki', 'ducati']]\n",
    "car = favorite_mode_of_transportation[0]\n",
    "bike = favorite_mode_of_transportation[1]"
   ]
  },
  {
   "cell_type": "code",
   "execution_count": 33,
   "id": "418359f5",
   "metadata": {},
   "outputs": [
    {
     "name": "stdout",
     "output_type": "stream",
     "text": [
      "['tata', 'Volkswagen', 'Daimler', 'Ford']\n",
      "['honda', 'yamaha', 'suzuki', 'ducati']\n"
     ]
    }
   ],
   "source": [
    "print(car)\n",
    "print(bike)"
   ]
  },
  {
   "cell_type": "code",
   "execution_count": 34,
   "id": "1e434256",
   "metadata": {},
   "outputs": [
    {
     "name": "stdout",
     "output_type": "stream",
     "text": [
      "Ducati is costly.\n"
     ]
    }
   ],
   "source": [
    "print(bike[-1].title()+\" is costly.\")"
   ]
  },
  {
   "cell_type": "code",
   "execution_count": 35,
   "id": "7a28d515",
   "metadata": {},
   "outputs": [
    {
     "name": "stdout",
     "output_type": "stream",
     "text": [
      "TATA,india’s leading automobile company.\n"
     ]
    }
   ],
   "source": [
    "print(car[0].upper()+\",india’s leading automobile company.\")"
   ]
  },
  {
   "cell_type": "markdown",
   "id": "4701abad",
   "metadata": {},
   "source": [
    " print a series of statements, what you want?"
   ]
  },
  {
   "cell_type": "markdown",
   "id": "86bd1ea5",
   "metadata": {},
   "source": [
    "3-4. Guest List: If you could invite anyone, living or deceased, to dinner, who\n",
    "would you invite? Make a list that includes at least three people you’d like to\n",
    "invite to dinner . Then use your list to print a message to each person, inviting\n",
    "them to dinner ."
   ]
  },
  {
   "cell_type": "code",
   "execution_count": 36,
   "id": "3cad3a52",
   "metadata": {},
   "outputs": [],
   "source": [
    "Guests=['Elon Musk','Linus Torvalds','Mark Zuckerburg','Newton','Turing','Albert']"
   ]
  },
  {
   "cell_type": "code",
   "execution_count": 37,
   "id": "6de2ad4a",
   "metadata": {},
   "outputs": [
    {
     "name": "stdout",
     "output_type": "stream",
     "text": [
      "Hello Mark Zuckerburg. Everything is well at my end and hope the same with you. In this letter, I wanted to invite you to have dinner with me and my family.\n"
     ]
    }
   ],
   "source": [
    "print(\"Hello \"+Guests[2]+\".\"\" Everything is well at my end and hope the same with you. In this letter, I wanted to invite you to have dinner with me and my family.\") "
   ]
  },
  {
   "cell_type": "code",
   "execution_count": 38,
   "id": "a3e290d1",
   "metadata": {},
   "outputs": [
    {
     "name": "stdout",
     "output_type": "stream",
     "text": [
      "Hello Elon Musk. Everything is well at my end and hope the same with you. In this letter, I wanted to invite you to have dinner with me and my family.\n"
     ]
    }
   ],
   "source": [
    "print(\"Hello \"+Guests[0]+\".\"\" Everything is well at my end and hope the same with you. In this letter, I wanted to invite you to have dinner with me and my family.\") "
   ]
  },
  {
   "cell_type": "code",
   "execution_count": 39,
   "id": "8f2b8abd",
   "metadata": {},
   "outputs": [
    {
     "name": "stdout",
     "output_type": "stream",
     "text": [
      "Hello Linus Torvalds. Everything is well at my end and hope the same with you. In this letter, I wanted to invite you to have dinner with me and my family.\n"
     ]
    }
   ],
   "source": [
    "print(\"Hello \"+Guests[1]+\".\"\" Everything is well at my end and hope the same with you. In this letter, I wanted to invite you to have dinner with me and my family.\") "
   ]
  },
  {
   "cell_type": "markdown",
   "id": "edae6bd7",
   "metadata": {},
   "source": [
    "3-5. Changing Guest List: You just heard that one of your guests can’t make the dinner, so you need to send out a new set of invitations . You’ll have to think of someone else to invite .\n",
    "\n",
    "•  Start with your program from Exercise 3-4 . Add a print statement at the\n",
    "end of your program stating the name of the guest who can’t make it .\n",
    "\n",
    "•  Modify your list, replacing the name of the guest who can’t make it with\n",
    "the name of the new person you are inviting .\n",
    "\n",
    "•  Print a second set of invitation messages, one for each person who is still\n",
    "in your list ."
   ]
  },
  {
   "cell_type": "code",
   "execution_count": 40,
   "id": "687edeaa",
   "metadata": {},
   "outputs": [],
   "source": [
    "Guests=['Elon Musk','Linus Torvalds','Mark Zuckerburg','Newton','Turing','Albert']"
   ]
  },
  {
   "cell_type": "code",
   "execution_count": 41,
   "id": "caa31660",
   "metadata": {},
   "outputs": [
    {
     "name": "stdout",
     "output_type": "stream",
     "text": [
      "Hello Mark Zuckerburg. Everything is well at my end and hope the same with you. In this letter, I wanted to invite you to have dinner with me and my family.\n"
     ]
    }
   ],
   "source": [
    "print(\"Hello \"+Guests[2]+\".\"\" Everything is well at my end and hope the same with you. In this letter, I wanted to invite you to have dinner with me and my family.\") "
   ]
  },
  {
   "cell_type": "code",
   "execution_count": 42,
   "id": "f812a34a",
   "metadata": {},
   "outputs": [
    {
     "name": "stdout",
     "output_type": "stream",
     "text": [
      "Hello Elon Musk. Everything is well at my end and hope the same with you. In this letter, I wanted to invite you to have dinner with me and my family.\n"
     ]
    }
   ],
   "source": [
    "print(\"Hello \"+Guests[0]+\".\"\" Everything is well at my end and hope the same with you. In this letter, I wanted to invite you to have dinner with me and my family.\") "
   ]
  },
  {
   "cell_type": "code",
   "execution_count": 43,
   "id": "e1dfce57",
   "metadata": {},
   "outputs": [
    {
     "name": "stdout",
     "output_type": "stream",
     "text": [
      "Hello Linus Torvalds. Everything is well at my end and hope the same with you. In this letter, I wanted to invite you to have dinner with me and my family.\n"
     ]
    }
   ],
   "source": [
    "print(\"Hello \"+Guests[1]+\".\"\" Everything is well at my end and hope the same with you. In this letter, I wanted to invite you to have dinner with me and my family.\") "
   ]
  },
  {
   "cell_type": "markdown",
   "id": "b6cac9f6",
   "metadata": {},
   "source": [
    "__________________________________________________________________"
   ]
  },
  {
   "cell_type": "code",
   "execution_count": 44,
   "id": "25584aa0",
   "metadata": {},
   "outputs": [],
   "source": [
    "Guests[0] = 'Edward'\n",
    "modifed_Guests = Guests\n",
    "\n"
   ]
  },
  {
   "cell_type": "code",
   "execution_count": 45,
   "id": "ac5cc8bf",
   "metadata": {},
   "outputs": [
    {
     "name": "stdout",
     "output_type": "stream",
     "text": [
      "Hello Mark Zuckerburg. Everything is well at my end and hope the same with you. In this letter, I wanted to invite you to have dinner with me and my family.\n"
     ]
    }
   ],
   "source": [
    "print(\"Hello \"+modifed_Guests[2]+\".\"\" Everything is well at my end and hope the same with you. In this letter, I wanted to invite you to have dinner with me and my family.\") "
   ]
  },
  {
   "cell_type": "code",
   "execution_count": 46,
   "id": "7ec37321",
   "metadata": {},
   "outputs": [
    {
     "name": "stdout",
     "output_type": "stream",
     "text": [
      "Hello Edward. Everything is well at my end and hope the same with you. In this letter, I wanted to invite you to have dinner with me and my family.\n"
     ]
    }
   ],
   "source": [
    "print(\"Hello \"+modifed_Guests[0]+\".\"\" Everything is well at my end and hope the same with you. In this letter, I wanted to invite you to have dinner with me and my family.\") "
   ]
  },
  {
   "cell_type": "code",
   "execution_count": 47,
   "id": "454a1e5c",
   "metadata": {},
   "outputs": [
    {
     "name": "stdout",
     "output_type": "stream",
     "text": [
      "Hello Linus Torvalds. Everything is well at my end and hope the same with you. In this letter, I wanted to invite you to have dinner with me and my family.\n"
     ]
    }
   ],
   "source": [
    "print(\"Hello \"+modifed_Guests[1]+\".\"\" Everything is well at my end and hope the same with you. In this letter, I wanted to invite you to have dinner with me and my family.\") "
   ]
  },
  {
   "cell_type": "markdown",
   "id": "ea854eff",
   "metadata": {},
   "source": [
    "3-6. More Guests: You just found a bigger dinner table, so now more space is\n",
    "available . Think of three more guests to invite to dinner.\n",
    "\n",
    "•  Start with your program from Exercise 3-4 or Exercise 3-5 . Add a print\n",
    "statement to the end of your program informing people that you found a\n",
    "bigger dinner table .\n",
    "\n",
    "•  Use insert() to add one new guest to the beginning of your list .\n",
    "\n",
    "•  Use insert() to add one new guest to the middle of your list .\n",
    "\n",
    "•  Use append() to add one new guest to the end of your list .\n",
    "\n",
    "•  Print a new set of invitation messages, one for each person in your list "
   ]
  },
  {
   "cell_type": "code",
   "execution_count": 48,
   "id": "a06bd6ed",
   "metadata": {},
   "outputs": [
    {
     "data": {
      "text/plain": [
       "['Edward', 'Linus Torvalds', 'Mark Zuckerburg', 'Newton', 'Turing', 'Albert']"
      ]
     },
     "execution_count": 48,
     "metadata": {},
     "output_type": "execute_result"
    }
   ],
   "source": [
    "modifed_Guests"
   ]
  },
  {
   "cell_type": "code",
   "execution_count": 49,
   "id": "88822e3e",
   "metadata": {},
   "outputs": [],
   "source": [
    "modifed_Guests.insert(0,'sher lock') "
   ]
  },
  {
   "cell_type": "code",
   "execution_count": 50,
   "id": "4c5da00b",
   "metadata": {},
   "outputs": [
    {
     "data": {
      "text/plain": [
       "['sher lock',\n",
       " 'Edward',\n",
       " 'Linus Torvalds',\n",
       " 'Mark Zuckerburg',\n",
       " 'Newton',\n",
       " 'Turing',\n",
       " 'Albert']"
      ]
     },
     "execution_count": 50,
     "metadata": {},
     "output_type": "execute_result"
    }
   ],
   "source": [
    "modifed_Guests"
   ]
  },
  {
   "cell_type": "code",
   "execution_count": 51,
   "id": "29d7d08b",
   "metadata": {},
   "outputs": [],
   "source": [
    "modifed_Guests.insert(3,'Guido Van Rassum') "
   ]
  },
  {
   "cell_type": "code",
   "execution_count": 52,
   "id": "20ef797f",
   "metadata": {},
   "outputs": [
    {
     "data": {
      "text/plain": [
       "['sher lock',\n",
       " 'Edward',\n",
       " 'Linus Torvalds',\n",
       " 'Guido Van Rassum',\n",
       " 'Mark Zuckerburg',\n",
       " 'Newton',\n",
       " 'Turing',\n",
       " 'Albert']"
      ]
     },
     "execution_count": 52,
     "metadata": {},
     "output_type": "execute_result"
    }
   ],
   "source": [
    "modifed_Guests"
   ]
  },
  {
   "cell_type": "code",
   "execution_count": 53,
   "id": "99ddde1e",
   "metadata": {},
   "outputs": [],
   "source": [
    "modifed_Guests.append('Tim Berners-Lee') "
   ]
  },
  {
   "cell_type": "code",
   "execution_count": 54,
   "id": "3eace252",
   "metadata": {},
   "outputs": [
    {
     "data": {
      "text/plain": [
       "['sher lock',\n",
       " 'Edward',\n",
       " 'Linus Torvalds',\n",
       " 'Guido Van Rassum',\n",
       " 'Mark Zuckerburg',\n",
       " 'Newton',\n",
       " 'Turing',\n",
       " 'Albert',\n",
       " 'Tim Berners-Lee']"
      ]
     },
     "execution_count": 54,
     "metadata": {},
     "output_type": "execute_result"
    }
   ],
   "source": [
    "modifed_Guests"
   ]
  },
  {
   "cell_type": "code",
   "execution_count": 55,
   "id": "a5974996",
   "metadata": {},
   "outputs": [
    {
     "name": "stdout",
     "output_type": "stream",
     "text": [
      "Hello Turing. Everything is well at my end and hope the same with you. In this letter, I wanted to invite you to have dinner with me and my family.\n"
     ]
    }
   ],
   "source": [
    "print(\"Hello \"+modifed_Guests[-3]+\".\"\" Everything is well at my end and hope the same with you. In this letter, I wanted to invite you to have dinner with me and my family.\") "
   ]
  },
  {
   "cell_type": "markdown",
   "id": "53d58375",
   "metadata": {},
   "source": [
    "3-7. Shrinking Guest List: You just found out that your new dinner table won’t\n",
    "arrive in time for the dinner, and you have space for only two guests .\n",
    "\n",
    "•  Start with your program from Exercise 3-6 . Add a new line that prints a\n",
    "message saying that you can invite only two people for dinner .\n",
    "\n",
    "•  Use pop() to remove guests from your list one at a time until only two\n",
    "names remain in your list . Each time you pop a name from your list, print\n",
    "a message to that person letting them know you’re sorry you can’t invite\n",
    "them to dinner .\n",
    "\n",
    "•  Print a message to each of the two people still on your list, letting them\n",
    "know they’re still invited .\n",
    "\n",
    "•  Use del to remove the last two names from your list, so you have an empty\n",
    "list . Print your list to make sure you actually have an empty list at the end\n",
    "of your program "
   ]
  },
  {
   "cell_type": "code",
   "execution_count": 56,
   "id": "f6834e51",
   "metadata": {},
   "outputs": [
    {
     "name": "stdout",
     "output_type": "stream",
     "text": [
      "Hello Turing. Everything is well at my end and hope the same with you. In this letter, I wanted to invite you to have dinner with me and my family.\n"
     ]
    }
   ],
   "source": [
    "print(\"Hello \"+modifed_Guests[-3]+\".\"\" Everything is well at my end and hope the same with you. In this letter, I wanted to invite you to have dinner with me and my family.\") "
   ]
  },
  {
   "cell_type": "code",
   "execution_count": 57,
   "id": "23a59bf7",
   "metadata": {},
   "outputs": [
    {
     "name": "stdout",
     "output_type": "stream",
     "text": [
      "Hello Tim Berners-Lee. Everything is well at my end and hope the same with you. In this letter, I wanted to invite you to have dinner with me and my family.\n"
     ]
    }
   ],
   "source": [
    "print(\"Hello \"+modifed_Guests[-1]+\".\"\" Everything is well at my end and hope the same with you. In this letter, I wanted to invite you to have dinner with me and my family.\") "
   ]
  },
  {
   "cell_type": "code",
   "execution_count": 58,
   "id": "a1d02f13",
   "metadata": {},
   "outputs": [
    {
     "data": {
      "text/plain": [
       "'Guido Van Rassum'"
      ]
     },
     "execution_count": 58,
     "metadata": {},
     "output_type": "execute_result"
    }
   ],
   "source": [
    "modifed_Guests.pop(0)\n",
    "modifed_Guests.pop(1)\n",
    "modifed_Guests.pop(2)\n",
    "modifed_Guests.pop(1)"
   ]
  },
  {
   "cell_type": "code",
   "execution_count": 59,
   "id": "d7b27535",
   "metadata": {},
   "outputs": [
    {
     "data": {
      "text/plain": [
       "['Edward', 'Newton', 'Turing', 'Albert', 'Tim Berners-Lee']"
      ]
     },
     "execution_count": 59,
     "metadata": {},
     "output_type": "execute_result"
    }
   ],
   "source": [
    "modifed_Guests"
   ]
  },
  {
   "cell_type": "code",
   "execution_count": 60,
   "id": "7dc0c236",
   "metadata": {},
   "outputs": [
    {
     "name": "stdout",
     "output_type": "stream",
     "text": [
      "Hello Tim Berners-Lee you’re sorry you can’t invite them to dinner.\n"
     ]
    }
   ],
   "source": [
    "print(\"Hello \"+modifed_Guests[-1]+\" you’re sorry you can’t invite them to dinner.\")\n"
   ]
  },
  {
   "cell_type": "code",
   "execution_count": 61,
   "id": "34f25146",
   "metadata": {},
   "outputs": [
    {
     "name": "stdout",
     "output_type": "stream",
     "text": [
      "Hello Edward you’re sorry you can’t invite them to dinner.\n"
     ]
    }
   ],
   "source": [
    "print(\"Hello \"+modifed_Guests[0]+\" you’re sorry you can’t invite them to dinner.\")\n"
   ]
  },
  {
   "cell_type": "code",
   "execution_count": 62,
   "id": "9ce30378",
   "metadata": {},
   "outputs": [],
   "source": [
    "del modifed_Guests[0]\n"
   ]
  },
  {
   "cell_type": "code",
   "execution_count": 63,
   "id": "b3a9c193",
   "metadata": {},
   "outputs": [
    {
     "data": {
      "text/plain": [
       "['Newton', 'Turing', 'Albert', 'Tim Berners-Lee']"
      ]
     },
     "execution_count": 63,
     "metadata": {},
     "output_type": "execute_result"
    }
   ],
   "source": [
    "modifed_Guests"
   ]
  },
  {
   "cell_type": "markdown",
   "id": "8237d03f",
   "metadata": {},
   "source": [
    "3-8. Seeing the World: Think of at least five places in the world you’d like to\n",
    "visit .\n",
    "\n",
    "•  Store the locations in a list . Make sure the list is not in alphabetical order .\n",
    "\n",
    "•  Print your list in its original order . Don’t worry about printing the list neatly,\n",
    "just print it as a raw Python list .\n",
    "\n",
    "•  Use sorted() to print your list in alphabetical order without modifying the\n",
    "actual list .\n",
    "\n",
    "•  Show that your list is still in its original order by printing it .\n",
    "•  Use sorted() to print your list in reverse alphabetical order without chang-\n",
    "ing the order of the original list .\n",
    "\n",
    "•  Show that your list is still in its original order by printing it again .\n",
    "\n",
    "•  Use reverse() to change the order of your list . Print the list to show that its\n",
    "order has changed .\n",
    "\n",
    "•  Use reverse() to change the order of your list again . Print the list to show\n",
    "it’s back to its original order .\n",
    "\n",
    "•  Use sort() to change your list so it’s stored in alphabetical order . Print the\n",
    "list to show that its order has been changed .\n",
    "\n",
    "•  Use sort() to change your list so it’s stored in reverse alphabetical order .\n",
    "\n",
    "Print the list to show that its order has changed ."
   ]
  },
  {
   "cell_type": "code",
   "execution_count": 64,
   "id": "12a82c5d",
   "metadata": {},
   "outputs": [],
   "source": [
    "visited_location = ['Hosur','Tiruchirapalli','Salem','Erode','Kumbakonam']"
   ]
  },
  {
   "cell_type": "code",
   "execution_count": 65,
   "id": "4e6e7e4f",
   "metadata": {},
   "outputs": [
    {
     "name": "stdout",
     "output_type": "stream",
     "text": [
      "['Erode', 'Hosur', 'Kumbakonam', 'Salem', 'Tiruchirapalli']\n"
     ]
    }
   ],
   "source": [
    "print(sorted(visited_location))"
   ]
  },
  {
   "cell_type": "code",
   "execution_count": 66,
   "id": "a0dc1dfa",
   "metadata": {},
   "outputs": [
    {
     "data": {
      "text/plain": [
       "['Hosur', 'Tiruchirapalli', 'Salem', 'Erode', 'Kumbakonam']"
      ]
     },
     "execution_count": 66,
     "metadata": {},
     "output_type": "execute_result"
    }
   ],
   "source": [
    "visited_location"
   ]
  },
  {
   "cell_type": "code",
   "execution_count": 67,
   "id": "ffdfb930",
   "metadata": {},
   "outputs": [
    {
     "name": "stdout",
     "output_type": "stream",
     "text": [
      "['Erode', 'Hosur', 'Kumbakonam', 'Salem', 'Tiruchirapalli']\n",
      "['Kumbakonam', 'Erode', 'Salem', 'Tiruchirapalli', 'Hosur']\n"
     ]
    }
   ],
   "source": [
    "visited_location = ['Hosur','Tiruchirapalli','Salem','Erode','Kumbakonam']\n",
    "print(sorted(visited_location))\n",
    "visited_location.reverse()\n",
    "print(visited_location)\n"
   ]
  },
  {
   "cell_type": "markdown",
   "id": "e52e59eb",
   "metadata": {},
   "source": [
    "3-9. Dinner Guests: Working with one of the programs from Exercises 3-4\n",
    "through 3-7 (page 46), use len() to print a message indicating the number\n",
    "of people you are inviting to dinner ."
   ]
  },
  {
   "cell_type": "code",
   "execution_count": 68,
   "id": "b701e6fc",
   "metadata": {},
   "outputs": [
    {
     "data": {
      "text/plain": [
       "4"
      ]
     },
     "execution_count": 68,
     "metadata": {},
     "output_type": "execute_result"
    }
   ],
   "source": [
    "len(modifed_Guests)"
   ]
  },
  {
   "cell_type": "markdown",
   "id": "7e79a9ed",
   "metadata": {},
   "source": [
    "3-10. Every Function: Think of something you could store in a list . For example,\n",
    "you could make a list of mountains, rivers, countries, cities, languages, or any-\n",
    "thing else you’d like . Write a program that creates a list containing these items\n",
    "and then uses each function introduced in this chapter at least once ."
   ]
  },
  {
   "cell_type": "code",
   "execution_count": 69,
   "id": "ff895c0c",
   "metadata": {},
   "outputs": [
    {
     "name": "stdout",
     "output_type": "stream",
     "text": [
      "Hosur in Tamilnadu\n",
      "Tiruchirapalli in Tamilnadu\n",
      "Salem in Tamilnadu\n",
      "Erode in Tamilnadu\n",
      "Kumbakonam in Tamilnadu\n"
     ]
    }
   ],
   "source": [
    "Cities = ['Hosur','Tiruchirapalli','Salem','Erode','Kumbakonam']\n",
    "for city in Cities:\n",
    "    print(city + \" in Tamilnadu\")"
   ]
  },
  {
   "cell_type": "markdown",
   "id": "8884d3b2",
   "metadata": {},
   "source": [
    "3-11. Intentional Error: If you haven’t received an index error in one of your\n",
    "programs yet, try to make one happen . Change an index in one of your pro-\n",
    "grams to produce an index error . Make sure you correct the error before clos-\n",
    "ing the program ."
   ]
  },
  {
   "cell_type": "code",
   "execution_count": 70,
   "id": "3bd6ff50",
   "metadata": {},
   "outputs": [
    {
     "name": "stdout",
     "output_type": "stream",
     "text": [
      "data engineering\n"
     ]
    }
   ],
   "source": [
    "'''subject = ['map reduce', 'machine learning', 'data visualization','data engineering','no sql','computer network']\n",
    "print(subject[6])'''\n",
    "subject = ['map reduce', 'machine learning', 'data visualization','data engineering','no sql','computer network']\n",
    "print(subject[3])"
   ]
  },
  {
   "cell_type": "code",
   "execution_count": null,
   "id": "87b0ffc4",
   "metadata": {},
   "outputs": [],
   "source": []
  },
  {
   "cell_type": "code",
   "execution_count": null,
   "id": "8f546aaa",
   "metadata": {},
   "outputs": [],
   "source": []
  },
  {
   "cell_type": "code",
   "execution_count": null,
   "id": "66afebc6",
   "metadata": {},
   "outputs": [],
   "source": []
  }
 ],
 "metadata": {
  "kernelspec": {
   "display_name": "Python 3 (ipykernel)",
   "language": "python",
   "name": "python3"
  },
  "language_info": {
   "codemirror_mode": {
    "name": "ipython",
    "version": 3
   },
   "file_extension": ".py",
   "mimetype": "text/x-python",
   "name": "python",
   "nbconvert_exporter": "python",
   "pygments_lexer": "ipython3",
   "version": "3.10.0"
  }
 },
 "nbformat": 4,
 "nbformat_minor": 5
}
