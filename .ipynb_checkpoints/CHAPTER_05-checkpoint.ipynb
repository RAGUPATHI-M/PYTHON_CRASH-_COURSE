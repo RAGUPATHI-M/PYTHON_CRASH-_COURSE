{
 "cells": [
  {
   "cell_type": "markdown",
   "metadata": {},
   "source": [
    "CHAPTER-5 IF STATEMENTS\n",
    "====="
   ]
  },
  {
   "cell_type": "markdown",
   "metadata": {},
   "source": [
    "In this chapter you’ll learn to write conditional tests, which allow you to\n",
    "check any condition of interest. You’ll learn to write simple if statements,\n",
    "and you’ll learn how to create a more complex series of if statements to\n",
    "identify when the exact conditions you want are present. You’ll then apply\n",
    "this concept to lists, so you’ll be able to write a for loop that handles most\n",
    "items in a list one way but handles certain items with specific values in a\n",
    "different way."
   ]
  },
  {
   "cell_type": "markdown",
   "metadata": {},
   "source": [
    "\n",
    "A simple example\n",
    "---"
   ]
  },
  {
   "cell_type": "code",
   "execution_count": 1,
   "metadata": {},
   "outputs": [],
   "source": [
    "List_of_os = ['Qubes','Linux', 'Unix', 'Windows']\n"
   ]
  },
  {
   "cell_type": "code",
   "execution_count": 2,
   "metadata": {},
   "outputs": [
    {
     "name": "stdout",
     "output_type": "stream",
     "text": [
      "QUBES\n",
      "Linux\n",
      "Unix\n",
      "Windows\n"
     ]
    }
   ],
   "source": [
    "for os in List_of_os:\n",
    "    if os == 'Qubes':\n",
    "        print(os.upper())\n",
    "    else:\n",
    "        print(os.title())    \n"
   ]
  },
  {
   "cell_type": "markdown",
   "metadata": {},
   "source": [
    "Conditional tests\n",
    "----"
   ]
  },
  {
   "cell_type": "markdown",
   "metadata": {},
   "source": [
    "At the heart of every if statement is an expression that can be evaluated as\n",
    "True or False and is called a conditional test. Python uses the values True and\n",
    "False to decide whether the code in an if statement should be executed. If a\n",
    "conditional test evaluates to True, Python executes the code following the if\n",
    "statement. If the test evaluates to False, Python ignores the code following\n",
    "the if statement."
   ]
  },
  {
   "cell_type": "markdown",
   "metadata": {},
   "source": [
    "Checking for Equality\n",
    "----\n",
    "Most conditional tests compare the current value of a variable to a specific\n",
    "value of interest. The simplest conditional test checks whether the value of a\n",
    "variable is equal to the value of interest:"
   ]
  },
  {
   "cell_type": "code",
   "execution_count": 3,
   "metadata": {},
   "outputs": [],
   "source": [
    "Machine_Name = \"Zephyrus\""
   ]
  },
  {
   "cell_type": "code",
   "execution_count": 4,
   "metadata": {},
   "outputs": [
    {
     "data": {
      "text/plain": [
       "True"
      ]
     },
     "execution_count": 4,
     "metadata": {},
     "output_type": "execute_result"
    }
   ],
   "source": [
    "Machine_Name == \"Zephyrus\""
   ]
  },
  {
   "cell_type": "code",
   "execution_count": 5,
   "metadata": {},
   "outputs": [],
   "source": [
    "Machine_Name = \"Zephyrus\""
   ]
  },
  {
   "cell_type": "code",
   "execution_count": 6,
   "metadata": {},
   "outputs": [
    {
     "data": {
      "text/plain": [
       "False"
      ]
     },
     "execution_count": 6,
     "metadata": {},
     "output_type": "execute_result"
    }
   ],
   "source": [
    "Machine_Name =='Mad_max'"
   ]
  },
  {
   "cell_type": "markdown",
   "metadata": {},
   "source": [
    "Ignoring Case When Checking for Equality\n",
    "---\n",
    "Testing for equality is case sensitive in Python. For example, two values with\n",
    "different capitalization are not considered equal:"
   ]
  },
  {
   "cell_type": "code",
   "execution_count": 7,
   "metadata": {},
   "outputs": [],
   "source": [
    "Machine_Name = 'ZEPHYRUS'"
   ]
  },
  {
   "cell_type": "code",
   "execution_count": 8,
   "metadata": {},
   "outputs": [
    {
     "data": {
      "text/plain": [
       "False"
      ]
     },
     "execution_count": 8,
     "metadata": {},
     "output_type": "execute_result"
    }
   ],
   "source": [
    "Machine_Name == 'zephyrus'"
   ]
  },
  {
   "cell_type": "code",
   "execution_count": 9,
   "metadata": {},
   "outputs": [
    {
     "data": {
      "text/plain": [
       "True"
      ]
     },
     "execution_count": 9,
     "metadata": {},
     "output_type": "execute_result"
    }
   ],
   "source": [
    "Machine_Name.lower() =='zephyrus'"
   ]
  },
  {
   "cell_type": "markdown",
   "metadata": {},
   "source": [
    "The lower() function doesn’t change\n",
    "the value that was originally stored in car, so you can do this kind of com-\n",
    "parison without affecting the original variable:m"
   ]
  },
  {
   "cell_type": "code",
   "execution_count": 10,
   "metadata": {},
   "outputs": [
    {
     "name": "stdout",
     "output_type": "stream",
     "text": [
      "ZEPHYRUS\n"
     ]
    }
   ],
   "source": [
    "Machine_Name = 'ZEPHYRUS'\n",
    "Machine_Name.lower() =='zephyrus'\n",
    "print(Machine_Name)\n"
   ]
  },
  {
   "cell_type": "markdown",
   "metadata": {},
   "source": [
    "Checking for Inequality\n",
    "---\n",
    "When you want to determine whether two values are not equal, you can\n",
    "combine an exclamation point and an equal sign (!=). The exclamation\n",
    "point represents not, as it does in many programming languages.\n",
    "Let’s use another if statement to examine how to use the inequality\n",
    "operator. We’ll store a requested pizza topping in a variable and then print\n",
    "a message if the person did not order anchovies:"
   ]
  },
  {
   "cell_type": "code",
   "execution_count": 11,
   "metadata": {},
   "outputs": [
    {
     "name": "stdout",
     "output_type": "stream",
     "text": [
      "True\n"
     ]
    }
   ],
   "source": [
    "covid_19 = \"Lock Down- 3\"\n",
    "if covid_19 != \"Lock Down- 1\":\n",
    "    print(\"True\")\n"
   ]
  },
  {
   "cell_type": "markdown",
   "metadata": {},
   "source": [
    "Numerical Comparisons\n",
    "---\n",
    "Testing numerical values is pretty straightforward. For example, the follow-\n",
    "ing code checks whether a person is 18 years old:"
   ]
  },
  {
   "cell_type": "code",
   "execution_count": 12,
   "metadata": {},
   "outputs": [
    {
     "data": {
      "text/plain": [
       "True"
      ]
     },
     "execution_count": 12,
     "metadata": {},
     "output_type": "execute_result"
    }
   ],
   "source": [
    "Total_Members_Class = 39.0\n",
    "Total_Members_Class == 39"
   ]
  },
  {
   "cell_type": "code",
   "execution_count": 13,
   "metadata": {},
   "outputs": [
    {
     "name": "stdout",
     "output_type": "stream",
     "text": [
      "That is not the correct answer. please try again!\n"
     ]
    }
   ],
   "source": [
    "Total_Members_Class = 12\n",
    "if Total_Members_Class != 39:\n",
    "    print(\"That is not the correct answer. please try again!\")\n",
    "\n",
    "else:\n",
    "    print(\"its correct\")    "
   ]
  },
  {
   "cell_type": "markdown",
   "metadata": {},
   "source": [
    "You can include various mathematical comparisons in your conditional\n",
    "statements as well, such as less than, less than or equal to, greater than, and\n",
    "greater than or equal to:"
   ]
  },
  {
   "cell_type": "code",
   "execution_count": 14,
   "metadata": {},
   "outputs": [
    {
     "data": {
      "text/plain": [
       "True"
      ]
     },
     "execution_count": 14,
     "metadata": {},
     "output_type": "execute_result"
    }
   ],
   "source": [
    "Age = 20\n",
    "Age  <= 21"
   ]
  },
  {
   "cell_type": "code",
   "execution_count": 15,
   "metadata": {},
   "outputs": [
    {
     "data": {
      "text/plain": [
       "False"
      ]
     },
     "execution_count": 15,
     "metadata": {},
     "output_type": "execute_result"
    }
   ],
   "source": [
    "Age > 21"
   ]
  },
  {
   "cell_type": "markdown",
   "metadata": {},
   "source": [
    "Checking Multiple Conditions\n",
    "------------\n",
    "You may want to check multiple conditions at the same time. For example,\n",
    "sometimes you might need two conditions to be True to take an action. Other\n",
    "times you might be satisfied with just one condition being True. The keywords\n",
    "and and or can help you in these situations.\n",
    "\n",
    "Using and to Check Multiple Conditions\n",
    "--------------------\n",
    "To check whether two conditions are both True simultaneously, use the key-\n",
    "word and to combine the two conditional tests; if each test passes, the over-\n",
    "all expression evaluates to True. If either test fails or if both tests fail, the\n",
    "expression evaluates to False.\n",
    "For example, you can check whether two people are both over 21 using\n",
    "the following test:"
   ]
  },
  {
   "cell_type": "code",
   "execution_count": 16,
   "metadata": {},
   "outputs": [],
   "source": [
    "Number_01 = 20\n",
    "Number_02 = 18\n"
   ]
  },
  {
   "cell_type": "code",
   "execution_count": 17,
   "metadata": {},
   "outputs": [
    {
     "data": {
      "text/plain": [
       "False"
      ]
     },
     "execution_count": 17,
     "metadata": {},
     "output_type": "execute_result"
    }
   ],
   "source": [
    "Number_01 >= 21 and Number_02 <=18"
   ]
  },
  {
   "cell_type": "code",
   "execution_count": 18,
   "metadata": {},
   "outputs": [
    {
     "data": {
      "text/plain": [
       "True"
      ]
     },
     "execution_count": 18,
     "metadata": {},
     "output_type": "execute_result"
    }
   ],
   "source": [
    " Number_01 >= 21 or Number_02 <=18"
   ]
  },
  {
   "cell_type": "markdown",
   "metadata": {},
   "source": [
    "Checking Whether a Value Is in a List\n",
    "------------------------------------\n",
    "Sometimes it’s important to check whether a list contains a certain value\n",
    "before taking an action. For example, you might want to check whether a\n",
    "new username already exists in a list of current usernames before complet-\n",
    "ing someone’s registration on a website. In a mapping project, you might\n",
    "want to check whether a submitted location already exists in a list of known\n",
    "locations.\n",
    "\n",
    "To find out whether a particular value is already in a list, use the key-\n",
    "word in. Let’s consider some code you might write for a pizzeria. We’ll\n",
    "make a list of toppings a customer has requested for a pizza and then\n",
    "check whether certain toppings are in the list."
   ]
  },
  {
   "cell_type": "code",
   "execution_count": 19,
   "metadata": {},
   "outputs": [
    {
     "data": {
      "text/plain": [
       "['Number_03', 'Number_05', 'Number_08', 'Number_38', 'Number_44']"
      ]
     },
     "execution_count": 19,
     "metadata": {},
     "output_type": "execute_result"
    }
   ],
   "source": [
    "list = [\"Number_03\", \"Number_05\", \"Number_08\", \"Number_38\",\"Number_44\"]\n",
    "list"
   ]
  },
  {
   "cell_type": "code",
   "execution_count": 20,
   "metadata": {},
   "outputs": [
    {
     "data": {
      "text/plain": [
       "True"
      ]
     },
     "execution_count": 20,
     "metadata": {},
     "output_type": "execute_result"
    }
   ],
   "source": [
    "\"Number_08\" in list"
   ]
  },
  {
   "cell_type": "markdown",
   "metadata": {},
   "source": [
    "Checking Whether a Value Is Not in a List\n",
    "-----------------\n",
    "Other times, it’s important to know if a value does not appear in a list. You\n",
    "can use the keyword not in this situation. For example, consider a list of users\n",
    "who are banned from commenting in a forum. You can check whether a\n",
    "user has been banned before allowing that person to submit a comment:"
   ]
  },
  {
   "cell_type": "code",
   "execution_count": 21,
   "metadata": {},
   "outputs": [
    {
     "name": "stdout",
     "output_type": "stream",
     "text": [
      "Number_13 is  not your classmate.\n"
     ]
    }
   ],
   "source": [
    "classmates = [\"Number_12\", \"Number_35\", \"Number_41\", \"Number_45\",\"Number_47\"]\n",
    "Number = \"Number_13\"\n",
    "if Number not in classmates:\n",
    "     print (Number + \" is  not your classmate.\")\n",
    "   "
   ]
  },
  {
   "cell_type": "markdown",
   "metadata": {},
   "source": [
    "Boolean Expressions\n",
    "---\n",
    "\n",
    "True\n",
    "\n",
    "False"
   ]
  },
  {
   "cell_type": "markdown",
   "metadata": {},
   "source": [
    "if statements\n",
    "------\n",
    "When you understand conditional tests, you can start writing if statements.\n",
    "Several different kinds of if statements exist, and your choice of which to\n",
    "use depends on the number of conditions you need to test. You saw several\n",
    "examples of if statements in the discussion about conditional tests, but now\n",
    "let’s dig deeper into the topic.\n",
    "\n",
    "Simple if Statements\n",
    "---------------\n",
    "The simplest kind of if statement has one test and one action:"
   ]
  },
  {
   "cell_type": "code",
   "execution_count": 22,
   "metadata": {},
   "outputs": [
    {
     "data": {
      "text/plain": [
       "'\\nif conditional_test:\\n    do something\\n'"
      ]
     },
     "execution_count": 22,
     "metadata": {},
     "output_type": "execute_result"
    }
   ],
   "source": [
    "'''\n",
    "if conditional_test:\n",
    "    do something\n",
    "'''\n",
    "    "
   ]
  },
  {
   "cell_type": "code",
   "execution_count": 23,
   "metadata": {},
   "outputs": [
    {
     "name": "stdout",
     "output_type": "stream",
     "text": [
      "Yes\n"
     ]
    }
   ],
   "source": [
    "Number_12 = 20\n",
    "if Number_12 > 18:\n",
    "    print(\"Yes\")"
   ]
  },
  {
   "cell_type": "markdown",
   "metadata": {},
   "source": [
    "if-else Statements\n",
    "----\n",
    "Often, you’ll want to take one action when a conditional test passes and a dif-\n",
    "ferent action in all other cases. Python’s if-else syntax makes this possible.\n",
    "An if-else block is similar to a simple if statement, but the else statement\n",
    "allows you to define an action or set of actions that are executed when the\n",
    "conditional test fails."
   ]
  },
  {
   "cell_type": "code",
   "execution_count": 24,
   "metadata": {},
   "outputs": [
    {
     "name": "stdout",
     "output_type": "stream",
     "text": [
      "No\n"
     ]
    }
   ],
   "source": [
    "Number_12 = 20\n",
    "if Number_12 < 18:\n",
    "    print(\"Yes\")\n",
    "else:\n",
    "    print(\"No\")"
   ]
  },
  {
   "cell_type": "markdown",
   "metadata": {},
   "source": [
    "The if-elif-else Chain\n",
    "-------------\n",
    "Often, you’ll need to test more than two possible situations, and to evaluate\n",
    "these you can use Python’s if-elif-else syntax. Python executes only one\n",
    "block in an if-elif-else chain. It runs each conditional test in order until\n",
    "one passes. When a test passes, the code following that test is executed and\n",
    "Python skips the rest of the tests."
   ]
  },
  {
   "cell_type": "code",
   "execution_count": 25,
   "metadata": {},
   "outputs": [
    {
     "name": "stdout",
     "output_type": "stream",
     "text": [
      "\n"
     ]
    }
   ],
   "source": [
    "Age = 31\n",
    "\n",
    "if Age < 15 :\n",
    "    print(\"Boy\")\n",
    "elif Age < 30:\n",
    "    print(\"Man\")\n",
    "\n",
    "else:\n",
    "    print(\"\")\n",
    "    "
   ]
  },
  {
   "cell_type": "markdown",
   "metadata": {},
   "source": [
    "Using Multiple elif Block\n",
    "---"
   ]
  },
  {
   "cell_type": "code",
   "execution_count": 26,
   "metadata": {},
   "outputs": [
    {
     "name": "stdout",
     "output_type": "stream",
     "text": [
      "Spare= $40 \n"
     ]
    }
   ],
   "source": [
    "Distance = 4\n",
    "if Distance <= 1:\n",
    "    print(\"Spare= $10 \")\n",
    "elif Distance <=2:\n",
    "    print(\"Spare= $20 \")\n",
    "elif Distance <=3 :\n",
    "    print(\"Spare= $30 \")\n",
    "elif Distance <=4 :\n",
    "    print(\"Spare= $40 \")\n",
    "else:\n",
    "    print(\"Enter with in limit:0-4\")\n",
    "    "
   ]
  },
  {
   "cell_type": "markdown",
   "metadata": {},
   "source": [
    "Omitting the else Block\n",
    "---"
   ]
  },
  {
   "cell_type": "code",
   "execution_count": 27,
   "metadata": {},
   "outputs": [
    {
     "name": "stdout",
     "output_type": "stream",
     "text": [
      "Spare= $40 \n"
     ]
    }
   ],
   "source": [
    "Distance = 4\n",
    "if Distance <= 1:\n",
    "    print(\"Spare= $10 \")\n",
    "elif Distance <=2:\n",
    "    print(\"Spare= $20 \")\n",
    "elif Distance <=3 :\n",
    "    print(\"Spare= $30 \")\n",
    "elif Distance <=4 :\n",
    "    print(\"Spare= $40 \")"
   ]
  },
  {
   "cell_type": "markdown",
   "metadata": {},
   "source": [
    "Testing Multiple Conditions\n",
    "----\n",
    "The if-elif-else chain is powerful, but it’s only appropriate to use when you\n",
    "just need one test to pass. As soon as Python finds one test that passes, it\n",
    "skips the rest of the tests. This behavior is beneficial, because it’s efficient\n",
    "and allows you to test for one specific condition."
   ]
  },
  {
   "cell_type": "code",
   "execution_count": 28,
   "metadata": {},
   "outputs": [
    {
     "name": "stdout",
     "output_type": "stream",
     "text": [
      "Today your mrg_drink, coffe\n",
      "Today your mrg_drink, tea\n"
     ]
    }
   ],
   "source": [
    "mrg_Drinks = ['coffe', 'tea', 'milk']\n",
    "\n",
    "if 'coffe' in mrg_Drinks:\n",
    "    print(\"Today your mrg_drink, \"+mrg_Drinks[0] )\n",
    "\n",
    "if 'tea' in mrg_Drinks:\n",
    "    print(\"Today your mrg_drink, \"+mrg_Drinks[1] )\n",
    "    \n",
    "if 'soup' in mrg_Drinks:\n",
    "    print(\"Today your mrg_drink, \"+mrg_Drinks[3] )\n",
    "        "
   ]
  },
  {
   "cell_type": "markdown",
   "metadata": {},
   "source": [
    "using if statements with lists\n",
    "----------------------------\n",
    "You can do some interesting work when you combine lists and if state-\n",
    "ments. You can watch for special values that need to be treated differently\n",
    "than other values in the list. You can manage changing conditions effi-\n",
    "ciently, such as the availability of certain items in a restaurant throughout a\n",
    "shift. You can also begin to prove that your code works as you expect it to in\n",
    "all possible situations."
   ]
  },
  {
   "cell_type": "markdown",
   "metadata": {},
   "source": [
    "Checking for Special Items\n",
    "------\n",
    "This chapter began with a simple example that showed how to handle a spe-\n",
    "cial value like 'bmw', which needed to be printed in a different format than\n",
    "other values in the list. Now that you have a basic understanding of condi-\n",
    "tional tests and if statements, let’s take a closer look at how you can watch\n",
    "for special values in a list and handle those values appropriately.\n",
    "Let’s continue with the pizzeria example. The pizzeria displays a message\n",
    "whenever a topping is added to your pizza, as it’s being made. The code for\n",
    "this action can be written very efficiently by making a list of toppings the\n",
    "customer has requested and using a loop to announce each topping as it’s\n",
    "added to the pizza:"
   ]
  },
  {
   "cell_type": "code",
   "execution_count": 29,
   "metadata": {},
   "outputs": [
    {
     "name": "stdout",
     "output_type": "stream",
     "text": [
      "mushroom\n",
      "green peppers\n",
      "extra cheese\n",
      "\n",
      "  Finished making your pizza!\n"
     ]
    }
   ],
   "source": [
    "requesting_toppings = ['mushroom','green peppers', 'extra cheese']\n",
    "for  requesting_topping in requesting_toppings:\n",
    "    print(requesting_topping)\n",
    "print (\"\\n  Finished making your pizza!\")    "
   ]
  },
  {
   "cell_type": "code",
   "execution_count": 30,
   "metadata": {},
   "outputs": [
    {
     "name": "stdout",
     "output_type": "stream",
     "text": [
      "mushroom\n",
      "Sorry, we are out of green peppers right now.\n",
      "extra cheese\n",
      "\n",
      "  Finished making your pizza!\n"
     ]
    }
   ],
   "source": [
    "requesting_toppings = ['mushroom','green peppers', 'extra cheese']\n",
    "for  requesting_topping in requesting_toppings:\n",
    "    if requesting_topping == 'green peppers':\n",
    "        print(\"Sorry, we are out of green peppers right now.\")\n",
    "    else:\n",
    "        print(requesting_topping)\n",
    "print (\"\\n  Finished making your pizza!\")    \n"
   ]
  },
  {
   "cell_type": "markdown",
   "metadata": {},
   "source": [
    "Checking That a List Is Not Empty\n",
    "----\n",
    "We’ve made a simple assumption about every list we’ve worked with so far;\n",
    "we’ve assumed that each list has at least one item in it. Soon we’ll let users\n",
    "provide the information that’s stored in a list, so we won’t be able to assume\n",
    "that a list has any items in it each time a loop is run. In this situation, it’s\n",
    "useful to check whether a list is empty before running a for loop."
   ]
  },
  {
   "cell_type": "code",
   "execution_count": 31,
   "metadata": {},
   "outputs": [
    {
     "name": "stdout",
     "output_type": "stream",
     "text": [
      "Are you sure you want a plain pizza?\n"
     ]
    }
   ],
   "source": [
    "requesting_toppings = []\n",
    "if requesting_toppings:\n",
    "    for requesting_topping in requesting_toppings:\n",
    "        print(requesting_topping)\n",
    "    print('\\n Finished making your pizza')\n",
    "else:\n",
    "    print(\"Are you sure you want a plain pizza?\")"
   ]
  },
  {
   "cell_type": "markdown",
   "metadata": {},
   "source": [
    "Using Multiple Lists\n",
    "----"
   ]
  },
  {
   "cell_type": "code",
   "execution_count": 32,
   "metadata": {},
   "outputs": [
    {
     "name": "stdout",
     "output_type": "stream",
     "text": [
      "sure, adding\n"
     ]
    }
   ],
   "source": [
    "available_toppings = ['mushrooms', 'olives', 'green peppers', 'pepperoni', 'pineapple', 'extra cheese']\n",
    "requested_toppings =['pineapple']\n",
    "for requested_topping in requested_toppings:\n",
    "    if requested_topping in available_toppings:\n",
    "        print(\"sure, adding\")\n",
    "    else:\n",
    "        print(\"unavailable\")\n"
   ]
  },
  {
   "cell_type": "markdown",
   "metadata": {},
   "source": [
    "styling your if statements\n",
    "----\n",
    "In every example in this chapter, you’ve seen good styling habits. The only\n",
    "recommendation PEP 8 provides for styling conditional tests is to use a\n",
    "single space around comparison operators, such as ==, >=, <=. For example:"
   ]
  },
  {
   "cell_type": "code",
   "execution_count": 33,
   "metadata": {
    "scrolled": true
   },
   "outputs": [
    {
     "name": "stdout",
     "output_type": "stream",
     "text": [
      "its True\n"
     ]
    }
   ],
   "source": [
    "Number_8 = 8\n",
    "if Number_8 > 1:\n",
    "    print(\"its True\") "
   ]
  },
  {
   "cell_type": "code",
   "execution_count": 34,
   "metadata": {},
   "outputs": [
    {
     "name": "stdout",
     "output_type": "stream",
     "text": [
      "its True\n"
     ]
    }
   ],
   "source": [
    "Number_8=8\n",
    "if Number_8>1:\n",
    "    print(\"its True\") "
   ]
  },
  {
   "cell_type": "markdown",
   "metadata": {},
   "source": [
    "Try It yourse lf\n",
    "----------------"
   ]
  },
  {
   "cell_type": "markdown",
   "metadata": {},
   "source": [
    "5-1. Conditional Tests: Write a series of conditional tests . Print a statement\n",
    "describing each test and your prediction for the results of each test . Your code\n"
   ]
  },
  {
   "cell_type": "markdown",
   "metadata": {},
   "source": [
    " Look closely at your results, and make sure you understand why each line\n",
    "evaluates to True or False .\n",
    "\n",
    "Create at least 10 tests . Have at least 5 tests evaluate to True and another\n",
    "5 tests evaluate to False "
   ]
  },
  {
   "cell_type": "code",
   "execution_count": 35,
   "metadata": {},
   "outputs": [],
   "source": [
    "C1 = 4>5\n",
    "C2 = 4<5\n",
    "C3 = 4==5\n",
    "C4 = 1<=3\n",
    "C5 = 7>=6\n",
    "C6 = \"STRING\"==\"STRING\"\n",
    "C7 = 4.1==4\n",
    "C8 = \"HAPPY\"!=\"SAD\"\n",
    "C9 = 3!=3.0\n",
    "C10 = 4!=4"
   ]
  },
  {
   "cell_type": "code",
   "execution_count": 36,
   "metadata": {},
   "outputs": [
    {
     "name": "stdout",
     "output_type": "stream",
     "text": [
      "False\n",
      "True\n",
      "False\n",
      "True\n",
      "True\n",
      "True\n",
      "False\n",
      "True\n",
      "False\n",
      "False\n"
     ]
    }
   ],
   "source": [
    "print(C1)\n",
    "print(C2)\n",
    "print(C3)\n",
    "print(C4)\n",
    "print(C5)\n",
    "print(C6)\n",
    "print(C7)\n",
    "print(C8)\n",
    "print(C9)\n",
    "print(C10)"
   ]
  },
  {
   "cell_type": "code",
   "execution_count": null,
   "metadata": {},
   "outputs": [],
   "source": []
  },
  {
   "cell_type": "markdown",
   "metadata": {},
   "source": [
    "5-2. More Conditional Tests: You don’t have to limit the number of tests you\n",
    "create to 10 . If you want to try more comparisons, write more tests and add\n",
    "them to conditional_tests.py . Have at least one True and one False result for\n",
    "each of the following:\n",
    "\n",
    "•  Tests for equality and inequality with strings\n",
    "\n",
    "•  Tests using the lower() function\n",
    "\n",
    "•  Numerical tests involving equality and inequality, greater than and\n",
    "less than, greater than or equal to, and less than or equal to\n",
    "\n",
    "•  Tests using the and keyword and the or keyword\n",
    "\n",
    "•  Test whether an item is in a list\n",
    "\n",
    "•  Test whether an item is not in a list"
   ]
  },
  {
   "cell_type": "code",
   "execution_count": 37,
   "metadata": {},
   "outputs": [],
   "source": [
    "X = 'JUPYTER'\n",
    "Y = 'jupyter'\n",
    "C1 = X.lower()== Y.lower()\n",
    "C2 = X.upper()!= Y.upper()\n",
    "X = 'JUPYTER'\n",
    "Y = 'Notebook'\n",
    "C3 = X.lower()== Y.lower()\n",
    "C4 = X.title()!= Y.title()\n",
    "C5 = 7>=6\n",
    "C6 = 4.1==4\n",
    "C7 = 4<6\n",
    "C8 = 5!=5.0\n",
    "C9 = 3!=3.0\n",
    "C10 = 4!=4\n",
    "C11 = 4==4 and 4<=3\n",
    "C12 = 4==4 and 4<=8\n",
    "C13 = 4==4 or 4<=3\n",
    "C14 = 4==5 or 4>=3\n",
    "X = [1,2,3,4,5,6,7,8,\"NUMBER\", \"Data\", 'science']\n",
    "C15 = 1 in X\n",
    "C16 = \"NUMBER\" not in X\n",
    "C17 = 8 not in X\n",
    "C18 = 'science' in X"
   ]
  },
  {
   "cell_type": "code",
   "execution_count": 38,
   "metadata": {},
   "outputs": [
    {
     "name": "stdout",
     "output_type": "stream",
     "text": [
      "True\n",
      "False\n",
      "False\n",
      "True\n",
      "True\n",
      "False\n",
      "True\n",
      "False\n",
      "False\n",
      "False\n",
      "False\n",
      "True\n",
      "True\n",
      "True\n",
      "True\n",
      "False\n",
      "False\n",
      "True\n"
     ]
    }
   ],
   "source": [
    "print(C1)\n",
    "print(C2)\n",
    "print(C3)\n",
    "print(C4)\n",
    "print(C5)\n",
    "print(C6)\n",
    "print(C7)\n",
    "print(C8)\n",
    "print(C9)\n",
    "print(C10)\n",
    "print(C11)\n",
    "print(C12)\n",
    "print(C13)\n",
    "print(C14)\n",
    "print(C15)\n",
    "print(C16)\n",
    "print(C17)\n",
    "print(C18)\n"
   ]
  },
  {
   "cell_type": "markdown",
   "metadata": {},
   "source": [
    "\n",
    "5-3. Alien Colors #1: Imagine an alien was just shot down in a game . Create a\n",
    "variable called alien_color and assign it a value of 'green', 'yellow', or 'red' .\n",
    "\n",
    "\n",
    "•  Write an if statement to test whether the alien’s color is green . If it is, print\n",
    "a message that the player just earned 5 points .\n",
    "\n",
    "•  Write one version of this program that passes the if test and another that\n",
    "fails . (The version that fails will have no output .)"
   ]
  },
  {
   "cell_type": "code",
   "execution_count": 39,
   "metadata": {},
   "outputs": [
    {
     "name": "stdout",
     "output_type": "stream",
     "text": [
      "Extra earned 5 points\n"
     ]
    }
   ],
   "source": [
    "alien_color = \"red\"\n",
    "if alien_color ==\"red\":\n",
    "    print(\"Extra earned 5 points\")\n",
    "else:\n",
    "    pass"
   ]
  },
  {
   "cell_type": "markdown",
   "metadata": {},
   "source": [
    "5-4. Alien Colors #2: Choose a color for an alien as you did in Exercise 5-3, and\n",
    "write an if-else chain .\n",
    "\n",
    "•  If the alien’s color is green, print a statement that the player just earned\n",
    "5 points for shooting the alien .\n",
    "\n",
    "•  If the alien’s color isn’t green, print a statement that the player just earned\n",
    "10 points .\n",
    "\n",
    "•  Write one version of this program that runs the if block and another that\n",
    "runs the else block ."
   ]
  },
  {
   "cell_type": "code",
   "execution_count": 40,
   "metadata": {},
   "outputs": [
    {
     "name": "stdout",
     "output_type": "stream",
     "text": [
      "Extra earned 10 points\n"
     ]
    }
   ],
   "source": [
    "alien_color = \"red\"\n",
    "if alien_color ==\"green\":\n",
    "    print(\"Extra earned 5 points\")\n",
    "elif alien_color != \"green\":\n",
    "    print(\"Extra earned 10 points\")\n",
    "else:\n",
    "    pass"
   ]
  },
  {
   "cell_type": "markdown",
   "metadata": {},
   "source": [
    "5-5. Alien Colors #3: Turn your if-else chain from Exercise 5-4 into an if-elif-\n",
    "else chain .\n",
    "\n",
    "•  If the alien is green, print a message that the player earned 5 points .\n",
    "\n",
    "•  If the alien is yellow, print a message that the player earned 10 points .\n",
    "\n",
    "•  If the alien is red, print a message that the player earned 15 points .\n",
    "\n",
    "•  Write three versions of this program, making sure each message is printed\n",
    "for the appropriate color alien ."
   ]
  },
  {
   "cell_type": "code",
   "execution_count": 41,
   "metadata": {},
   "outputs": [
    {
     "name": "stdout",
     "output_type": "stream",
     "text": [
      "Extra earned 15 points\n"
     ]
    }
   ],
   "source": [
    "alien_color = \"red\"\n",
    "if alien_color ==\"green\":\n",
    "    print(\"Extra earned 5 points\")\n",
    "elif alien_color == \"yellow\":\n",
    "    print(\"Extra earned 10 points\")\n",
    "elif alien_color ==\"red\":\n",
    "    print(\"Extra earned 15 points\")"
   ]
  },
  {
   "cell_type": "markdown",
   "metadata": {},
   "source": [
    "5-6. Stages of Life: Write an if-elif-else chain that determines a person’s\n",
    "stage of life . Set a value for the variable age, and then:\n",
    "\n",
    "•  If the person is less than 2 years old, print a message that the person is\n",
    "a baby .\n",
    "\n",
    "•  If the person is at least 2 years old but less than 4, print a message that\n",
    "the person is a toddler .\n",
    "\n",
    "•  If the person is at least 4 years old but less than 13, print a message that\n",
    "the person is a kid .\n",
    "\n",
    "•  If the person is at least 13 years old but less than 20, print a message that\n",
    "the person is a teenager .\n",
    "\n",
    "•  If the person is at least 20 years old but less than 65, print a message that\n",
    "the person is an adult .\n",
    "\n",
    "•  If the person is age 65 or older, print a message that the person is an\n",
    "elder ."
   ]
  },
  {
   "cell_type": "code",
   "execution_count": 42,
   "metadata": {},
   "outputs": [
    {
     "name": "stdout",
     "output_type": "stream",
     "text": [
      "Enter the age :\n"
     ]
    },
    {
     "ename": "SyntaxError",
     "evalue": "unexpected EOF while parsing (<string>, line 0)",
     "output_type": "error",
     "traceback": [
      "Traceback \u001b[1;36m(most recent call last)\u001b[0m:\n",
      "  File \u001b[0;32m~\\AppData\\Roaming\\Python\\Python310\\site-packages\\IPython\\core\\interactiveshell.py:3251\u001b[0m in \u001b[0;35mrun_code\u001b[0m\n    exec(code_obj, self.user_global_ns, self.user_ns)\n",
      "\u001b[1;36m  Input \u001b[1;32mIn [42]\u001b[1;36m in \u001b[1;35m<module>\u001b[1;36m\u001b[0m\n\u001b[1;33m    x = eval(input(\"Enter the age :\"))\u001b[0m\n",
      "\u001b[1;36m  File \u001b[1;32m<string>\u001b[1;36m\u001b[0m\n\u001b[1;33m    \u001b[0m\n\u001b[1;37m    ^\u001b[0m\n\u001b[1;31mSyntaxError\u001b[0m\u001b[1;31m:\u001b[0m unexpected EOF while parsing\n"
     ]
    }
   ],
   "source": [
    "x = eval(input(\"Enter the age :\"))\n",
    "if x<2:\n",
    "    print('Baby')\n",
    "elif x>=2 and x<4:\n",
    "    print(\"Toddler\")\n",
    "elif x>=4 and x<13:\n",
    "    print(\"Kid\")\n",
    "elif x>=13 and x<20:\n",
    "    print(\"Teenager\")\n",
    "elif x>=20 and x<65:\n",
    "    print(\"Adult\")\n",
    "else:\n",
    "    print(\"Elder\")"
   ]
  },
  {
   "cell_type": "markdown",
   "metadata": {},
   "source": [
    "5-7. Favorite Fruit: Make a list of your favorite fruits, and then write a series of\n",
    "independent if statements that check for certain fruits in your list .\n",
    "\n",
    "•  Make a list of your three favorite fruits and call it favorite_fruits .\n",
    "\n",
    "•  Write five if statements . Each should check whether a certain kind of fruit\n",
    "is in your list . If the fruit is in your list, the if block should print a statement,\n",
    "such as You really like bananas!"
   ]
  },
  {
   "cell_type": "code",
   "execution_count": 43,
   "metadata": {},
   "outputs": [
    {
     "name": "stdout",
     "output_type": "stream",
     "text": [
      "Richest variety of grapes: \n"
     ]
    }
   ],
   "source": [
    "Fav_Fruit =['Cabernet Sauvignon', 'Merlot','Airen','Tempranillo']\n",
    "if 'Tempranillo' in Fav_Fruit:\n",
    "    print('Richest variety of grapes: ')\n",
    "elif Fav_Fruit[0] in Fav_Fruit:\n",
    "    print('Teste variety of grapes: ')\n",
    "elif Fav_Fruit[1] == 'Merlot':\n",
    "    print(\"Rarest variety of grapes:\")\n",
    "elif Fav_Fruit[1] != 'Merlot':\n",
    "    print(\"Rarest variety of grapes:\") \n",
    "elif Fav_Fruit[0]  not in  Fav_Fruit:\n",
    "    print('Teste variety of grapes: ')    "
   ]
  },
  {
   "cell_type": "markdown",
   "metadata": {},
   "source": [
    "5-8. Hello Admin: Make a list of five or more usernames, including the name\n",
    "'admin' . Imagine you are writing code that will print a greeting to each user\n",
    "after they log in to a website . Loop through the list, and print a greeting to\n",
    "each user:\n",
    "    \n",
    "•  If the username is 'admin', print a special greeting, such as Hello admin,\n",
    "would you like to see a status report?\n",
    "\n",
    "•  Otherwise, print a generic greeting, such as Hello Eric, thank you for log-\n",
    "ging in again."
   ]
  },
  {
   "cell_type": "code",
   "execution_count": 44,
   "metadata": {},
   "outputs": [
    {
     "name": "stdout",
     "output_type": "stream",
     "text": [
      "Hello admin!\n",
      "Raja Raja Cholan It's a glad welcome we bring to you this morning, filled with the desires, hopes and dreams we all share.\n",
      "Rajendra Chola It's a glad welcome we bring to you this morning, filled with the desires, hopes and dreams we all share.\n",
      "Narasimhavarman It's a glad welcome we bring to you this morning, filled with the desires, hopes and dreams we all share.\n",
      "Senguttuvan It's a glad welcome we bring to you this morning, filled with the desires, hopes and dreams we all share.\n",
      "Nedunjeliyan It's a glad welcome we bring to you this morning, filled with the desires, hopes and dreams we all share.\n"
     ]
    }
   ],
   "source": [
    "user_names=[\"admin\",\"Raja Raja Cholan\",\"Rajendra Chola\",\"Narasimhavarman\",\"Senguttuvan\",\"Nedunjeliyan\"]\n",
    "for King in user_names:\n",
    "    if King == \"admin\":\n",
    "        print(\"Hello admin!\")\n",
    "    else:\n",
    "        print(King + \" It's a glad welcome we bring to you this morning, filled with the desires, hopes and dreams we all share.\")"
   ]
  },
  {
   "cell_type": "markdown",
   "metadata": {},
   "source": [
    "5-9. No Users: Add an if test to hello_admin.py to make sure the list of users is\n",
    "not empty .\n",
    "\n",
    "•  If the list is empty, print the message We need to find some users!\n",
    "\n",
    "•  Remove all of the usernames from your list, and make sure the correct\n",
    "message is printed ."
   ]
  },
  {
   "cell_type": "code",
   "execution_count": null,
   "metadata": {},
   "outputs": [],
   "source": []
  },
  {
   "cell_type": "markdown",
   "metadata": {},
   "source": [
    "5-10. Checking Usernames: Do the following to create a program that simulates\n",
    "how websites ensure that everyone has a unique username .\n",
    "\n",
    "•  Make a list of five or more usernames called current_users .\n",
    "\n",
    "•  Make another list of five usernames called new_users . Make sure one or\n",
    "two of the new usernames are also in the current_users list .\n",
    "\n",
    "•  Loop through the new_users list to see if each new username has already\n",
    "been used . If it has, print a message that the person will need to enter a\n",
    "new username . If a username has not been used, print a message saying\n",
    "that the username is available .\n",
    "\n",
    "•  Make sure your comparison is case insensitive . If 'John' has been used,\n",
    "'JOHN' should not be accepted "
   ]
  },
  {
   "cell_type": "code",
   "execution_count": null,
   "metadata": {},
   "outputs": [],
   "source": []
  },
  {
   "cell_type": "markdown",
   "metadata": {},
   "source": [
    "5-11. Ordinal Numbers: Ordinal numbers indicate their position in a list, such\n",
    "as 1st or 2nd . Most ordinal numbers end in th, except 1, 2, and 3 .\n",
    "\n",
    "•  Store the numbers 1 through 9 in a list .\n",
    "\n",
    "•  Loop through the list .\n",
    "\n",
    "•  Use an if-elif-else chain inside the loop to print the proper ordinal end-\n",
    "ing for each number . Your output should read \"1st 2nd 3rd 4th 5th 6th\n",
    "7th 8th 9th\", and each result should be on a separate line ."
   ]
  },
  {
   "cell_type": "code",
   "execution_count": null,
   "metadata": {},
   "outputs": [],
   "source": []
  },
  {
   "cell_type": "markdown",
   "metadata": {},
   "source": [
    "5-12. Styling if statements: Review the programs you wrote in this chapter, and\n",
    "make sure you styled your conditional tests appropriately."
   ]
  },
  {
   "cell_type": "code",
   "execution_count": null,
   "metadata": {},
   "outputs": [],
   "source": []
  },
  {
   "cell_type": "markdown",
   "metadata": {},
   "source": [
    "5-13. Your Ideas: At this point, you’re a more capable programmer than you\n",
    "were when you started this book . Now that you have a better sense of how\n",
    "real-world situations are modeled in programs, you might be thinking of some\n",
    "problems you could solve with your own programs . Record any new ideas you\n",
    "have about problems you might want to solve as your programming skills con-\n",
    "tinue to improve . Consider games you might want to write, data sets you might\n",
    "want to explore, and web applications you’d like to create ."
   ]
  },
  {
   "cell_type": "code",
   "execution_count": null,
   "metadata": {},
   "outputs": [],
   "source": []
  },
  {
   "cell_type": "code",
   "execution_count": null,
   "metadata": {},
   "outputs": [],
   "source": []
  }
 ],
 "metadata": {
  "interpreter": {
   "hash": "ebbedf730dfde948b34121e8ca894287b052bfcd8af577f20b1f29bc8a516fb4"
  },
  "kernelspec": {
   "display_name": "Python 3 (ipykernel)",
   "language": "python",
   "name": "python3"
  },
  "language_info": {
   "codemirror_mode": {
    "name": "ipython",
    "version": 3
   },
   "file_extension": ".py",
   "mimetype": "text/x-python",
   "name": "python",
   "nbconvert_exporter": "python",
   "pygments_lexer": "ipython3",
   "version": "3.10.0"
  }
 },
 "nbformat": 4,
 "nbformat_minor": 2
}
