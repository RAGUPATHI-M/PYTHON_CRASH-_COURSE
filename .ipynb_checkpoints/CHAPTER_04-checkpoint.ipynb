{
 "cells": [
  {
   "cell_type": "markdown",
   "id": "e47cfbae",
   "metadata": {},
   "source": [
    "CHAPTER-4 WORKING WITH LISTS\n",
    "===="
   ]
  },
  {
   "cell_type": "markdown",
   "id": "16b26eca",
   "metadata": {},
   "source": [
    "In Chapter 3  you learned how to make a\n",
    "simple list, and you learned to work with\n",
    "the individual elements in a list. In this chap-\n",
    "ter you’ll learn how to loop through an entire\n",
    "list using just a few lines of code regardless of how\n",
    "long the list is. Looping allows you to take the same action, or set of actions,\n",
    "with every item in a list. As a result, you’ll be able to work efficiently with\n",
    "lists of any length, including those with thousands or even millions of items."
   ]
  },
  {
   "cell_type": "markdown",
   "id": "7ae675c5",
   "metadata": {},
   "source": [
    "looping through an entire list\n",
    "----"
   ]
  },
  {
   "cell_type": "code",
   "execution_count": 1,
   "id": "8d3639e3",
   "metadata": {
    "scrolled": true
   },
   "outputs": [
    {
     "name": "stdout",
     "output_type": "stream",
     "text": [
      "Ajith\n",
      "Suriya\n",
      "Vijay\n",
      "Dhanush\n"
     ]
    }
   ],
   "source": [
    "Actors = ['Ajith', 'Suriya', 'Vijay', 'Dhanush']\n",
    "for Actor in Actors:#for item in list_of_items:\n",
    "    print(Actor)"
   ]
  },
  {
   "cell_type": "markdown",
   "id": "0ba1fc4f",
   "metadata": {},
   "source": [
    "Doing More Work Within a for Loop\n",
    "---"
   ]
  },
  {
   "cell_type": "code",
   "execution_count": 2,
   "id": "e3f96bf4",
   "metadata": {},
   "outputs": [
    {
     "name": "stdout",
     "output_type": "stream",
     "text": [
      "Love your haters, they are your biggest fans. by Ajith\n",
      "Love your haters, they are your biggest fans. by Suriya\n",
      "Love your haters, they are your biggest fans. by Vijay\n",
      "Love your haters, they are your biggest fans. by Dhanush\n"
     ]
    }
   ],
   "source": [
    "Actors = ['Ajith', 'Suriya', 'Vijay', 'Dhanush']\n",
    "for Actor in Actors:\n",
    "    print('Love your haters, they are your biggest fans. by '+ Actor.title())\n"
   ]
  },
  {
   "cell_type": "code",
   "execution_count": 3,
   "id": "bd6eda3a",
   "metadata": {},
   "outputs": [
    {
     "name": "stdout",
     "output_type": "stream",
     "text": [
      "Love your haters, they are your biggest fans. by Ajith\n",
      "Great leaders don’t tell you what to do, they show how is it done,\n",
      "\n",
      "Love your haters, they are your biggest fans. by Suriya\n",
      "Great leaders don’t tell you what to do, they show how is it done,\n",
      "\n",
      "Love your haters, they are your biggest fans. by Vijay\n",
      "Great leaders don’t tell you what to do, they show how is it done,\n",
      "\n",
      "Love your haters, they are your biggest fans. by Dhanush\n",
      "Great leaders don’t tell you what to do, they show how is it done,\n",
      "\n"
     ]
    }
   ],
   "source": [
    "Actors = ['Ajith', 'Suriya', 'Vijay', 'Dhanush']\n",
    "for Actor in Actors:\n",
    "    print('Love your haters, they are your biggest fans. by '+ Actor.title())\n",
    "\n",
    "    print('Great leaders don’t tell you what to do, they show how is it done,\\n')"
   ]
  },
  {
   "cell_type": "markdown",
   "id": "6b2d2f5a",
   "metadata": {},
   "source": [
    "Doing Something After a for Loop\n",
    "---"
   ]
  },
  {
   "cell_type": "code",
   "execution_count": 4,
   "id": "bead2202",
   "metadata": {},
   "outputs": [
    {
     "name": "stdout",
     "output_type": "stream",
     "text": [
      "Love your haters, they are your biggest fans. by Ajith\n",
      "Great leaders don’t tell you what to do, they show how is it done,\n",
      "\n",
      "Love your haters, they are your biggest fans. by Suriya\n",
      "Great leaders don’t tell you what to do, they show how is it done,\n",
      "\n",
      "Love your haters, they are your biggest fans. by Vijay\n",
      "Great leaders don’t tell you what to do, they show how is it done,\n",
      "\n",
      "Love your haters, they are your biggest fans. by Dhanush\n",
      "Great leaders don’t tell you what to do, they show how is it done,\n",
      "\n",
      "Thank you, everyone\n"
     ]
    }
   ],
   "source": [
    "Actors = ['Ajith', 'Suriya', 'Vijay', 'Dhanush']\n",
    "for Actor in Actors:\n",
    "    print('Love your haters, they are your biggest fans. by '+ Actor.title())\n",
    "\n",
    "    print('Great leaders don’t tell you what to do, they show how is it done,\\n')\n",
    "\n",
    "    #Indentation    \n",
    "print(\"Thank you, everyone\")    \n",
    "    "
   ]
  },
  {
   "cell_type": "markdown",
   "id": "72f9b5a0",
   "metadata": {},
   "source": [
    "Avoiding Indentation errors\n",
    "---"
   ]
  },
  {
   "cell_type": "markdown",
   "id": "b825a5bc",
   "metadata": {},
   "source": [
    "Python uses indentation to determine when one line of code is connected to\n",
    "the line above it. In the previous examples, the lines that printed messages to\n",
    "individual magicians were part of the for loop because they were indented.\n",
    "Python’s use of indentation makes code very easy to read. Basically, it uses\n",
    "whitespace to force you to write neatly formatted code with a clear visual\n",
    "structure. In longer Python programs, you’ll notice blocks of code indented\n",
    "at a few different levels. These indentation levels help you gain a general\n",
    "sense of the overall program’s organization.\n",
    "\n",
    "As you begin to write code that relies on proper indentation, you’ll\n",
    "need to watch for a few common indentation errors. For example, people\n",
    "sometimes indent blocks of code that don’t need to be indented or forget\n",
    "to indent blocks that need to be indented. Seeing examples of these errors\n",
    "now will help you avoid them in the future and correct them when they do\n",
    "appear in your own programs.\n",
    "Let’s examine some of the more common indentation errors."
   ]
  },
  {
   "cell_type": "markdown",
   "id": "7bb5d95b",
   "metadata": {},
   "source": [
    "Forgetting to Indent\n",
    "---\n",
    "Always indent the line after the for statement in a loop. If you forget, Python\n",
    "will remind you:"
   ]
  },
  {
   "cell_type": "code",
   "execution_count": 5,
   "id": "0a4f554f",
   "metadata": {},
   "outputs": [
    {
     "ename": "IndentationError",
     "evalue": "expected an indented block after 'for' statement on line 2 (Temp/ipykernel_14476/3208964721.py, line 3)",
     "output_type": "error",
     "traceback": [
      "\u001b[1;36m  Input \u001b[1;32mIn [5]\u001b[1;36m\u001b[0m\n\u001b[1;33m    print(Actor)\u001b[0m\n\u001b[1;37m    ^\u001b[0m\n\u001b[1;31mIndentationError\u001b[0m\u001b[1;31m:\u001b[0m expected an indented block after 'for' statement on line 2\n"
     ]
    }
   ],
   "source": [
    "Actors = ['Ajith', 'Suriya', 'Vijay', 'Dhanush']\n",
    "for Actor in Actors:\n",
    "print(Actor)"
   ]
  },
  {
   "cell_type": "markdown",
   "id": "a65ff101",
   "metadata": {},
   "source": [
    "The print statement at u should be indented, but it’s not. When Python\n",
    "expects an indented block and doesn’t find one, it lets you know which line\n",
    "it had a problem with."
   ]
  },
  {
   "cell_type": "markdown",
   "id": "a7db9763",
   "metadata": {},
   "source": [
    "You can usually resolve this kind of indentation error by indenting the\n",
    "line or lines immediately after the for statement."
   ]
  },
  {
   "cell_type": "markdown",
   "id": "3f85cbe8",
   "metadata": {},
   "source": [
    "Forgetting to Indent Additional Lines\n",
    "---\n",
    "Sometimes your loop will run without any errors but won’t produce the\n",
    "expected result. This can happen when you’re trying to do several tasks in\n",
    "a loop and you forget to indent some of its lines.\n",
    "\n",
    "\n",
    "For example, this is what happens when we forget to indent the second\n",
    "line in the loop that tells each magician we’re looking forward to their next\n",
    "trick:"
   ]
  },
  {
   "cell_type": "code",
   "execution_count": 6,
   "id": "27db58e3",
   "metadata": {},
   "outputs": [
    {
     "name": "stdout",
     "output_type": "stream",
     "text": [
      "Love your haters, they are your biggest fans. by Ajith\n",
      "Love your haters, they are your biggest fans. by Suriya\n",
      "Love your haters, they are your biggest fans. by Vijay\n",
      "Love your haters, they are your biggest fans. by Dhanush\n",
      "Great leaders don’t tell you what to do, they show how is it done,\n",
      "\n"
     ]
    }
   ],
   "source": [
    "Actors = ['Ajith', 'Suriya', 'Vijay', 'Dhanush']\n",
    "for Actor in Actors:\n",
    "    print('Love your haters, they are your biggest fans. by '+ Actor.title())\n",
    "\n",
    "print('Great leaders don’t tell you what to do, they show how is it done,\\n')"
   ]
  },
  {
   "cell_type": "markdown",
   "id": "a245b599",
   "metadata": {},
   "source": [
    "    \n",
    " This is a logical error. The syntax is valid Python code, but the code does\n",
    "not produce the desired result because a problem occurs in its logic. If you\n",
    "expect to see a certain action repeated once for each item in a list and it’s\n",
    "executed only once, determine whether you need to simply indent a line or\n",
    "a group of lines.   "
   ]
  },
  {
   "cell_type": "markdown",
   "id": "7552773f",
   "metadata": {},
   "source": [
    "Indenting Unnecessarily\n",
    "----\n",
    "If you accidentally indent a line that doesn’t need to be indented, Python\n",
    "informs you about the unexpected indent:"
   ]
  },
  {
   "cell_type": "code",
   "execution_count": 7,
   "id": "3e5643be",
   "metadata": {},
   "outputs": [
    {
     "ename": "IndentationError",
     "evalue": "unexpected indent (Temp/ipykernel_14476/2944047758.py, line 2)",
     "output_type": "error",
     "traceback": [
      "\u001b[1;36m  Input \u001b[1;32mIn [7]\u001b[1;36m\u001b[0m\n\u001b[1;33m    print(message)\u001b[0m\n\u001b[1;37m    ^\u001b[0m\n\u001b[1;31mIndentationError\u001b[0m\u001b[1;31m:\u001b[0m unexpected indent\n"
     ]
    }
   ],
   "source": [
    "message = \"Hello World\"\n",
    "  print(message)"
   ]
  },
  {
   "cell_type": "markdown",
   "id": "a5ff7b28",
   "metadata": {},
   "source": [
    "Indenting Unnecessarily After the Loop\n",
    "---\n",
    "If you accidentally indent code that should run after a loop has finished, that\n",
    "code will be repeated once for each item in the list. Sometimes this prompts\n",
    "Python to report an error, but often you’ll receive a simple logical error."
   ]
  },
  {
   "cell_type": "code",
   "execution_count": 8,
   "id": "57ac8b63",
   "metadata": {},
   "outputs": [
    {
     "name": "stdout",
     "output_type": "stream",
     "text": [
      "Love your haters, they are your biggest fans. by Ajith\n",
      "Great leaders don’t tell you what to do, they show how is it done,\n",
      "\n",
      "Thank you, everyone\n",
      "Love your haters, they are your biggest fans. by Suriya\n",
      "Great leaders don’t tell you what to do, they show how is it done,\n",
      "\n",
      "Thank you, everyone\n",
      "Love your haters, they are your biggest fans. by Vijay\n",
      "Great leaders don’t tell you what to do, they show how is it done,\n",
      "\n",
      "Thank you, everyone\n",
      "Love your haters, they are your biggest fans. by Dhanush\n",
      "Great leaders don’t tell you what to do, they show how is it done,\n",
      "\n",
      "Thank you, everyone\n"
     ]
    }
   ],
   "source": [
    "Actors = ['Ajith', 'Suriya', 'Vijay', 'Dhanush']\n",
    "for Actor in Actors:\n",
    "    print('Love your haters, they are your biggest fans. by '+ Actor.title())\n",
    "\n",
    "    print('Great leaders don’t tell you what to do, they show how is it done,\\n')\n",
    "   \n",
    "    print(\"Thank you, everyone\")    \n",
    "    "
   ]
  },
  {
   "cell_type": "markdown",
   "id": "5619fabf",
   "metadata": {},
   "source": [
    "\n",
    "This is another logical error, similar to the one in “Forgetting to Indent\n",
    "Additional Lines” on page 58. Because Python doesn’t know what you’re\n",
    "trying to accomplish with your code, it will run all code that is written in\n",
    "valid syntax. If an action is repeated many times when it should be executed\n",
    "only once, determine whether you just need to unindent the code for that\n",
    "action."
   ]
  },
  {
   "cell_type": "markdown",
   "id": "4fba9bfb",
   "metadata": {},
   "source": [
    "Forgetting the Colon\n",
    "---\n",
    "The colon at the end of a for statement tells Python to interpret the next\n",
    "line as the start of a loop.\n",
    "\n",
    "\n"
   ]
  },
  {
   "cell_type": "code",
   "execution_count": 9,
   "id": "0be11d89",
   "metadata": {},
   "outputs": [
    {
     "ename": "SyntaxError",
     "evalue": "expected ':' (Temp/ipykernel_14476/738951003.py, line 2)",
     "output_type": "error",
     "traceback": [
      "\u001b[1;36m  Input \u001b[1;32mIn [9]\u001b[1;36m\u001b[0m\n\u001b[1;33m    for Actor in Actors\u001b[0m\n\u001b[1;37m                       ^\u001b[0m\n\u001b[1;31mSyntaxError\u001b[0m\u001b[1;31m:\u001b[0m expected ':'\n"
     ]
    }
   ],
   "source": [
    "Actors = ['Ajith', 'Suriya', 'Vijay', 'Dhanush']\n",
    "for Actor in Actors\n",
    "    print(Actor)"
   ]
  },
  {
   "cell_type": "markdown",
   "id": "b68bcbbf",
   "metadata": {},
   "source": [
    "If you accidentally forget the colon, as shown at u, you’ll get a syntax\n",
    "error because Python doesn’t know what you’re trying to do. Although\n",
    "this is an easy error to fix, it’s not always an easy error to find. You’d be\n",
    "surprised by the amount of time programmers spend hunting down single-\n",
    "character errors like this. Such errors are difficult to find because we often\n",
    "just see what we expect to see."
   ]
  },
  {
   "cell_type": "markdown",
   "id": "89acd2de",
   "metadata": {},
   "source": [
    "making numerical lists\n",
    "---\n",
    "Many reasons exist to store a set of numbers. For example, you’ll need to\n",
    "keep track of the positions of each character in a game, and you might want\n",
    "to keep track of a player’s high scores as well. In data visualizations, you’ll\n",
    "almost always work with sets of numbers, such as temperatures, distances,\n",
    "population sizes, or latitude and longitude values, among other types of\n",
    "numerical sets.\n",
    "\n",
    "Lists are ideal for storing sets of numbers, and Python provides a num-\n",
    "ber of tools to help you work efficiently with lists of numbers. Once you\n",
    "understand how to use these tools effectively, your code will work well even\n",
    "when your lists contain millions of items."
   ]
  },
  {
   "cell_type": "markdown",
   "id": "43dae629",
   "metadata": {},
   "source": [
    "Using the range() Function\n",
    "---\n",
    "Python’s range() function makes it easy to generate a series of numbers.\n",
    "For example, you can use the range() function to print a series of numbers\n",
    "like this:"
   ]
  },
  {
   "cell_type": "code",
   "execution_count": 10,
   "id": "e649168f",
   "metadata": {},
   "outputs": [
    {
     "name": "stdout",
     "output_type": "stream",
     "text": [
      "1\n",
      "2\n",
      "3\n",
      "4\n"
     ]
    }
   ],
   "source": [
    "for value in range(1,5):\n",
    "    print(value)\n",
    "  "
   ]
  },
  {
   "cell_type": "markdown",
   "id": "c3c81fef",
   "metadata": {},
   "source": [
    "Although this code looks like it should print the numbers from 1 to 5, it\n",
    "doesn’t print the number 5:  "
   ]
  },
  {
   "cell_type": "markdown",
   "id": "6ffd70a5",
   "metadata": {},
   "source": [
    "In this example, range() prints only the numbers 1 through 4. This is\n",
    "another result of the off-by-one behavior you’ll see often in programming\n",
    "languages. The range() function causes Python to start counting at the first\n",
    "value you give it, and it stops when it reaches the second value you provide.\n",
    "Because it stops at that second value, the output never contains the end\n",
    "value, which would have been 5 in this case.\n",
    "To print the numbers from 1 to 5, you would use range(1,6):"
   ]
  },
  {
   "cell_type": "code",
   "execution_count": 11,
   "id": "171e3717",
   "metadata": {},
   "outputs": [
    {
     "name": "stdout",
     "output_type": "stream",
     "text": [
      "1\n",
      "2\n",
      "3\n",
      "4\n",
      "5\n"
     ]
    }
   ],
   "source": [
    "for value in range(1,6):\n",
    "    print(value)#This time the output starts at 1 and ends at 5:"
   ]
  },
  {
   "cell_type": "markdown",
   "id": "733474ba",
   "metadata": {},
   "source": [
    "Using range() to Make a List of Numbers\n",
    "--------------\n",
    "If you want to make a list of numbers, you can convert the results of range()\n",
    "directly into a list using the list() function. When you wrap list() around a\n",
    "call to the range() function, the output will be a list of numbers.\n",
    "In the example in the previous section, we simply printed out a series of\n",
    "numbers. We can use list() to convert that same set of numbers into a list:"
   ]
  },
  {
   "cell_type": "code",
   "execution_count": 12,
   "id": "47d975e9",
   "metadata": {},
   "outputs": [
    {
     "name": "stdout",
     "output_type": "stream",
     "text": [
      "[1, 2, 3, 4, 5]\n"
     ]
    }
   ],
   "source": [
    "Number = list(range(1,6))\n",
    "print(Number)"
   ]
  },
  {
   "cell_type": "markdown",
   "id": "f826ae3f",
   "metadata": {},
   "source": [
    "We can also use the range() function to tell Python to skip numbers\n",
    "in a given range. For example, here’s how we would list the even numbers\n",
    "between 1 and 10:"
   ]
  },
  {
   "cell_type": "code",
   "execution_count": 13,
   "id": "0e9d15ee",
   "metadata": {},
   "outputs": [
    {
     "name": "stdout",
     "output_type": "stream",
     "text": [
      "[2, 4, 6, 8, 10]\n"
     ]
    }
   ],
   "source": [
    "#Even_Number\n",
    "Even_Number = list(range(2,11,2))\n",
    "print(Even_Number)"
   ]
  },
  {
   "cell_type": "code",
   "execution_count": 14,
   "id": "115bdea1",
   "metadata": {},
   "outputs": [
    {
     "name": "stdout",
     "output_type": "stream",
     "text": [
      "[1, 4, 9, 16, 25, 36, 49, 64, 81, 100]\n"
     ]
    }
   ],
   "source": [
    "#Squares\n",
    "Squares = []\n",
    "for value in range(1,11):\n",
    "    Square = value**2\n",
    "    Squares.append(Square)\n",
    "print(Squares)    \n"
   ]
  },
  {
   "cell_type": "markdown",
   "id": "2119316e",
   "metadata": {},
   "source": [
    "Simple Statistics with a List of Numbers\n",
    "----\n",
    "A few Python functions are specific to lists of numbers. For example, you\n",
    "can easily find the minimum, maximum, and sum of a list of numbers:"
   ]
  },
  {
   "cell_type": "code",
   "execution_count": 15,
   "id": "0eb02e41",
   "metadata": {},
   "outputs": [
    {
     "name": "stdout",
     "output_type": "stream",
     "text": [
      "1\n",
      "9\n",
      "44\n"
     ]
    }
   ],
   "source": [
    "Stats = [1, 3, 4, 6, 8, 2, 6, 9, 5]\n",
    "print(min(Stats))\n",
    "print(max(Stats))\n",
    "print(sum(Stats))\n",
    "\n",
    "\n"
   ]
  },
  {
   "cell_type": "markdown",
   "id": "ad61c2d8",
   "metadata": {},
   "source": [
    "List Comprehensions\n",
    "---\n",
    "\n",
    "The approach described earlier for generating the list squares consisted of\n",
    "using three or four lines of code. A list comprehension allows you to generate\n",
    "this same list in just one line of code. A list comprehension combines the\n",
    "for loop and the creation of new elements into one line, and automatically\n",
    "appends each new element. List comprehensions are not always presented\n",
    "to beginners, but I have included them here because you’ll most likely see\n",
    "them as soon as you start looking at other people’s code."
   ]
  },
  {
   "cell_type": "code",
   "execution_count": 16,
   "id": "35f1cdd5",
   "metadata": {},
   "outputs": [
    {
     "name": "stdout",
     "output_type": "stream",
     "text": [
      "[0, 1, 4, 9, 16, 25, 36, 49, 64, 81, 100]\n"
     ]
    }
   ],
   "source": [
    "Squares = [value**2 for value in range(0,11)]\n",
    "print(Squares)"
   ]
  },
  {
   "cell_type": "markdown",
   "id": "3468e612",
   "metadata": {},
   "source": [
    "working with Part of a list\n",
    "---\n",
    "In Chapter 3 you learned how to access single elements in a list, and in this\n",
    "chapter you’ve been learning how to work through all the elements in a list.\n",
    "You can also work with a specific group of items in a list, which Python calls\n",
    "a slice."
   ]
  },
  {
   "cell_type": "markdown",
   "id": "157abd74",
   "metadata": {},
   "source": [
    "Slicing a List\n",
    "----\n",
    "To make a slice, you specify the index of the first and last elements you\n",
    "want to work with. As with the range() function, Python stops one item\n",
    "before the second index you specify. To output the first three elements\n",
    "in a list, you would request indices 0 through 3, which would return ele-\n",
    "ments 0, 1, and 2.\n",
    "The following example involves a list of players on a team:"
   ]
  },
  {
   "cell_type": "code",
   "execution_count": 17,
   "id": "13fde063",
   "metadata": {},
   "outputs": [
    {
     "name": "stdout",
     "output_type": "stream",
     "text": [
      "['MS Dhoni', 'Virat Kohli']\n"
     ]
    }
   ],
   "source": [
    "Players = ['MS Dhoni', 'Virat Kohli', 'Rohit Sharma','Ravindra Jadeja','Manish Pandey']\n",
    "print(Players[0:2])"
   ]
  },
  {
   "cell_type": "code",
   "execution_count": 18,
   "id": "d8c71e2b",
   "metadata": {},
   "outputs": [
    {
     "name": "stdout",
     "output_type": "stream",
     "text": [
      "['Virat Kohli', 'Rohit Sharma', 'Ravindra Jadeja']\n"
     ]
    }
   ],
   "source": [
    "print(Players[1:4:1])"
   ]
  },
  {
   "cell_type": "code",
   "execution_count": 19,
   "id": "8abe66fc",
   "metadata": {},
   "outputs": [
    {
     "name": "stdout",
     "output_type": "stream",
     "text": [
      "['MS Dhoni']\n"
     ]
    }
   ],
   "source": [
    "print(Players[0:1:])"
   ]
  },
  {
   "cell_type": "code",
   "execution_count": 20,
   "id": "f7ba4944",
   "metadata": {},
   "outputs": [
    {
     "name": "stdout",
     "output_type": "stream",
     "text": [
      "['Rohit Sharma']\n"
     ]
    }
   ],
   "source": [
    "print(Players[-3:4:2])"
   ]
  },
  {
   "cell_type": "markdown",
   "id": "91e852f0",
   "metadata": {},
   "source": [
    "Looping Through a Slice\n",
    "---\n",
    "You can use a slice in a for loop if you want to loop through a subset of\n",
    "the elements in a list. In the next example we loop through the first three\n",
    "players and print their names as part of a simple roster:"
   ]
  },
  {
   "cell_type": "code",
   "execution_count": 21,
   "id": "835c231e",
   "metadata": {
    "scrolled": true
   },
   "outputs": [
    {
     "name": "stdout",
     "output_type": "stream",
     "text": [
      "Here are the first three players in my team:\n",
      "MS Dhoni\n",
      "Rohit Sharma\n",
      "Manish Pandey\n"
     ]
    }
   ],
   "source": [
    "Players = ['MS Dhoni', 'Virat Kohli', 'Rohit Sharma','Ravindra Jadeja','Manish Pandey']\n",
    "print(\"Here are the first three players in my team:\")\n",
    "for player in Players[0:5:2]:\n",
    "    print(player)"
   ]
  },
  {
   "cell_type": "markdown",
   "id": "ea16fefb",
   "metadata": {},
   "source": [
    "Copying a List\n",
    "---\n",
    "Often, you’ll want to start with an existing list and make an entirely new list\n",
    "based on the first one. Let’s explore how copying a list works and examine\n",
    "one situation in which copying a list is useful."
   ]
  },
  {
   "cell_type": "code",
   "execution_count": 22,
   "id": "31ebb0cc",
   "metadata": {},
   "outputs": [
    {
     "data": {
      "text/plain": [
       "['ML', 'DL', 'NN', 'CN', 'TOC', 'COA', 'DSA', 'MR', 'DB', 'OS']"
      ]
     },
     "execution_count": 22,
     "metadata": {},
     "output_type": "execute_result"
    }
   ],
   "source": [
    "my_subjects = ['ML','DL','NN','CN','TOC','COA','DSA','MR','DB','OS']\n",
    "frnd_subjects = my_subjects[:]\n",
    "frnd_subjects"
   ]
  },
  {
   "cell_type": "markdown",
   "id": "6ef54a32",
   "metadata": {},
   "source": [
    "Tuples\n",
    "----\n",
    "Defining a Tuple\n",
    "-------------\n",
    "A tuple looks just like a list except you use parentheses instead of square\n",
    "brackets. Once you define a tuple, you can access individual elements by\n",
    "using each item’s index, just as you would for a list."
   ]
  },
  {
   "cell_type": "code",
   "execution_count": 23,
   "id": "9cc5f0cf",
   "metadata": {},
   "outputs": [
    {
     "name": "stdout",
     "output_type": "stream",
     "text": [
      "90\n",
      "98\n"
     ]
    }
   ],
   "source": [
    "marks = (90, 98)\n",
    "print(marks[0])\n",
    "print(marks[1])"
   ]
  },
  {
   "cell_type": "code",
   "execution_count": 26,
   "id": "19c5f5a1",
   "metadata": {},
   "outputs": [
    {
     "ename": "TypeError",
     "evalue": "'tuple' object does not support item assignment",
     "output_type": "error",
     "traceback": [
      "\u001b[1;31m-----------------------------------\u001b[0m",
      "\u001b[1;31mTypeError\u001b[0mTraceback (most recent call last)",
      "Input \u001b[1;32mIn [26]\u001b[0m, in \u001b[0;36m<module>\u001b[1;34m\u001b[0m\n\u001b[1;32m----> 1\u001b[0m marks[\u001b[38;5;241m0\u001b[39m] \u001b[38;5;241m=\u001b[39m \u001b[38;5;241m87\u001b[39m\n",
      "\u001b[1;31mTypeError\u001b[0m: 'tuple' object does not support item assignment"
     ]
    }
   ],
   "source": [
    "marks[0] = 87\n",
    "#Python tells us we can’t assign a new value to an item in a tuple:"
   ]
  },
  {
   "cell_type": "markdown",
   "id": "43d78ea6",
   "metadata": {},
   "source": [
    "Looping Through All Values in a Tuple\n",
    "--------------\n",
    "You can loop over all the values in a tuple using a for loop, just as you did\n",
    "with a list:"
   ]
  },
  {
   "cell_type": "code",
   "execution_count": 27,
   "id": "9b41ca59",
   "metadata": {},
   "outputs": [
    {
     "name": "stdout",
     "output_type": "stream",
     "text": [
      "90\n",
      "98\n"
     ]
    }
   ],
   "source": [
    "marks = (90, 98)\n",
    "for mark in marks:\n",
    "    print(mark)"
   ]
  },
  {
   "cell_type": "code",
   "execution_count": 28,
   "id": "d7390459",
   "metadata": {},
   "outputs": [
    {
     "name": "stdout",
     "output_type": "stream",
     "text": [
      "original marks:\n",
      "90\n",
      "98\n",
      "modified marks:\n",
      "198\n",
      "190\n"
     ]
    }
   ],
   "source": [
    "print(\"original marks:\")\n",
    "for mark in marks:\n",
    "    print(mark)\n",
    "    \n",
    "marks = (198 ,190)\n",
    "print(\"modified marks:\")\n",
    "for mark in marks:\n",
    "    print(mark)\n"
   ]
  },
  {
   "cell_type": "markdown",
   "id": "762284c1",
   "metadata": {},
   "source": [
    "styling your Code\n",
    "-----\n",
    "\n",
    "The Style Guide\n",
    "-------\n",
    "\n",
    "When someone wants to make a change to the Python language, they write\n",
    "a Python Enhancement Proposal (PEP). One of the oldest PEPs is PEP 8, which\n",
    "instructs Python programmers on how to style their code. PEP 8 is fairly\n",
    "lengthy, but much of it relates to more complex coding structures than\n",
    "what you’ve seen so far.\n",
    "\n",
    "The Python style guide was written with the understanding that code\n",
    "is read more often than it is written. You’ll write your code once and then\n",
    "start reading it as you begin debugging. When you add features to a pro-\n",
    "gram, you’ll spend more time reading your code. When you share your\n",
    "code with other programmers, they’ll read your code as well.\n",
    "\n",
    "Given the choice between writing code that’s easier to write or code\n",
    "that’s easier to read, Python programmers will almost always encourage you\n",
    "to write code that’s easier to read. The following guidelines will help you\n",
    "write clear code from the start."
   ]
  },
  {
   "cell_type": "markdown",
   "id": "a9b67bfe",
   "metadata": {},
   "source": [
    "Indentation\n",
    "-----\n",
    "PEP 8 recommends that you use four spaces per indentation level. Using\n",
    "four spaces improves readability while leaving room for multiple levels of\n",
    "indentation on each line.\n",
    "In a word processing document, people often use tabs rather than\n",
    "spaces to indent. This works well for word processing documents, but the\n",
    "Python interpreter gets confused when tabs are mixed with spaces. Every\n",
    "text editor provides a setting that lets you use the tab key but then converts\n",
    "each tab to a set number of spaces. You should definitely use your tab key,\n",
    "but also make sure your editor is set to insert spaces rather than tabs into\n",
    "your document.\n",
    "Mixing tabs and spaces in your file can cause problems that are very\n",
    "difficult to diagnose. If you think you have a mix of tabs and spaces, you\n",
    "can convert all tabs in a file to spaces in most editors."
   ]
  },
  {
   "cell_type": "markdown",
   "id": "2b9b5ddb",
   "metadata": {},
   "source": [
    "line Length\n",
    "----\n",
    "Many Python programmers recommend that each line should be less than\n",
    "80 characters. Historically, this guideline developed because most com-\n",
    "puters could fit only 79 characters on a single line in a terminal window.\n",
    "Currently, people can fit much longer lines on their screens, but other rea-\n",
    "sons exist to adhere to the 79-character standard line length. Professional\n",
    "programmers often have several files open on the same screen, and using\n",
    "the standard line length allows them to see entire lines in two or three files\n",
    "that are open side by side onscreen. PEP 8 also recommends that you limit\n",
    "all of your comments to 72 characters per line, because some of the tools\n",
    "that generate automatic documentation for larger projects add formatting\n",
    "characters at the beginning of each commented line.\n",
    "The PEP 8 guidelines for line length are not set in stone, and some\n",
    "teams prefer a 99-character limit. Don’t worry too much about line length\n",
    "in your code as you’re learning, but be aware that people who are work-\n",
    "ing collaboratively almost always follow the PEP 8 guidelines. Most editors\n",
    "allow you to set up a visual cue, usually a vertical line on your screen, that\n",
    "shows you where these limits are."
   ]
  },
  {
   "cell_type": "markdown",
   "id": "f9687f70",
   "metadata": {},
   "source": [
    "Blank Lines\n",
    "--------\n",
    "To group parts of your program visually, use blank lines. You should use\n",
    "blank lines to organize your files, but don’t do so excessively. By following\n",
    "the examples provided in this book, you should strike the right balance. For\n",
    "example, if you have five lines of code that build a list, and then another\n",
    "three lines that do something with that list, it’s appropriate to place a blank\n",
    "line between the two sections. However, you should not place three or four\n",
    "blank lines between the two sections.\n",
    "Blank lines won’t affect how your code runs, but they will affect the\n",
    "readability of your code. The Python interpreter uses horizontal inden-\n",
    "tation to interpret the meaning of your code, but it disregards vertical\n",
    "spacing.\n",
    "\n",
    "\n",
    "Other Style Guidelines\n",
    "---------\n",
    "PEP 8 has many additional styling recommendations, but most of the guide-\n",
    "lines refer to more complex programs than what you’re writing at this point.\n",
    "As you learn more complex Python structures, I’ll share the relevant parts of\n",
    "the PEP 8 guidelines."
   ]
  },
  {
   "cell_type": "markdown",
   "id": "5ee42596",
   "metadata": {},
   "source": [
    " Reference:https://realpython.com/python-pep8/"
   ]
  },
  {
   "cell_type": "markdown",
   "id": "7415c363",
   "metadata": {},
   "source": [
    "Try It yourse lf\n",
    "------"
   ]
  },
  {
   "cell_type": "markdown",
   "id": "23d880a8",
   "metadata": {},
   "source": [
    "4-1. Pizzas: Think of at least three kinds of your favorite pizza . Store these\n",
    "pizza names in a list, and then use a for loop to print the name of eachpizza\n",
    "\n",
    "•  Modify your for loop to print a sentence using the name of the pizza\n",
    "instead of printing just the name of the pizza . For each pizza you should\n",
    "have one line of output containing a simple statement like I like pepperoni\n",
    "pizza .\n",
    "\n",
    "•  Add a line at the end of your program, outside the for loop, that states\n",
    "how much you like pizza . The output should consist of three or more lines\n",
    "about the kinds of pizza you like and then an additional sentence, such as\n",
    "I really love pizza!"
   ]
  },
  {
   "cell_type": "code",
   "execution_count": 29,
   "id": "c21c63b7",
   "metadata": {},
   "outputs": [
    {
     "name": "stdout",
     "output_type": "stream",
     "text": [
      "Neapolitan\n",
      "Sicilian\n",
      "Detroit\n"
     ]
    }
   ],
   "source": [
    "Pizzas = ['Neapolitan','Sicilian','Detroit']\n",
    "for Pizza in Pizzas:\n",
    "    print(Pizza)"
   ]
  },
  {
   "cell_type": "code",
   "execution_count": 30,
   "id": "e10a56d2",
   "metadata": {},
   "outputs": [
    {
     "name": "stdout",
     "output_type": "stream",
     "text": [
      "These cute little Neapolitan hold onto their fat and enhance the pizza during the baking process.\n",
      "These cute little Sicilian hold onto their fat and enhance the pizza during the baking process.\n",
      "These cute little Detroit hold onto their fat and enhance the pizza during the baking process.\n"
     ]
    }
   ],
   "source": [
    "Pizzas = ['Neapolitan','Sicilian','Detroit']\n",
    "for Pizza in Pizzas:\n",
    "    print('These cute little '+Pizza+' hold onto their fat and enhance the pizza during the baking process.')"
   ]
  },
  {
   "cell_type": "code",
   "execution_count": 31,
   "id": "ce270377",
   "metadata": {},
   "outputs": [
    {
     "name": "stdout",
     "output_type": "stream",
     "text": [
      "These cute little Neapolitan hold onto their fat and enhance the pizza during the baking process.\n",
      "\n",
      "These cute little Sicilian hold onto their fat and enhance the pizza during the baking process.\n",
      "\n",
      "These cute little Detroit hold onto their fat and enhance the pizza during the baking process.\n",
      "\n",
      "Pizza toppings are also packed with a compound called glutamate.\n"
     ]
    }
   ],
   "source": [
    "Pizzas = ['Neapolitan','Sicilian','Detroit']\n",
    "for Pizza in Pizzas:\n",
    "    print('These cute little '+Pizza+' hold onto their fat and enhance the pizza during the baking process.\\n')\n",
    "\n",
    "print(\"Pizza toppings are also packed with a compound called glutamate.\")"
   ]
  },
  {
   "cell_type": "markdown",
   "id": "d0717bd1",
   "metadata": {},
   "source": [
    "4-2. Animals: Think of at least three different animals that have a common char-\n",
    "acteristic . Store the names of these animals in a list, and then use a for loop to\n",
    "print out the name of each animal .\n",
    "\n",
    "•  Modify your program to print a statement about each animal, such as\n",
    "A dog would make a great pet.\n",
    "\n",
    "•  Add a line at the end of your program stating what these animals have in\n",
    "common . You could print a sentence such as Any of these animals would\n",
    "make a great pet!"
   ]
  },
  {
   "cell_type": "code",
   "execution_count": 32,
   "id": "e88765bb",
   "metadata": {},
   "outputs": [
    {
     "name": "stdout",
     "output_type": "stream",
     "text": [
      "Horse\n",
      "Zebra\n",
      "Unicorn\n"
     ]
    }
   ],
   "source": [
    "Animals = ['Horse','Zebra','Unicorn']\n",
    "for Animal in Animals:\n",
    "    print(Animal)"
   ]
  },
  {
   "cell_type": "code",
   "execution_count": 33,
   "id": "e562509b",
   "metadata": {},
   "outputs": [
    {
     "name": "stdout",
     "output_type": "stream",
     "text": [
      "The cheetah is the fastest of animal for a short dash and the Horse has superlative endurance.\n",
      "The cheetah is the fastest of animal for a short dash and the Zebra has superlative endurance.\n",
      "The cheetah is the fastest of animal for a short dash and the Unicorn has superlative endurance.\n"
     ]
    }
   ],
   "source": [
    "Animals = ['Horse','Zebra','Unicorn']\n",
    "for Animal in Animals:\n",
    "    print('The cheetah is the fastest of animal for a short dash and the ' + Animal + ' has superlative endurance.')"
   ]
  },
  {
   "cell_type": "code",
   "execution_count": 34,
   "id": "7714e89a",
   "metadata": {},
   "outputs": [
    {
     "name": "stdout",
     "output_type": "stream",
     "text": [
      "\n",
      "The cheetah is the fastest of animal for a short dash and the Horse has superlative endurance.\n",
      "\n",
      "The cheetah is the fastest of animal for a short dash and the Zebra has superlative endurance.\n",
      "\n",
      "The cheetah is the fastest of animal for a short dash and the Unicorn has superlative endurance.\n",
      "\n",
      "\n",
      "The cheetah is the fastest of animal for a short dash and othe Animals has superlative endurance.\n",
      "\n"
     ]
    }
   ],
   "source": [
    "Animals = ['Horse','Zebra','Unicorn']\n",
    "for Animal in Animals:\n",
    "    print('\\nThe cheetah is the fastest of animal for a short dash and the ' + Animal + ' has superlative endurance.')\n",
    "print('\\n\\nThe cheetah is the fastest of animal for a short dash and othe Animals has superlative endurance.\\n')"
   ]
  },
  {
   "cell_type": "markdown",
   "id": "24a424e9",
   "metadata": {},
   "source": [
    "4-3. Counting to Twenty: Use a for loop to print the numbers from 1 to 20,\n",
    "inclusive ."
   ]
  },
  {
   "cell_type": "code",
   "execution_count": 35,
   "id": "c96e0869",
   "metadata": {},
   "outputs": [
    {
     "name": "stdout",
     "output_type": "stream",
     "text": [
      "[1, 2, 3, 4, 5, 6, 7, 8, 9, 10, 11, 12, 13, 14, 15, 16, 17, 18, 19, 20]\n",
      "List Comprehensions\n",
      "[1, 2, 3, 4, 5, 6, 7, 8, 9, 10, 11, 12, 13, 14, 15, 16, 17, 18, 19, 20]\n"
     ]
    }
   ],
   "source": [
    "Counts = []\n",
    "for Count in range(1,21):\n",
    "    Counts.append(Count)\n",
    "print(Counts)    \n",
    "print(\"List Comprehensions\")\n",
    "Counts =[count for count in range(1,21) ]\n",
    "print(Counts)"
   ]
  },
  {
   "cell_type": "markdown",
   "id": "84220479",
   "metadata": {},
   "source": [
    "4-4. One Million: Make a list of the numbers from one to one million, and then\n",
    "use a for loop to print the numbers . (If the output is taking too long, stop it by\n",
    "pressing ctrl-C or by closing the output window .)"
   ]
  },
  {
   "cell_type": "code",
   "execution_count": 36,
   "id": "f0005e4f",
   "metadata": {},
   "outputs": [
    {
     "name": "stderr",
     "output_type": "stream",
     "text": [
      "IOPub data rate exceeded.\n",
      "The notebook server will temporarily stop sending output\n",
      "to the client in order to avoid crashing it.\n",
      "To change this limit, set the config variable\n",
      "`--NotebookApp.iopub_data_rate_limit`.\n",
      "\n",
      "Current values:\n",
      "NotebookApp.iopub_data_rate_limit=1000000.0 (bytes/sec)\n",
      "NotebookApp.rate_limit_window=3.0 (secs)\n",
      "\n"
     ]
    }
   ],
   "source": [
    "Million =[unit for unit in range(1,1000001) ]\n",
    "print(Million)"
   ]
  },
  {
   "cell_type": "markdown",
   "id": "ac8d5982",
   "metadata": {},
   "source": [
    "4-5. Summing a Million: Make a list of the numbers from one to one million,\n",
    "and then use min() and max() to make sure your list actually starts at one and\n",
    "ends at one million . Also, use the sum() function to see how quickly Python can\n",
    "add a million numbers ."
   ]
  },
  {
   "cell_type": "code",
   "execution_count": 37,
   "id": "dc03484c",
   "metadata": {},
   "outputs": [
    {
     "name": "stderr",
     "output_type": "stream",
     "text": [
      "IOPub data rate exceeded.\n",
      "The notebook server will temporarily stop sending output\n",
      "to the client in order to avoid crashing it.\n",
      "To change this limit, set the config variable\n",
      "`--NotebookApp.iopub_data_rate_limit`.\n",
      "\n",
      "Current values:\n",
      "NotebookApp.iopub_data_rate_limit=1000000.0 (bytes/sec)\n",
      "NotebookApp.rate_limit_window=3.0 (secs)\n",
      "\n"
     ]
    },
    {
     "data": {
      "text/plain": [
       "1"
      ]
     },
     "execution_count": 37,
     "metadata": {},
     "output_type": "execute_result"
    }
   ],
   "source": [
    "Million =[unit for unit in range(1,1000001) ]\n",
    "print(Million)\n",
    "min(Million)\n"
   ]
  },
  {
   "cell_type": "code",
   "execution_count": 38,
   "id": "c0b1ada2",
   "metadata": {},
   "outputs": [
    {
     "data": {
      "text/plain": [
       "1000000"
      ]
     },
     "execution_count": 38,
     "metadata": {},
     "output_type": "execute_result"
    }
   ],
   "source": [
    "max(Million)\n"
   ]
  },
  {
   "cell_type": "code",
   "execution_count": 39,
   "id": "3a03a388",
   "metadata": {},
   "outputs": [
    {
     "data": {
      "text/plain": [
       "500000500000"
      ]
     },
     "execution_count": 39,
     "metadata": {},
     "output_type": "execute_result"
    }
   ],
   "source": [
    "sum(Million)"
   ]
  },
  {
   "cell_type": "markdown",
   "id": "fa70759a",
   "metadata": {},
   "source": [
    "4-6. Odd Numbers: Use the third argument of the range() function to make a list\n",
    "of the odd numbers from 1 to 20 . Use a for loop to print each number ."
   ]
  },
  {
   "cell_type": "code",
   "execution_count": 40,
   "id": "e21e77ea",
   "metadata": {},
   "outputs": [
    {
     "name": "stdout",
     "output_type": "stream",
     "text": [
      "[1, 3, 5, 7, 9, 11, 13, 15, 17, 19]\n"
     ]
    }
   ],
   "source": [
    "Numbers = list(range(1,21))\n",
    "odd_number = []\n",
    "for number in Numbers[0:20:2]:\n",
    "    odd_number.append(number)\n",
    "print(odd_number)    "
   ]
  },
  {
   "cell_type": "code",
   "execution_count": 41,
   "id": "de0663be",
   "metadata": {},
   "outputs": [
    {
     "name": "stdout",
     "output_type": "stream",
     "text": [
      "[1, 3, 5, 7, 9, 11, 13, 15, 17, 19]\n"
     ]
    }
   ],
   "source": [
    "odd_numbers = [number for number in range(1,21,2)]\n",
    "print(odd_numbers)"
   ]
  },
  {
   "cell_type": "markdown",
   "id": "14c46dd4",
   "metadata": {},
   "source": [
    "4-7. Threes: Make a list of the multiples of 3 from 3 to 30 . Use a for loop to\n",
    "print the numbers in your list ."
   ]
  },
  {
   "cell_type": "code",
   "execution_count": 42,
   "id": "04e047c1",
   "metadata": {},
   "outputs": [
    {
     "name": "stdout",
     "output_type": "stream",
     "text": [
      "[3, 6, 9, 12, 15, 18, 21, 24, 27, 30]\n"
     ]
    }
   ],
   "source": [
    "Threes = []\n",
    "for three in range(3,31,3):\n",
    "    Threes.append(three)\n",
    "print(Threes)"
   ]
  },
  {
   "cell_type": "markdown",
   "id": "b99e9ed6",
   "metadata": {},
   "source": [
    "4-8. Cubes: A number raised to the third power is called a cube . For example,\n",
    "the cube of 2 is written as 2**3 in Python . Make a list of the first 10 cubes (that\n",
    "is, the cube of each integer from 1 through 10), and use a for loop to print out\n",
    "the value of each cube ."
   ]
  },
  {
   "cell_type": "code",
   "execution_count": 43,
   "id": "55e4bbc1",
   "metadata": {},
   "outputs": [
    {
     "name": "stdout",
     "output_type": "stream",
     "text": [
      "[0, 1, 2, 3, 4, 5, 6, 7, 8, 9, 10]\n",
      "0\n",
      "1\n",
      "8\n",
      "27\n",
      "64\n",
      "125\n",
      "216\n",
      "343\n",
      "512\n",
      "729\n",
      "1000\n"
     ]
    }
   ],
   "source": [
    "Cubes = list(range(0,11))\n",
    "print(Cubes)\n",
    "for cube in Cubes:\n",
    "    print(cube**3)"
   ]
  },
  {
   "cell_type": "markdown",
   "id": "3531bf4a",
   "metadata": {},
   "source": [
    "4-9. Cube Comprehension: Use a list comprehension to generate a list of the\n",
    "first 10 cubes ."
   ]
  },
  {
   "cell_type": "code",
   "execution_count": 44,
   "id": "fcda3a6d",
   "metadata": {},
   "outputs": [
    {
     "name": "stdout",
     "output_type": "stream",
     "text": [
      "[0, 1, 8, 27, 64, 125, 216, 343, 512, 729, 1000]\n"
     ]
    }
   ],
   "source": [
    "Cube_Comprehension = [cube**3 for cube in range(0,11) ]\n",
    "print(Cube_Comprehension)"
   ]
  },
  {
   "cell_type": "markdown",
   "id": "4a34b868",
   "metadata": {},
   "source": [
    "4-10. Slices: Using one of the programs you wrote in this chapter, add several\n",
    "lines to the end of the program that do the following:\n",
    "\n",
    "•  Print the message, The first three items in the list are: . Then use a slice to\n",
    "print the first three items from that program’s list .\n",
    "\n",
    "•  Print the message, Three items from the middle of the list are: . Use a slice\n",
    "to print three items from the middle of the list .\n",
    "\n",
    "•  Print the message, The last three items in the list are: . Use a slice to print\n",
    "the last three items in the list .\n"
   ]
  },
  {
   "cell_type": "code",
   "execution_count": 45,
   "id": "b3d0a3c1",
   "metadata": {},
   "outputs": [
    {
     "name": "stdout",
     "output_type": "stream",
     "text": [
      "first three items in the list are: ['ML', 'DL', 'NN']\n",
      "Three items from the middle of the list are: ['TOC', 'COA', 'DSA']\n",
      "The last three items in the list are: ['MR', 'DB', 'OS']\n"
     ]
    }
   ],
   "source": [
    "my_subjects = ['ML','DL','NN','CN','TOC','COA','DSA','MR','DB','OS']\n",
    "print(\"first three items in the list are:\",my_subjects[0:3])\n",
    "print(\"Three items from the middle of the list are:\",my_subjects[4:7])\n",
    "print(\"The last three items in the list are:\",my_subjects[-3:])"
   ]
  },
  {
   "cell_type": "markdown",
   "id": "b50038c8",
   "metadata": {},
   "source": [
    "4-11. My Pizzas, Your Pizzas: Start with your program from Exercise 4-1\n",
    "(page 60) . Make a copy of the list of pizzas, and call it friend_pizzas .\n",
    "Then, do the following:\n",
    "\n",
    "•  Add a new pizza to the original list .\n",
    "\n",
    "•  Add a different pizza to the list friend_pizzas .\n",
    "\n",
    "•  Prove that you have two separate lists . Print the message, My favorite\n",
    "pizzas are:, and then use a for loop to print the first list . Print the message,\n",
    "My friend’s favorite pizzas are:, and then use a for loop to print the sec-\n",
    "ond list . Make sure each new pizza is stored in the appropriate list ."
   ]
  },
  {
   "cell_type": "code",
   "execution_count": 46,
   "id": "a0b9116c",
   "metadata": {},
   "outputs": [
    {
     "name": "stdout",
     "output_type": "stream",
     "text": [
      "[' Neapolitan', 'St. Louis Pizza', 'California Pizza']\n",
      "[' Neapolitan', 'St. Louis Pizza']\n"
     ]
    }
   ],
   "source": [
    "my_Pizza = [' Neapolitan', 'St. Louis Pizza','California Pizza']\n",
    "frnd_pizza = my_Pizza[0:2]\n",
    "print(my_Pizza)\n",
    "print(frnd_pizza)"
   ]
  },
  {
   "cell_type": "code",
   "execution_count": 47,
   "id": "8debadf3",
   "metadata": {},
   "outputs": [
    {
     "name": "stdout",
     "output_type": "stream",
     "text": [
      "[' Neapolitan', 'St. Louis Pizza', 'California Pizza', 'Detroit Pizza']\n",
      "[' Neapolitan', 'St. Louis Pizza', 'Greek Pizza']\n"
     ]
    }
   ],
   "source": [
    "my_Pizza.append(\"Detroit Pizza\")\n",
    "print(my_Pizza)\n",
    "frnd_pizza.append(\"Greek Pizza\")\n",
    "print(frnd_pizza)"
   ]
  },
  {
   "cell_type": "code",
   "execution_count": 48,
   "id": "90bad479",
   "metadata": {},
   "outputs": [
    {
     "name": "stdout",
     "output_type": "stream",
     "text": [
      "my favorite pizzas are:  Neapolitan\n",
      "my favorite pizzas are: St. Louis Pizza\n",
      "my favorite pizzas are: California Pizza\n",
      "my favorite pizzas are: Detroit Pizza\n"
     ]
    }
   ],
   "source": [
    "for my_fav in my_Pizza:\n",
    "    print(\"my favorite pizzas are:\", my_fav)"
   ]
  },
  {
   "cell_type": "code",
   "execution_count": 49,
   "id": "ce69905f",
   "metadata": {},
   "outputs": [
    {
     "name": "stdout",
     "output_type": "stream",
     "text": [
      "Friend favorite pizzas are:  Neapolitan\n",
      "Friend favorite pizzas are: St. Louis Pizza\n",
      "Friend favorite pizzas are: Greek Pizza\n"
     ]
    }
   ],
   "source": [
    "for frnd_fav in frnd_pizza:\n",
    "    print(\"Friend favorite pizzas are:\", frnd_fav)\n"
   ]
  },
  {
   "cell_type": "markdown",
   "id": "56710811",
   "metadata": {},
   "source": [
    "4-12. More Loops: All versions of foods.py in this section have avoided using\n",
    "for loops when printing to save space . Choose a version of foods.py, and\n",
    "write two for loops to print each list of foods "
   ]
  },
  {
   "cell_type": "code",
   "execution_count": 50,
   "id": "a19578e8",
   "metadata": {},
   "outputs": [],
   "source": [
    "my_food = [' Neapolitan', 'St. Louis Pizza','California Pizza']\n",
    "frnd_food = [' Neapolitan', 'St. Louis Pizza', 'California Pizza', 'Detroit Pizza']"
   ]
  },
  {
   "cell_type": "code",
   "execution_count": 51,
   "id": "eb5968dc",
   "metadata": {},
   "outputs": [
    {
     "name": "stdout",
     "output_type": "stream",
     "text": [
      "my favorite pizzas are:  Neapolitan\n",
      "my favorite pizzas are: St. Louis Pizza\n",
      "my favorite pizzas are: California Pizza\n"
     ]
    }
   ],
   "source": [
    "for my_fav in my_food:\n",
    "    print(\"my favorite pizzas are:\", my_fav)"
   ]
  },
  {
   "cell_type": "code",
   "execution_count": 52,
   "id": "7e521059",
   "metadata": {},
   "outputs": [
    {
     "name": "stdout",
     "output_type": "stream",
     "text": [
      "Friend favorite pizzas are:  Neapolitan\n",
      "Friend favorite pizzas are: St. Louis Pizza\n",
      "Friend favorite pizzas are: Greek Pizza\n"
     ]
    }
   ],
   "source": [
    "for frnd_fav in frnd_pizza:\n",
    "    print(\"Friend favorite pizzas are:\", frnd_fav)"
   ]
  },
  {
   "cell_type": "markdown",
   "id": "86738338",
   "metadata": {},
   "source": [
    "4-13. Buffet: A buffet-style restaurant offers only five basic foods . \n",
    "Think of five\n",
    "simple foods, and store them in a tuple .\n",
    "\n",
    "•  Use a for loop to print each food the restaurant offers .\n",
    "\n",
    "•  Try to modify one of the items, and make sure that Python rejects the\n",
    "change .\n",
    "\n",
    "•  The restaurant changes its menu, replacing two of the items with different\n",
    "foods . \n",
    "Add a block of code that rewrites the tuple, and then use a for\n",
    "loop to print each of the items on the revised menu ."
   ]
  },
  {
   "cell_type": "code",
   "execution_count": 53,
   "id": "1aa99590",
   "metadata": {},
   "outputs": [
    {
     "name": "stdout",
     "output_type": "stream",
     "text": [
      "Tandoori Chicken\n",
      "Tandoori Fish\n",
      "Biryani\n",
      "Masala\n",
      "Naan\n"
     ]
    }
   ],
   "source": [
    "Basic_food =('Tandoori Chicken','Tandoori Fish', 'Biryani','Masala','Naan')\n",
    "for food in Basic_food:\n",
    "    print(food)"
   ]
  },
  {
   "cell_type": "code",
   "execution_count": 54,
   "id": "4fb3f53e",
   "metadata": {},
   "outputs": [
    {
     "ename": "TypeError",
     "evalue": "'tuple' object does not support item assignment",
     "output_type": "error",
     "traceback": [
      "\u001b[1;31m-----------------------------------\u001b[0m",
      "\u001b[1;31mTypeError\u001b[0mTraceback (most recent call last)",
      "Input \u001b[1;32mIn [54]\u001b[0m, in \u001b[0;36m<module>\u001b[1;34m\u001b[0m\n\u001b[1;32m----> 1\u001b[0m Basic_food[\u001b[38;5;241m0\u001b[39m] \u001b[38;5;241m=\u001b[39m \u001b[38;5;124m\"\u001b[39m\u001b[38;5;124mSamosa\u001b[39m\u001b[38;5;124m\"\u001b[39m\n",
      "\u001b[1;31mTypeError\u001b[0m: 'tuple' object does not support item assignment"
     ]
    }
   ],
   "source": [
    "Basic_food[0] = \"Samosa\""
   ]
  },
  {
   "cell_type": "code",
   "execution_count": 55,
   "id": "1adf6afb",
   "metadata": {},
   "outputs": [
    {
     "name": "stdout",
     "output_type": "stream",
     "text": [
      "Tandoori Chicken\n",
      "Fish fry\n",
      "Biryani\n",
      "Masala\n",
      "Samosa\n"
     ]
    }
   ],
   "source": [
    "Basic_food =('Tandoori Chicken','Fish fry', 'Biryani','Masala','Samosa')\n",
    "for food in Basic_food:\n",
    "    print(food)\n",
    "       "
   ]
  },
  {
   "cell_type": "markdown",
   "id": "2295b93c",
   "metadata": {},
   "source": [
    "4-14. PEP 8: Look through the original PEP 8 style guide at https://python.org/\n",
    "dev/peps/pep-0008/ . You won’t use much of it now, but it might be interesting\n",
    "to skim through it ."
   ]
  },
  {
   "cell_type": "code",
   "execution_count": 56,
   "id": "d98811a8",
   "metadata": {},
   "outputs": [],
   "source": [
    "#try It yourself Reference:https://realpython.com/python-pep8/"
   ]
  },
  {
   "cell_type": "markdown",
   "id": "1d2059f9",
   "metadata": {},
   "source": [
    "4-15. Code Review: Choose three of the programs you’ve written in this chapter\n",
    "and modify each one to comply with PEP 8:\n",
    "    \n",
    "•  Use four spaces for each indentation level . Set your text editor to insert\n",
    "four spaces every time you press tab, if you haven’t already done so (see\n",
    "Appendix B for instructions on how to do this) .\n",
    "\n",
    "•  Use less than 80 characters on each line, and set your editor to show a\n",
    "vertical guideline at the 80th character position .\n",
    "\n",
    "•  Don’t use blank lines excessively in your program files ."
   ]
  },
  {
   "cell_type": "code",
   "execution_count": 57,
   "id": "c09384a8",
   "metadata": {},
   "outputs": [],
   "source": [
    "#try It yourself  Reference:https://realpython.com/python-pep8/"
   ]
  },
  {
   "cell_type": "code",
   "execution_count": null,
   "id": "0cbe1799",
   "metadata": {},
   "outputs": [],
   "source": []
  },
  {
   "cell_type": "code",
   "execution_count": null,
   "id": "0facf0c6",
   "metadata": {},
   "outputs": [],
   "source": []
  }
 ],
 "metadata": {
  "kernelspec": {
   "display_name": "Python 3 (ipykernel)",
   "language": "python",
   "name": "python3"
  },
  "language_info": {
   "codemirror_mode": {
    "name": "ipython",
    "version": 3
   },
   "file_extension": ".py",
   "mimetype": "text/x-python",
   "name": "python",
   "nbconvert_exporter": "python",
   "pygments_lexer": "ipython3",
   "version": "3.10.0"
  }
 },
 "nbformat": 4,
 "nbformat_minor": 5
}
