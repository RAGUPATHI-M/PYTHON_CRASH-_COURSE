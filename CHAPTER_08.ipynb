{
 "cells": [
  {
   "cell_type": "markdown",
   "id": "ed6e470d",
   "metadata": {},
   "source": [
    "CHAPTER-8  FUNCTION\n",
    "============"
   ]
  },
  {
   "cell_type": "markdown",
   "id": "c016048f",
   "metadata": {},
   "source": [
    "In this chapter you’ll learn to write\n",
    "functions, which are named blocks of code\n",
    "that are designed to do one specific job.\n",
    "When you want to perform a particular task\n",
    "that you’ve defined in a function, you call the name\n",
    "of the function responsible for it. \n",
    "\n",
    "If you need to\n",
    "perform that task multiple times throughout your program, you don’t\n",
    "need to type all the code for the same task again and again; you just call\n",
    "the function dedicated to handling that task, and the call tells Python to\n",
    "run the code inside the function. You’ll find that using functions makes\n",
    "your programs easier to write, read, test, and fix.\n",
    "\n",
    "\n",
    "In this chapter you’ll also learn ways to pass information to functions.\n",
    "You’ll learn how to write certain functions whose primary job is to display\n",
    "information and other functions designed to process data and return a\n",
    "value or set of values. Finally, you’ll learn to store functions in separate files\n",
    "called modules to help organize your main program files."
   ]
  },
  {
   "cell_type": "markdown",
   "id": "077e4af6",
   "metadata": {},
   "source": [
    "Defining a function\n",
    "-----------\n",
    "Here’s a simple function named greet_user() that prints a greeting:"
   ]
  },
  {
   "cell_type": "code",
   "execution_count": 1,
   "id": "0d427f6f",
   "metadata": {},
   "outputs": [],
   "source": [
    "def greet_user():\n",
    "    print(\"Welcome to CHAPTER-8\")"
   ]
  },
  {
   "cell_type": "code",
   "execution_count": 2,
   "id": "5f215b7d",
   "metadata": {},
   "outputs": [
    {
     "name": "stdout",
     "output_type": "stream",
     "text": [
      "Welcome to CHAPTER-8\n"
     ]
    }
   ],
   "source": [
    "greet_user()"
   ]
  },
  {
   "cell_type": "markdown",
   "id": "2c2103f1",
   "metadata": {},
   "source": [
    "Passing Information to a Function\n",
    "------------------------\n",
    "Modified slightly, the function greet_user() can not only tell the user Hello!\n",
    "but also greet them by name. For the function to do this, you enter username\n",
    "in the parentheses of the function’s definition at def greet_user(). By add-\n",
    "ing username here you allow the function to accept any value of username you\n",
    "specify. The function now expects you to provide a value for username each\n",
    "time you call it. When you call greet_user(), you can pass it a name, such as\n",
    "'Ragu', inside the parentheses:\n",
    "Entering greet_user('Ragu') calls greet_user() and gives the function the\n",
    "information it needs to execute the print statement. The function accepts\n",
    "the name you passed it and displays the greeting for that name:"
   ]
  },
  {
   "cell_type": "code",
   "execution_count": 3,
   "id": "66db4522",
   "metadata": {},
   "outputs": [],
   "source": [
    "def greet_user(user_name):\n",
    "    print(\"Hello \"+user_name.title()+'!')"
   ]
  },
  {
   "cell_type": "code",
   "execution_count": 4,
   "id": "a96b9b0f",
   "metadata": {},
   "outputs": [
    {
     "name": "stdout",
     "output_type": "stream",
     "text": [
      "Hello Ragu!\n"
     ]
    }
   ],
   "source": [
    "greet_user('Ragu')"
   ]
  },
  {
   "cell_type": "markdown",
   "id": "420c7de0",
   "metadata": {},
   "source": [
    "Arguments and Parameters\n",
    "--------------------\n",
    "In the preceding greet_user() function, we defined greet_user() to require a\n",
    "value for the variable username. Once we called the function and gave it the\n",
    "information (a person’s name), it printed the right greeting.\n",
    "\n",
    "The variable username in the definition of greet_user() is an example of a\n",
    "parameter, a piece of information the function needs to do its job. The value\n",
    "'jesse' in greet_user('Ragu') is an example of an argument. An argument\n",
    "is a piece of information that is passed from a function call to a function.\n",
    "When we call the function, we place the value we want the function to work\n",
    "with in parentheses. In this case the argument 'Ragu' was passed to the\n",
    "function greet_user(), and the value was stored in the parameter username."
   ]
  },
  {
   "cell_type": "markdown",
   "id": "70318683",
   "metadata": {},
   "source": [
    "Passing arguments\n",
    "------------------\n",
    "Because a function definition can have multiple parameters, a function call\n",
    "may need multiple arguments. You can pass arguments to your functions\n",
    "in a number of ways. You can use positional arguments, which need to be in\n",
    "the same order the parameters were written; keyword arguments, where each\n",
    "argument consists of a variable name and a value; and lists and dictionaries\n",
    "of values. Let’s look at each of these in turn."
   ]
  },
  {
   "cell_type": "markdown",
   "id": "cbed19f5",
   "metadata": {},
   "source": [
    "Positional Arguments\n",
    "----\n",
    "When you call a function, Python must match each argument in the func-\n",
    "tion call with a parameter in the function definition. The simplest way to\n",
    "do this is based on the order of the arguments provided. Values matched\n",
    "up this way are called positional arguments.\n"
   ]
  },
  {
   "cell_type": "code",
   "execution_count": 5,
   "id": "a809d2ce",
   "metadata": {
    "scrolled": true
   },
   "outputs": [
    {
     "name": "stdout",
     "output_type": "stream",
     "text": [
      "DataScience\n",
      "DS-403\n"
     ]
    }
   ],
   "source": [
    "def subjects(name,code):\n",
    "    print(name)\n",
    "    print(code)\n",
    "    \n",
    "subjects('DataScience',\"DS-403\")    "
   ]
  },
  {
   "cell_type": "code",
   "execution_count": 6,
   "id": "a2628336",
   "metadata": {},
   "outputs": [
    {
     "name": "stdout",
     "output_type": "stream",
     "text": [
      "DataScience\n",
      "DS-403\n"
     ]
    }
   ],
   "source": [
    "def subjects(name,code):\n",
    "    print(name)\n",
    "    print(code)\n",
    "    \n",
    "subjects(code = \"DS-403\",name='DataScience')    "
   ]
  },
  {
   "cell_type": "code",
   "execution_count": 7,
   "id": "528ab0c3",
   "metadata": {},
   "outputs": [
    {
     "name": "stdout",
     "output_type": "stream",
     "text": [
      "DataScience\n",
      "403\n"
     ]
    }
   ],
   "source": [
    "def subjects(name,code = 403):\n",
    "    print(name)\n",
    "    print(code)\n",
    "    \n",
    "subjects('DataScience')"
   ]
  },
  {
   "cell_type": "code",
   "execution_count": 8,
   "id": "aca12735",
   "metadata": {},
   "outputs": [
    {
     "name": "stdout",
     "output_type": "stream",
     "text": [
      "('DataScience', 'machinelearning')\n"
     ]
    }
   ],
   "source": [
    "def subjects(*name):\n",
    "    print(name)\n",
    "    \n",
    "    \n",
    "subjects('DataScience','machinelearning')"
   ]
  },
  {
   "cell_type": "markdown",
   "id": "5c9c8c37",
   "metadata": {},
   "source": [
    "Multiple function calls\n",
    "---------------------"
   ]
  },
  {
   "cell_type": "code",
   "execution_count": 9,
   "id": "2a50f4a1",
   "metadata": {},
   "outputs": [
    {
     "name": "stdout",
     "output_type": "stream",
     "text": [
      "DataScience\n",
      "DS-403\n",
      "Machinelearing\n",
      "Ds-503\n"
     ]
    }
   ],
   "source": [
    "def subjects(name,code):\n",
    "    print(name)\n",
    "    print(code)\n",
    "    \n",
    "subjects('DataScience', \"DS-403\") \n",
    "subjects('Machinelearing','Ds-503')"
   ]
  },
  {
   "cell_type": "markdown",
   "id": "5da74691",
   "metadata": {},
   "source": [
    "Avoiding Argument Errors\n",
    "-------------\n",
    "When you start to use functions, don’t be surprised if you encounter errors\n",
    "about unmatched arguments. Unmatched arguments occur when you\n",
    "provide fewer or more arguments than a function needs to do its work.\n",
    "For example, here’s what happens if we try to call describe_pet() with no\n",
    "arguments:"
   ]
  },
  {
   "cell_type": "code",
   "execution_count": 10,
   "id": "94b3a693",
   "metadata": {},
   "outputs": [
    {
     "ename": "TypeError",
     "evalue": "subjects() missing 2 required positional arguments: 'name' and 'code'",
     "output_type": "error",
     "traceback": [
      "\u001b[1;31m-----------------------------------\u001b[0m",
      "\u001b[1;31mTypeError\u001b[0mTraceback (most recent call last)",
      "Input \u001b[1;32mIn [10]\u001b[0m, in \u001b[0;36m<module>\u001b[1;34m\u001b[0m\n\u001b[0;32m      2\u001b[0m     \u001b[38;5;28mprint\u001b[39m(name)\n\u001b[0;32m      3\u001b[0m     \u001b[38;5;28mprint\u001b[39m(code)\n\u001b[1;32m----> 6\u001b[0m \u001b[43msubjects\u001b[49m\u001b[43m(\u001b[49m\u001b[43m)\u001b[49m\n",
      "\u001b[1;31mTypeError\u001b[0m: subjects() missing 2 required positional arguments: 'name' and 'code'"
     ]
    }
   ],
   "source": [
    "def subjects(name,code):\n",
    "    print(name)\n",
    "    print(code)\n",
    "    \n",
    "    \n",
    "subjects()   \n",
    "    "
   ]
  },
  {
   "cell_type": "markdown",
   "id": "ef5fbd5e",
   "metadata": {},
   "source": [
    "Return Values\n",
    "--------\n",
    "A function doesn’t always have to display its output directly. Instead, it can\n",
    "process some data and then return a value or set of values. The value the\n",
    "function returns is called a return value. The return statement takes a value\n",
    "from inside a function and sends it back to the line that called the function.\n",
    "Return values allow you to move much of your program’s grunt work into\n",
    "functions, which can simplify the body of your program."
   ]
  },
  {
   "cell_type": "markdown",
   "id": "4aece593",
   "metadata": {},
   "source": [
    "Returning a Simple Value\n",
    "----------------\n",
    "Let’s look at a function that takes a first and last name, and returns a neatly\n",
    "formatted full name:"
   ]
  },
  {
   "cell_type": "code",
   "execution_count": 11,
   "id": "ea585044",
   "metadata": {},
   "outputs": [
    {
     "data": {
      "text/plain": [
       "'HOSUR IN INDIA'"
      ]
     },
     "execution_count": 11,
     "metadata": {},
     "output_type": "execute_result"
    }
   ],
   "source": [
    "def city_name(city , country = \"INDIA\"):\n",
    "    CITY =city + \" IN \"+ country \n",
    "    return CITY\n",
    "city_name(\"HOSUR\")\n"
   ]
  },
  {
   "cell_type": "markdown",
   "id": "cea89675",
   "metadata": {},
   "source": [
    "Making an Argument Optional\n",
    "-----"
   ]
  },
  {
   "cell_type": "code",
   "execution_count": 12,
   "id": "2a6a0891",
   "metadata": {},
   "outputs": [
    {
     "name": "stdout",
     "output_type": "stream",
     "text": [
      "Sher Lock Homes\n"
     ]
    }
   ],
   "source": [
    "def name(first, middle, last):\n",
    "    full_name = first+middle+last\n",
    "    return full_name.title()\n",
    "NAME = name(\"SHER\", \" LOCK \", \"HOMES\")\n",
    "print(NAME)"
   ]
  },
  {
   "cell_type": "code",
   "execution_count": 13,
   "id": "4f027506",
   "metadata": {},
   "outputs": [
    {
     "name": "stdout",
     "output_type": "stream",
     "text": [
      "Sher Homes  Lock \n",
      "Sherlock  Homes\n"
     ]
    }
   ],
   "source": [
    "def name(first,last,middle=\"\"):\n",
    "    if middle:\n",
    "        full_name = first+\" \"+middle+\" \"+last\n",
    "    else:\n",
    "        full_name = first+\" \"+last\n",
    "    return full_name.title()\n",
    "\n",
    "NAME = name(\"SHER\", \" LOCK \", \"HOMES\")\n",
    "print(NAME)\n",
    "NAME = name(\"SHERLOCK \", \"HOMES\")\n",
    "print(NAME)"
   ]
  },
  {
   "cell_type": "markdown",
   "id": "10d21cb7",
   "metadata": {},
   "source": [
    "Returning a Dictionary\n",
    "----------\n",
    "A function can return any kind of value you need it to, including more com-\n",
    "plicated data structures like lists and dictionaries. For example, the follow-\n",
    "ing function takes in parts of a name and returns a dictionary representing\n",
    "a person:"
   ]
  },
  {
   "cell_type": "code",
   "execution_count": 14,
   "id": "dcb395bc",
   "metadata": {},
   "outputs": [
    {
     "name": "stdout",
     "output_type": "stream",
     "text": [
      "{'first_name': 'SHER', 'last_name': 'LOCK'}\n"
     ]
    }
   ],
   "source": [
    "def name(first, last):\n",
    "    person = {\"first_name\":first, \"last_name\":last}\n",
    "    return person\n",
    "\n",
    "\n",
    "\n",
    "x = name(\"SHER\",  \"LOCK\")\n",
    "print(x)\n"
   ]
  },
  {
   "cell_type": "code",
   "execution_count": 15,
   "id": "67ae066d",
   "metadata": {},
   "outputs": [
    {
     "name": "stdout",
     "output_type": "stream",
     "text": [
      "{'first_name': 'SHER', 'last_name': 'LOCK', 'age': 27}\n"
     ]
    }
   ],
   "source": [
    "def name(first, last,age=\"\"):\n",
    "    person = {\"first_name\":first, \"last_name\":last}\n",
    "    if age:\n",
    "        person[\"age\"]=age\n",
    "    return person   \n",
    "\n",
    "\n",
    "NAME = name(\"SHER\",  \"LOCK\",27)\n",
    "print(NAME)"
   ]
  },
  {
   "cell_type": "code",
   "execution_count": 16,
   "id": "cb8ce922",
   "metadata": {},
   "outputs": [
    {
     "data": {
      "text/plain": [
       "{'first_name': 'python', 'last_name': 'java'}"
      ]
     },
     "execution_count": 16,
     "metadata": {},
     "output_type": "execute_result"
    }
   ],
   "source": [
    "name(\"python\",\"java\")"
   ]
  },
  {
   "cell_type": "markdown",
   "id": "06e37af1",
   "metadata": {},
   "source": [
    "Using a Function with a while Loop\n",
    "-------------\n",
    "You can use functions with all the Python structures you’ve learned about\n",
    "so far. For example, let’s use the get_formatted_name() function with a while\n",
    "loop to greet users more formally. Here’s a first attempt at greeting people\n",
    "using their first and last names:"
   ]
  },
  {
   "cell_type": "code",
   "execution_count": 17,
   "id": "9cb231b2",
   "metadata": {},
   "outputs": [
    {
     "name": "stdout",
     "output_type": "stream",
     "text": [
      "\n",
      "please tell me your name:\n",
      "First name: \n",
      "last name: \n",
      "\n",
      "Hello,  !\n"
     ]
    }
   ],
   "source": [
    "def while_loop(first,last):\n",
    "    full_name = first + last\n",
    "    return full_name\n",
    "\n",
    "\n",
    "\n",
    "\n",
    "\n",
    "while True:\n",
    "        print(\"\\nplease tell me your name:\")\n",
    "        f_name = input(\"First name: \")\n",
    "        l_last = input(\"last name: \")\n",
    "        NAME = while_loop(f_name,l_last)\n",
    "        print(\"\\nHello, \"+NAME+\" !\")\n",
    "        break"
   ]
  },
  {
   "cell_type": "code",
   "execution_count": 18,
   "id": "ecc3b4a0",
   "metadata": {},
   "outputs": [],
   "source": [
    "def name():\n",
    "    while True:\n",
    "        print(\"\\nplease tell me your name:\")\n",
    "        f_name = input(\"First name: \")\n",
    "        l_last = input(\"last name: \")\n",
    "        NAME = f_name  + l_last\n",
    "        print(\"\\nHello, \"+NAME+\" !\")\n",
    "        break"
   ]
  },
  {
   "cell_type": "code",
   "execution_count": 19,
   "id": "d316c7ee",
   "metadata": {},
   "outputs": [
    {
     "name": "stdout",
     "output_type": "stream",
     "text": [
      "\n",
      "please tell me your name:\n",
      "First name: \n",
      "last name: \n",
      "\n",
      "Hello,  !\n"
     ]
    }
   ],
   "source": [
    "name()"
   ]
  },
  {
   "cell_type": "markdown",
   "id": "0b9b4e45",
   "metadata": {},
   "source": [
    "Passing a list\n",
    "-----------\n",
    "You’ll often find it useful to pass a list to a function, whether it’s a list of\n",
    "names, numbers, or more complex objects, such as dictionaries. When you\n",
    "pass a list to a function, the function gets direct access to the contents of\n",
    "the list. Let’s use functions to make working with lists more efficient.\n",
    "Say we have a list of users and want to print a greeting to each. The\n",
    "following example sends a list of names to a function called greet_users(),\n",
    "which greets each person in the list individually:"
   ]
  },
  {
   "cell_type": "code",
   "execution_count": 20,
   "id": "be0d3394",
   "metadata": {},
   "outputs": [],
   "source": [
    "def friends(names):\n",
    "    for name in names:\n",
    "        msg = \"hello \"+ name.title()+ \" !\" \n",
    "        print(msg)\n",
    "   \n",
    "        "
   ]
  },
  {
   "cell_type": "code",
   "execution_count": 21,
   "id": "3d7ceaa5",
   "metadata": {},
   "outputs": [
    {
     "name": "stdout",
     "output_type": "stream",
     "text": [
      "hello Turing !\n",
      "hello Albert !\n",
      "hello Che !\n",
      "hello Edward !\n"
     ]
    }
   ],
   "source": [
    "list_of_frnds = ['turing','albert','che','edward']\n",
    "friends(list_of_frnds)"
   ]
  },
  {
   "cell_type": "markdown",
   "id": "9a50934b",
   "metadata": {},
   "source": [
    "Modifying a List in a Function\n",
    "-----------------------------\n",
    "\n",
    "When you pass a list to a function, the function can modify the list. Any\n",
    "changes made to the list inside the function’s body are permanent, allowing\n",
    "you to work efficiently even when you’re dealing with large amounts of data.\n",
    "Consider a company that creates 3D printed models of designs that\n",
    "users submit. Designs that need to be printed are stored in a list, and after\n",
    "being printed they’re moved to a separate list. The following code does this\n",
    "without using functions:"
   ]
  },
  {
   "cell_type": "code",
   "execution_count": 22,
   "id": "a5b8a0bf",
   "metadata": {},
   "outputs": [
    {
     "name": "stdout",
     "output_type": "stream",
     "text": [
      "currently working: DBT\n",
      "currently working: MR\n",
      "currently working: DV\n",
      "currently working: ML\n",
      "currently working: DS\n",
      "completed  ['DBT', 'MR', 'DV', 'ML', 'DS']\n"
     ]
    }
   ],
   "source": [
    "record_writing = [\"DS\",'ML','DV','MR','DBT']\n",
    "completed = []\n",
    "while record_writing:\n",
    "    current_writing =record_writing.pop()\n",
    "    print(\"currently working: \"+current_writing)\n",
    "    completed.append(current_writing)\n",
    "    \n",
    "print(\"completed \" ,completed)    \n",
    "    "
   ]
  },
  {
   "cell_type": "code",
   "execution_count": 23,
   "id": "e662c2e2",
   "metadata": {},
   "outputs": [],
   "source": [
    "record_writing = [\"DS\",'ML','DV','MR','DBT']\n",
    "completeds = []\n",
    "def record(record_writing,completeds):\n",
    "    while record_writing:\n",
    "        current_writing =record_writing.pop()\n",
    "        print(\"currently working: \"+current_writing)\n",
    "        completeds.append(current_writing)\n",
    "def display(completeds):\n",
    "    for completed in completeds:\n",
    "        print(\"completed:-\",completed)\n",
    "        "
   ]
  },
  {
   "cell_type": "code",
   "execution_count": 24,
   "id": "24c8ad28",
   "metadata": {},
   "outputs": [
    {
     "name": "stdout",
     "output_type": "stream",
     "text": [
      "currently working: DBT\n",
      "currently working: MR\n",
      "currently working: DV\n",
      "currently working: ML\n",
      "currently working: DS\n"
     ]
    }
   ],
   "source": [
    "record(record_writing,completeds)"
   ]
  },
  {
   "cell_type": "code",
   "execution_count": 25,
   "id": "b5495ec2",
   "metadata": {},
   "outputs": [
    {
     "name": "stdout",
     "output_type": "stream",
     "text": [
      "completed:- DBT\n",
      "completed:- MR\n",
      "completed:- DV\n",
      "completed:- ML\n",
      "completed:- DS\n"
     ]
    }
   ],
   "source": [
    "display(completeds)"
   ]
  },
  {
   "cell_type": "markdown",
   "id": "8baf7135",
   "metadata": {},
   "source": [
    "Preventing a Function from Modifying a List\n",
    "----------------------------------------"
   ]
  },
  {
   "cell_type": "code",
   "execution_count": 26,
   "id": "4b656969",
   "metadata": {},
   "outputs": [
    {
     "name": "stdout",
     "output_type": "stream",
     "text": [
      "completed:- DBT\n",
      "completed:- DV\n"
     ]
    }
   ],
   "source": [
    "#function_name(list_name[:])\n",
    "display(completeds[0:4:2])"
   ]
  },
  {
   "cell_type": "markdown",
   "id": "c6cffb40",
   "metadata": {},
   "source": [
    "Passing an arbitrary number of arguments\n",
    "---\n",
    "Sometimes you won’t know ahead of time how many arguments a function\n",
    "needs to accept. Fortunately, Python allows a function to collect an arbi-\n",
    "trary number of arguments from the calling statement."
   ]
  },
  {
   "cell_type": "code",
   "execution_count": 27,
   "id": "4c8166f9",
   "metadata": {},
   "outputs": [
    {
     "name": "stdout",
     "output_type": "stream",
     "text": [
      "('pepperoni',)\n",
      "('mushrooms', 'green peppers', 'extra chees')\n"
     ]
    }
   ],
   "source": [
    "def make_pizza(*toppings):\n",
    "    \"\"\"Print the list of toppings that have been requested.\"\"\"\n",
    "    print(toppings)\n",
    "make_pizza('pepperoni')\n",
    "make_pizza('mushrooms', 'green peppers', 'extra chees')"
   ]
  },
  {
   "cell_type": "markdown",
   "id": "ec9a1ea2",
   "metadata": {},
   "source": [
    "Mixing Positional and Arbitrary Arguments\n",
    "----------------------------------------\n",
    "If you want a function to accept several different kinds of arguments, the\n",
    "parameter that accepts an arbitrary number of arguments must be placed\n",
    "last in the function definition. Python matches positional and keyword\n",
    "arguments first and then collects any remaining arguments in the final\n",
    "parameter.\n",
    "For example, if the function needs to take in a size for the pizza, that\n",
    "parameter must come before the parameter *toppings:"
   ]
  },
  {
   "cell_type": "code",
   "execution_count": 28,
   "id": "7c5dcf0e",
   "metadata": {},
   "outputs": [
    {
     "name": "stdout",
     "output_type": "stream",
     "text": [
      "\n",
      "Making a 16-inch pizza with the following toppings:\n",
      "- pepperoni\n",
      "\n",
      "Making a 12-inch pizza with the following toppings:\n",
      "- mushrooms\n",
      "- green peppers\n",
      "- extra che\n"
     ]
    }
   ],
   "source": [
    "def make_pizza(size, *toppings):\n",
    "    \"\"\"Summarize the pizza we are about to make.\"\"\"\n",
    "    print(\"\\nMaking a \" + str(size) + \"-inch pizza with the following toppings:\")\n",
    "    for topping in toppings:\n",
    "        print(\"- \" + topping)\n",
    "make_pizza(16, 'pepperoni')\n",
    "make_pizza( 12,'mushrooms', 'green peppers', 'extra che')"
   ]
  },
  {
   "cell_type": "markdown",
   "id": "4230153a",
   "metadata": {},
   "source": [
    "Using Arbitrary Keyword Arguments\n",
    "-------------"
   ]
  },
  {
   "cell_type": "code",
   "execution_count": 29,
   "id": "4afde281",
   "metadata": {},
   "outputs": [
    {
     "name": "stdout",
     "output_type": "stream",
     "text": [
      "{'first_name': 'albert', 'last_name': 'einstein', 'location': 'princeton', 'field': 'physics', 'score': '100'}\n"
     ]
    }
   ],
   "source": [
    "def build_profile(first, last, **user_info):\n",
    "    \"\"\"Build a dictionary containing everything we know about a user.\"\"\"\n",
    "    profile = {}\n",
    "    profile['first_name'] = first\n",
    "    profile['last_name'] = last\n",
    "    for key, value in user_info.items():\n",
    "        profile[key] = value\n",
    "    return profile\n",
    "\n",
    "user_profile = build_profile('albert', 'einstein',location='princeton',field='physics',score=\"100\")\n",
    "print(user_profile)"
   ]
  },
  {
   "cell_type": "markdown",
   "id": "5f417c64",
   "metadata": {},
   "source": [
    "storing your functions in modules\n",
    "----------------------\n",
    "One advantage of functions is the way they separate blocks of code from\n",
    "your main program. By using descriptive names for your functions, your\n",
    "main program will be much easier to follow. You can go a step further by\n",
    "storing your functions in a separate file called a module and then importing\n",
    "that module into your main program. An import statement tells Python to\n",
    "make the code in a module available in the currently running program file.\n",
    "\n",
    "\n",
    "Storing your functions in a separate file allows you to hide the details of\n",
    "your program’s code and focus on its higher-level logic. It also allows you to\n",
    "reuse functions in many different programs. When you store your functions\n",
    "in separate files, you can share those files with other programmers without\n",
    "having to share your entire program. Knowing how to import functions\n",
    "also allows you to use libraries of functions that other programmers have\n",
    "written.\n",
    "\n",
    "There are several ways to import a module, and I’ll show you each of\n",
    "these briefly."
   ]
  },
  {
   "cell_type": "markdown",
   "id": "c6834184",
   "metadata": {},
   "source": [
    "Importing an Entire Module\n",
    "--------------------------\n",
    "To start importing functions, we first need to create a module. A module\n",
    "is a file ending in .py that contains the code you want to import into your\n",
    "program. Let’s make a module that contains the function make_pizza(). To\n",
    "make this module, we’ll remove everything from the file pizza.py except the\n",
    "function make_pizza()"
   ]
  },
  {
   "cell_type": "code",
   "execution_count": 30,
   "id": "277fbdb7",
   "metadata": {},
   "outputs": [],
   "source": [
    "def make_pizza(size, *toppings):\n",
    "    \"\"\"Summarize the pizza we are about to make.\"\"\"\n",
    "    print(\"\\nMaking a \" + str(size) +\"-inch pizza with the following toppings:\")\n",
    "    for topping in toppings:\n",
    "        print(\"- \" + topping)"
   ]
  },
  {
   "cell_type": "code",
   "execution_count": 1,
   "id": "b19158c8",
   "metadata": {},
   "outputs": [
    {
     "name": "stdout",
     "output_type": "stream",
     "text": [
      "\n",
      "Making a 16-inch pizza with the following toppings:\n",
      "- pepperoni\n",
      "\n",
      "Making a 12-inch pizza with the following toppings:\n",
      "- mushrooms\n",
      "- green peppers\n",
      "- extra chees\n"
     ]
    }
   ],
   "source": [
    "import pizza\n",
    "pizza.make_pizza(16, 'pepperoni')\n",
    "pizza.make_pizza(12, 'mushrooms', 'green peppers', 'extra chees')"
   ]
  },
  {
   "cell_type": "markdown",
   "id": "bd0617aa",
   "metadata": {},
   "source": [
    "Importing Specific Functions\n",
    "-----"
   ]
  },
  {
   "cell_type": "code",
   "execution_count": 2,
   "id": "762d4b1d",
   "metadata": {},
   "outputs": [],
   "source": [
    "#from module_name import function_name"
   ]
  },
  {
   "cell_type": "code",
   "execution_count": 3,
   "id": "6b7bdddc",
   "metadata": {},
   "outputs": [],
   "source": [
    "#from module_name import function_name"
   ]
  },
  {
   "cell_type": "code",
   "execution_count": 4,
   "id": "971b4dc3",
   "metadata": {},
   "outputs": [
    {
     "name": "stdout",
     "output_type": "stream",
     "text": [
      "\n",
      "Making a 16-inch pizza with the following toppings:\n",
      "- pepperoni\n",
      "\n",
      "Making a 12-inch pizza with the following toppings:\n",
      "- mushrooms\n",
      "- green peppers\n",
      "- extra chees\n"
     ]
    }
   ],
   "source": [
    "from pizza import make_pizza\n",
    "make_pizza(16, 'pepperoni')\n",
    "make_pizza(12, 'mushrooms', 'green peppers', 'extra chees')"
   ]
  },
  {
   "cell_type": "markdown",
   "id": "1aae123c",
   "metadata": {},
   "source": [
    "Using as to Give a Function an Alias\n",
    "-----"
   ]
  },
  {
   "cell_type": "code",
   "execution_count": 35,
   "id": "56f2d1db",
   "metadata": {},
   "outputs": [
    {
     "ename": "ModuleNotFoundError",
     "evalue": "No module named 'pizza'",
     "output_type": "error",
     "traceback": [
      "\u001b[1;31m-----------------------------------\u001b[0m",
      "\u001b[1;31mModuleNotFoundError\u001b[0mTraceback (most recent call last)",
      "Input \u001b[1;32mIn [35]\u001b[0m, in \u001b[0;36m<module>\u001b[1;34m\u001b[0m\n\u001b[0;32m      1\u001b[0m \u001b[38;5;66;03m#from module_name import function_name as fn\u001b[39;00m\n\u001b[1;32m----> 2\u001b[0m \u001b[38;5;28;01mfrom\u001b[39;00m \u001b[38;5;21;01mpizza\u001b[39;00m \u001b[38;5;28;01mimport\u001b[39;00m make_pizza \u001b[38;5;28;01mas\u001b[39;00m mp\n\u001b[0;32m      3\u001b[0m mp(\u001b[38;5;241m16\u001b[39m, \u001b[38;5;124m'\u001b[39m\u001b[38;5;124mpepperoni\u001b[39m\u001b[38;5;124m'\u001b[39m)\n\u001b[0;32m      4\u001b[0m mp(\u001b[38;5;241m12\u001b[39m, \u001b[38;5;124m'\u001b[39m\u001b[38;5;124mmushrooms\u001b[39m\u001b[38;5;124m'\u001b[39m, \u001b[38;5;124m'\u001b[39m\u001b[38;5;124mgreen peppers\u001b[39m\u001b[38;5;124m'\u001b[39m, \u001b[38;5;124m'\u001b[39m\u001b[38;5;124mextra chees\u001b[39m\u001b[38;5;124m'\u001b[39m)\n",
      "\u001b[1;31mModuleNotFoundError\u001b[0m: No module named 'pizza'"
     ]
    }
   ],
   "source": [
    "#from module_name import function_name as fn\n",
    "from pizza import make_pizza as mp\n",
    "mp(16, 'pepperoni')\n",
    "mp(12, 'mushrooms', 'green peppers', 'extra chees')"
   ]
  },
  {
   "cell_type": "markdown",
   "id": "c3a98c94",
   "metadata": {},
   "source": [
    "Using as to Give a Module an Alias\n",
    "----"
   ]
  },
  {
   "cell_type": "code",
   "execution_count": 36,
   "id": "95056cbd",
   "metadata": {},
   "outputs": [
    {
     "ename": "ModuleNotFoundError",
     "evalue": "No module named 'pizza'",
     "output_type": "error",
     "traceback": [
      "\u001b[1;31m-----------------------------------\u001b[0m",
      "\u001b[1;31mModuleNotFoundError\u001b[0mTraceback (most recent call last)",
      "Input \u001b[1;32mIn [36]\u001b[0m, in \u001b[0;36m<module>\u001b[1;34m\u001b[0m\n\u001b[0;32m      1\u001b[0m \u001b[38;5;66;03m#import module_name as mn\u001b[39;00m\n\u001b[1;32m----> 2\u001b[0m \u001b[38;5;28;01mimport\u001b[39;00m \u001b[38;5;21;01mpizza\u001b[39;00m \u001b[38;5;28;01mas\u001b[39;00m \u001b[38;5;21;01mp\u001b[39;00m\n\u001b[0;32m      3\u001b[0m p\u001b[38;5;241m.\u001b[39mmake_pizza(\u001b[38;5;241m16\u001b[39m, \u001b[38;5;124m'\u001b[39m\u001b[38;5;124mpepperoni\u001b[39m\u001b[38;5;124m'\u001b[39m)\n\u001b[0;32m      4\u001b[0m p\u001b[38;5;241m.\u001b[39mmake_pizza(\u001b[38;5;241m12\u001b[39m, \u001b[38;5;124m'\u001b[39m\u001b[38;5;124mmushrooms\u001b[39m\u001b[38;5;124m'\u001b[39m, \u001b[38;5;124m'\u001b[39m\u001b[38;5;124mgreen peppers\u001b[39m\u001b[38;5;124m'\u001b[39m, \u001b[38;5;124m'\u001b[39m\u001b[38;5;124mextra chee\u001b[39m\u001b[38;5;124m'\u001b[39m)\n",
      "\u001b[1;31mModuleNotFoundError\u001b[0m: No module named 'pizza'"
     ]
    }
   ],
   "source": [
    "#import module_name as mn\n",
    "import pizza as p\n",
    "p.make_pizza(16, 'pepperoni')\n",
    "p.make_pizza(12, 'mushrooms', 'green peppers', 'extra chee')"
   ]
  },
  {
   "cell_type": "markdown",
   "id": "1f930bb9",
   "metadata": {},
   "source": [
    "Importing All Functions in a Module\n",
    "----\n",
    "You can tell Python to import every function in a module by using the aster-\n",
    "isk (*) operator:"
   ]
  },
  {
   "cell_type": "code",
   "execution_count": 37,
   "id": "0fd8d3a9",
   "metadata": {},
   "outputs": [
    {
     "ename": "ModuleNotFoundError",
     "evalue": "No module named 'pizza'",
     "output_type": "error",
     "traceback": [
      "\u001b[1;31m-----------------------------------\u001b[0m",
      "\u001b[1;31mModuleNotFoundError\u001b[0mTraceback (most recent call last)",
      "Input \u001b[1;32mIn [37]\u001b[0m, in \u001b[0;36m<module>\u001b[1;34m\u001b[0m\n\u001b[1;32m----> 1\u001b[0m \u001b[38;5;28;01mfrom\u001b[39;00m \u001b[38;5;21;01mpizza\u001b[39;00m \u001b[38;5;28;01mimport\u001b[39;00m \u001b[38;5;241m*\u001b[39m\n\u001b[0;32m      2\u001b[0m make_pizza(\u001b[38;5;241m16\u001b[39m, \u001b[38;5;124m'\u001b[39m\u001b[38;5;124mpepperoni\u001b[39m\u001b[38;5;124m'\u001b[39m)\n\u001b[0;32m      3\u001b[0m make_pizza(\u001b[38;5;241m12\u001b[39m, \u001b[38;5;124m'\u001b[39m\u001b[38;5;124mmushrooms\u001b[39m\u001b[38;5;124m'\u001b[39m, \u001b[38;5;124m'\u001b[39m\u001b[38;5;124mgreen peppers\u001b[39m\u001b[38;5;124m'\u001b[39m, \u001b[38;5;124m'\u001b[39m\u001b[38;5;124mextra chees\u001b[39m\u001b[38;5;124m'\u001b[39m)\n",
      "\u001b[1;31mModuleNotFoundError\u001b[0m: No module named 'pizza'"
     ]
    }
   ],
   "source": [
    "from pizza import * # import pizza\n",
    "make_pizza(16, 'pepperoni')\n",
    "make_pizza(12, 'mushrooms', 'green peppers', 'extra chees')"
   ]
  },
  {
   "cell_type": "markdown",
   "id": "eb4adc08",
   "metadata": {},
   "source": [
    "styling functions\n",
    "----------------\n",
    "You need to keep a few details in mind when you’re styling functions.\n",
    "Functions should have descriptive names, and these names should use\n",
    "lowercase letters and underscores. Descriptive names help you and others\n",
    "understand what your code is trying to do. Module names should use these\n",
    "conventions as well.\n",
    "\n",
    "Every function should have a comment that explains concisely what\n",
    "the function does. This comment should appear immediately after the\n",
    "function definition and use the docstring format. In a well-documented\n",
    "function, other programmers can use the function by reading only the\n",
    "description in the docstring. They should be able to trust that the code\n",
    "works as described, and as long as they know the name of the function,\n",
    "the arguments it needs, and the kind of value it returns, they should be\n",
    "able to use it in their programs.\n",
    "\n",
    "If you specify a default value for a parameter, no spaces should be used\n",
    "on either side of the equal sign:"
   ]
  },
  {
   "cell_type": "code",
   "execution_count": 38,
   "id": "b9910908",
   "metadata": {},
   "outputs": [],
   "source": [
    "#def function_name(parameter_0, parameter_1='default value')"
   ]
  },
  {
   "cell_type": "markdown",
   "id": "5fd57932",
   "metadata": {},
   "source": [
    "The same convention should be used for keyword arguments in func-\n",
    "tion calls:"
   ]
  },
  {
   "cell_type": "code",
   "execution_count": 39,
   "id": "e182d7a5",
   "metadata": {},
   "outputs": [],
   "source": [
    "#function_name(value_0, parameter_1='value')"
   ]
  },
  {
   "cell_type": "markdown",
   "id": "5e86bf0c",
   "metadata": {},
   "source": [
    "PEP 8 (https://www.python.org/dev/peps/pep-0008/) recommends that\n",
    "you limit lines of code to 79 characters so every line is visible in a reasonably\n",
    "sized editor window. If a set of parameters causes a function’s definition to\n",
    "be longer than 79 characters, press enter after the opening parenthesis on\n",
    "the definition line. On the next line, press tab twice to separate the list of\n",
    "arguments from the body of the function, which will only be indented one\n",
    "level.\n",
    "Most editors automatically line up any additional lines of parameters to\n",
    "match the indentation you have established on the first line:"
   ]
  },
  {
   "cell_type": "code",
   "execution_count": 40,
   "id": "7a3a03d7",
   "metadata": {},
   "outputs": [
    {
     "data": {
      "text/plain": [
       "'def function_name(\\nparameter_0, parameter_1, parameter_2,\\nparameter_3, parameter_4, parameter_5):\\nfunction body.'"
      ]
     },
     "execution_count": 40,
     "metadata": {},
     "output_type": "execute_result"
    }
   ],
   "source": [
    "'''def function_name(\n",
    "parameter_0, parameter_1, parameter_2,\n",
    "parameter_3, parameter_4, parameter_5):\n",
    "function body.'''"
   ]
  },
  {
   "cell_type": "markdown",
   "id": "70a0d6ae",
   "metadata": {},
   "source": [
    "If your program or module has more than one function, you can sepa-\n",
    "rate each by two blank lines to make it easier to see where one function\n",
    "ends and the next one begins.\n",
    "All import statements should be written at the beginning of a file.\n",
    "The only exception is if you use comments at the beginning of your file to\n",
    "describe the overall program."
   ]
  },
  {
   "cell_type": "markdown",
   "id": "ad5fd902",
   "metadata": {},
   "source": [
    "TRY IT YOURSELF\n",
    "-------------"
   ]
  },
  {
   "cell_type": "markdown",
   "id": "363e1da1",
   "metadata": {},
   "source": [
    "8-1. Message: Write a function called display_message() that prints one sen-\n",
    "tence telling everyone what you are learning about in this chapter . Call the\n",
    "function, and make sure the message displays correctly ."
   ]
  },
  {
   "cell_type": "code",
   "execution_count": 41,
   "id": "71b9241e",
   "metadata": {},
   "outputs": [
    {
     "name": "stdout",
     "output_type": "stream",
     "text": [
      "Welcome to Chapter_8:\n"
     ]
    }
   ],
   "source": [
    " def display_message():\n",
    "    print(\"Welcome to Chapter_8:\")\n",
    "    \n",
    "display_message()"
   ]
  },
  {
   "cell_type": "markdown",
   "id": "d35f8969",
   "metadata": {},
   "source": [
    "8-2. Favorite Book: Write a function called favorite_book() that accepts one\n",
    "parameter, title . The function should print a message, such as One of my\n",
    "favorite books is Alice in Wonderland . Call the function, making sure to\n",
    "include a book title as an argument in the function call ."
   ]
  },
  {
   "cell_type": "code",
   "execution_count": 42,
   "id": "4b6e79d8",
   "metadata": {},
   "outputs": [
    {
     "name": "stdout",
     "output_type": "stream",
     "text": [
      "My favorite_book: Think Like Sherlock Holmes\n"
     ]
    }
   ],
   "source": [
    "def fav_book(book):\n",
    "    print(\"My favorite_book: \"+book)\n",
    "    \n",
    "fav_book('Think Like Sherlock Holmes')"
   ]
  },
  {
   "cell_type": "markdown",
   "id": "ffdad541",
   "metadata": {},
   "source": [
    "8-3. T-Shirt: Write a function called make_shirt() that accepts a size and the\n",
    "text of a message that should be printed on the shirt . The function should print\n",
    "a sentence summarizing the size of the shirt and the message printed on it .\n",
    "Call the function once using positional arguments to make a shirt . Call the\n",
    "function a second time using keyword arguments ."
   ]
  },
  {
   "cell_type": "code",
   "execution_count": 43,
   "id": "3335b79c",
   "metadata": {},
   "outputs": [
    {
     "name": "stdout",
     "output_type": "stream",
     "text": [
      "Shirt size is S:\n",
      "Shirt size is M:\n"
     ]
    }
   ],
   "source": [
    "def make_shirt(size):\n",
    "    print(\"Shirt size is \"+ size+ ':' )\n",
    "    \n",
    "make_shirt('S')  \n",
    "make_shirt(size='M')"
   ]
  },
  {
   "cell_type": "markdown",
   "id": "2ae651cd",
   "metadata": {},
   "source": [
    "8-4. Large Shirts: Modify the make_shirt() function so that shirts are large\n",
    "by default with a message that reads I love Python . Make a large shirt and a\n",
    "medium shirt with the default message, and a shirt of any size with a different\n",
    "message ."
   ]
  },
  {
   "cell_type": "code",
   "execution_count": 44,
   "id": "d6d5ae18",
   "metadata": {},
   "outputs": [
    {
     "name": "stdout",
     "output_type": "stream",
     "text": [
      "I LOVE PYTHON\n",
      "Shirt size is S:\n"
     ]
    }
   ],
   "source": [
    "def make_shirt(size):\n",
    "        size =size.upper()\n",
    "        if size == \"L\" or size == \"M\":\n",
    "            print(\"I LOVE PYTHON\")\n",
    "        else:\n",
    "            print(\"Shirt size is \"+ size + ':')\n",
    "            \n",
    "make_shirt(\"m\")\n",
    "make_shirt(\"s\")"
   ]
  },
  {
   "cell_type": "markdown",
   "id": "ccbbbd84",
   "metadata": {},
   "source": [
    "8-5. Cities: Write a function called describe_city() that accepts the name of\n",
    "a city and its country . The function should print a simple sentence, such as\n",
    "Reykjavik is in Iceland . Give the parameter for the country a default value .\n",
    "Call your function for three different cities, at least one of which is not in the\n",
    "default country ."
   ]
  },
  {
   "cell_type": "code",
   "execution_count": 45,
   "id": "1c95ce10",
   "metadata": {},
   "outputs": [
    {
     "name": "stdout",
     "output_type": "stream",
     "text": [
      "HOSUR IN INDIA\n",
      "LONDON IN ENGLAND\n",
      "BENGALURU IN INDIA\n"
     ]
    }
   ],
   "source": [
    "def city_name(city , country = \"INDIA\"):\n",
    "    \n",
    "    print(city + \" IN \"+ country )\n",
    "    \n",
    "city_name(\"HOSUR\")\n",
    "city_name(city =\"LONDON\",country = \"ENGLAND\")\n",
    "city_name(\"BENGALURU\")"
   ]
  },
  {
   "cell_type": "markdown",
   "id": "35fdc323",
   "metadata": {},
   "source": [
    "8-6. City Names: Write a function called city_country() that takes in the name\n",
    "of a city and its country . The function should return a string formatted like this:\n",
    "\n",
    "\"Santiago, Chile\"\n",
    "\n",
    "Call your function with at least three city-country pairs, and print the value\n",
    "that’s returned ."
   ]
  },
  {
   "cell_type": "code",
   "execution_count": 46,
   "id": "3bf94a78",
   "metadata": {},
   "outputs": [],
   "source": [
    "def city_name(city , country =  \"INDIA\" ):\n",
    "    Message = city +\",\"+ country\n",
    "    #print(Message)\n",
    "    #display(Message)\n",
    "    return Message\n"
   ]
  },
  {
   "cell_type": "code",
   "execution_count": 47,
   "id": "00e32bdb",
   "metadata": {},
   "outputs": [
    {
     "data": {
      "text/plain": [
       "'HOSUR,INDIA'"
      ]
     },
     "execution_count": 47,
     "metadata": {},
     "output_type": "execute_result"
    }
   ],
   "source": [
    "city_name(\"HOSUR\")\n"
   ]
  },
  {
   "cell_type": "code",
   "execution_count": 48,
   "id": "500945e9",
   "metadata": {},
   "outputs": [
    {
     "data": {
      "text/plain": [
       "'LONDON,ENGLAND'"
      ]
     },
     "execution_count": 48,
     "metadata": {},
     "output_type": "execute_result"
    }
   ],
   "source": [
    "city_name(city =\"LONDON\",country = \"ENGLAND\")\n"
   ]
  },
  {
   "cell_type": "code",
   "execution_count": 49,
   "id": "be3d3adf",
   "metadata": {},
   "outputs": [
    {
     "data": {
      "text/plain": [
       "'BENGALURU,INDIA'"
      ]
     },
     "execution_count": 49,
     "metadata": {},
     "output_type": "execute_result"
    }
   ],
   "source": [
    "city_name(\"BENGALURU\")"
   ]
  },
  {
   "cell_type": "markdown",
   "id": "987a1522",
   "metadata": {},
   "source": [
    "8-7. Album: Write a function called make_album() that builds a dictionary\n",
    "describing a music album . The function should take in an artist name and an\n",
    "album title, and it should return a dictionary containing these two pieces of\n",
    "information . Use the function to make three dictionaries representing different\n",
    "albums . Print each return value to show that the dictionaries are storing the\n",
    "album information correctly .\n",
    "\n",
    "Add an optional parameter to make_album() that allows you to store the\n",
    "number of tracks on an album . If the calling line includes a value for the num-\n",
    "ber of tracks, add that value to the album’s dictionary . Make at least one new\n",
    "function call that includes the number of tracks on an album ."
   ]
  },
  {
   "cell_type": "code",
   "execution_count": 50,
   "id": "04f5ebee",
   "metadata": {},
   "outputs": [],
   "source": [
    "def make_album():\n",
    "    tamil_album = {'A R Rahman':['Roja','Dil Se','Alaipayuthey'],'Yuvan Shankar Raja':['Thottal Poo Malarum','Mankatha','Paiyaa']}\n",
    "    telugu_album ={'SP Balasubrahmanyam':[' Maharshi ',' Geethanjali',' Aalaapana'],'Smita':['Hai Rama.','Sanna Jaji','.Masth Masth Re']}\n",
    "    kannada_album ={'Sanjith Hegde':['Soul of Dia',' Hinde Hinde Hogu','I Wanna Fly'],'Sid Sriram':['Prema O Premaa','Dear Comrade','Haayagide']}\n",
    "    print(tamil_album) \n",
    "    print(telugu_album)\n",
    "    print(kannada_album)\n",
    "    "
   ]
  },
  {
   "cell_type": "code",
   "execution_count": 51,
   "id": "b89a2c97",
   "metadata": {},
   "outputs": [
    {
     "name": "stdout",
     "output_type": "stream",
     "text": [
      "{'A R Rahman': ['Roja', 'Dil Se', 'Alaipayuthey'], 'Yuvan Shankar Raja': ['Thottal Poo Malarum', 'Mankatha', 'Paiyaa']}\n",
      "{'SP Balasubrahmanyam': [' Maharshi ', ' Geethanjali', ' Aalaapana'], 'Smita': ['Hai Rama.', 'Sanna Jaji', '.Masth Masth Re']}\n",
      "{'Sanjith Hegde': ['Soul of Dia', ' Hinde Hinde Hogu', 'I Wanna Fly'], 'Sid Sriram': ['Prema O Premaa', 'Dear Comrade', 'Haayagide']}\n"
     ]
    }
   ],
   "source": [
    "make_album()"
   ]
  },
  {
   "cell_type": "code",
   "execution_count": 52,
   "id": "f003b169",
   "metadata": {},
   "outputs": [],
   "source": [
    "def make_album():\n",
    "    tamil_album = {'A R Rahman':['Roja','Dil Se','Alaipayuthey'],'Yuvan Shankar Raja':['Thottal Poo Malarum','Mankatha','Paiyaa']}\n",
    "    telugu_album ={'SP Balasubrahmanyam':[' Maharshi ',' Geethanjali',' Aalaapana'],'Smita':['Hai Rama.','Sanna Jaji','.Masth Masth Re']}\n",
    "    kannada_album ={'Sanjith Hegde':['Soul of Dia',' Hinde Hinde Hogu','I Wanna Fly'],'Sid Sriram':['Prema O Premaa','Dear Comrade','Haayagide']}\n",
    "    print(tamil_album) \n",
    "    print(telugu_album)\n",
    "    print(kannada_album)\n",
    "    "
   ]
  },
  {
   "cell_type": "code",
   "execution_count": null,
   "id": "be4d2089",
   "metadata": {},
   "outputs": [],
   "source": []
  },
  {
   "cell_type": "code",
   "execution_count": null,
   "id": "42ee1684",
   "metadata": {},
   "outputs": [],
   "source": []
  }
 ],
 "metadata": {
  "kernelspec": {
   "display_name": "Python 3 (ipykernel)",
   "language": "python",
   "name": "python3"
  },
  "language_info": {
   "codemirror_mode": {
    "name": "ipython",
    "version": 3
   },
   "file_extension": ".py",
   "mimetype": "text/x-python",
   "name": "python",
   "nbconvert_exporter": "python",
   "pygments_lexer": "ipython3",
   "version": "3.10.0"
  }
 },
 "nbformat": 4,
 "nbformat_minor": 5
}
