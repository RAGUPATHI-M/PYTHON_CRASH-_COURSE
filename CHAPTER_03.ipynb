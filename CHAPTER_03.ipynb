{
 "cells": [
  {
   "cell_type": "markdown",
   "id": "85f07e77",
   "metadata": {},
   "source": [
    "CHAPTER-3  INTRODUCING LISTS\n",
    "==="
   ]
  },
  {
   "cell_type": "markdown",
   "id": "09e13907",
   "metadata": {},
   "source": [
    "What is list?\n",
    "---\n",
    "   A list is a collection of items in a particular order.\n",
    "   \n",
    "   you can make alist that includes the letters of alphabet, the digits    from 0-9,or the names of all people in your class."
   ]
  },
  {
   "cell_type": "code",
   "execution_count": 1,
   "id": "e91ad712",
   "metadata": {},
   "outputs": [
    {
     "name": "stdout",
     "output_type": "stream",
     "text": [
      "['ragu', 'jegan', 'vicky', 'krishna', 'navith', 'naveen', 'vel', 'kannan', 'abi']\n",
      "['ragu', 'jegan', 'vicky', 'krishna', 'navith', 'naveen', 'vel', 'kannan', 'abi', 2]\n"
     ]
    }
   ],
   "source": [
    "class_mates = ['ragu', 'jegan', 'vicky', 'krishna', 'navith', 'naveen', 'vel', 'kannan', 'abi']\n",
    "print(class_mates)\n",
    "class_mates = ['ragu', 'jegan', 'vicky', 'krishna', 'navith', 'naveen', 'vel', 'kannan', 'abi',2]\n",
    "print(class_mates)"
   ]
  },
  {
   "cell_type": "markdown",
   "id": "54275eea",
   "metadata": {},
   "source": [
    "Accessing Elements in a List\n",
    "----"
   ]
  },
  {
   "cell_type": "code",
   "execution_count": 2,
   "id": "68577312",
   "metadata": {},
   "outputs": [
    {
     "name": "stdout",
     "output_type": "stream",
     "text": [
      "vicky\n"
     ]
    }
   ],
   "source": [
    "print(class_mates[2])"
   ]
  },
  {
   "cell_type": "markdown",
   "id": "791bff6e",
   "metadata": {},
   "source": [
    "Python has a special syntax for accessing the last element in a list. By ask-\n",
    "ing for the item at index -1, Python always returns the last item in the list:"
   ]
  },
  {
   "cell_type": "code",
   "execution_count": 3,
   "id": "0ed8f8e2",
   "metadata": {},
   "outputs": [
    {
     "name": "stdout",
     "output_type": "stream",
     "text": [
      "2\n"
     ]
    }
   ],
   "source": [
    "print(class_mates[-1])"
   ]
  },
  {
   "cell_type": "code",
   "execution_count": 4,
   "id": "31c53b70",
   "metadata": {},
   "outputs": [
    {
     "ename": "AttributeError",
     "evalue": "'int' object has no attribute 'title'",
     "output_type": "error",
     "traceback": [
      "\u001b[1;31m-----------------------------------\u001b[0m",
      "\u001b[1;31mAttributeError\u001b[0mTraceback (most recent call last)",
      "Input \u001b[1;32mIn [4]\u001b[0m, in \u001b[0;36m<module>\u001b[1;34m\u001b[0m\n\u001b[1;32m----> 1\u001b[0m \u001b[38;5;28mprint\u001b[39m(\u001b[43mclass_mates\u001b[49m\u001b[43m[\u001b[49m\u001b[38;5;241;43m-\u001b[39;49m\u001b[38;5;241;43m1\u001b[39;49m\u001b[43m]\u001b[49m\u001b[38;5;241;43m.\u001b[39;49m\u001b[43mtitle\u001b[49m())\n",
      "\u001b[1;31mAttributeError\u001b[0m: 'int' object has no attribute 'title'"
     ]
    }
   ],
   "source": [
    "print(class_mates[-1].title())"
   ]
  },
  {
   "cell_type": "markdown",
   "id": "dd647bd7",
   "metadata": {},
   "source": [
    "Index Positions Start at 0, Not 1\n",
    "---\n",
    "\n",
    "\n",
    "Python considers the first item in a list to be at position 0, not position 1.\n",
    "This is true of most programming languages, and the reason has to do with\n",
    "how the list operations are implemented at a lower level. If you’re receiving\n",
    "unexpected results, determine whether you are making a simple off-by-one\n",
    "error.\n",
    "\n",
    "The second item in a list has an index of 1. Using this simple counting\n",
    "system, you can get any element you want from a list by subtracting one\n",
    "from its position in the list. For instance, to access the fourth item in a list,\n",
    "you request the item at index 3."
   ]
  },
  {
   "cell_type": "code",
   "execution_count": null,
   "id": "ff67a2cd",
   "metadata": {},
   "outputs": [],
   "source": [
    "print(class_mates[1])\n",
    "print(class_mates[3])"
   ]
  },
  {
   "cell_type": "markdown",
   "id": "19df2c36",
   "metadata": {},
   "source": [
    "Using Individual Values from a List\n",
    "---"
   ]
  },
  {
   "cell_type": "code",
   "execution_count": 5,
   "id": "528f17c4",
   "metadata": {},
   "outputs": [],
   "source": [
    "message = class_mates[-2].title()+\" \"+\"is an university hockey player\""
   ]
  },
  {
   "cell_type": "code",
   "execution_count": 6,
   "id": "29f57401",
   "metadata": {},
   "outputs": [
    {
     "name": "stdout",
     "output_type": "stream",
     "text": [
      "Abi is an university hockey player\n"
     ]
    }
   ],
   "source": [
    "print(message)"
   ]
  },
  {
   "cell_type": "markdown",
   "id": "acad45f9",
   "metadata": {},
   "source": [
    "Changing, adding, and removing elements\n",
    "---\n",
    "\n",
    "Most lists you create will be dynamic, meaning you’ll build a list and\n",
    "then add and remove elements from it as your program runs its course. For\n",
    "example, you might create a game in which a player has to shoot aliens out\n",
    "of the sky. You could store the initial set of aliens in a list and then remove\n",
    "an alien from the list each time one is shot down. Each time a new alien\n",
    "appears on the screen, you add it to the list. Your list of aliens will decrease\n",
    "and increase in length throughout the course of the game."
   ]
  },
  {
   "cell_type": "markdown",
   "id": "0157f21a",
   "metadata": {},
   "source": [
    "Modifying Elements in a List\n",
    "----\n",
    "The syntax for modifying an element is similar to the syntax for accessing\n",
    "an element in a list. To change an element, use the name of the list followed\n",
    "by the index of the element you want to change, and then provide the new\n",
    "value you want that item to have."
   ]
  },
  {
   "cell_type": "code",
   "execution_count": 7,
   "id": "ab80d665",
   "metadata": {},
   "outputs": [
    {
     "data": {
      "text/plain": [
       "['vector', 'statistics', 'algebra']"
      ]
     },
     "execution_count": 7,
     "metadata": {},
     "output_type": "execute_result"
    }
   ],
   "source": [
    "math = ['vector', 'statistics', 'algebra']\n",
    "math"
   ]
  },
  {
   "cell_type": "code",
   "execution_count": 8,
   "id": "9c3998db",
   "metadata": {},
   "outputs": [
    {
     "data": {
      "text/plain": [
       "['probability', 'statistics', 'algebra']"
      ]
     },
     "execution_count": 8,
     "metadata": {},
     "output_type": "execute_result"
    }
   ],
   "source": [
    "math[0] = 'probability'\n",
    "math"
   ]
  },
  {
   "cell_type": "markdown",
   "id": "33452a74",
   "metadata": {},
   "source": [
    "Adding Elements to a List\n",
    "---\n",
    "You might want to add a new element to a list for many reasons. For\n",
    "example, you might want to make new aliens appear in a game, add new\n",
    "data to a visualization, or add new registered users to a website you’ve\n",
    "built. Python provides several ways to add new data to existing lists."
   ]
  },
  {
   "cell_type": "markdown",
   "id": "59b638b8",
   "metadata": {},
   "source": [
    "appending Elements to the End of a List\n",
    "---\n",
    "The simplest way to add a new element to a list is to append the item to the\n",
    "list. When you append an item to a list, the new element is added to the end\n",
    "of the list. Using the same list we had in the previous example, we’ll add the\n",
    "new element 'ducati' to the end of the list:"
   ]
  },
  {
   "cell_type": "code",
   "execution_count": 9,
   "id": "f072416c",
   "metadata": {},
   "outputs": [
    {
     "data": {
      "text/plain": [
       "['vector', 'statistics', 'algebra', 'probability']"
      ]
     },
     "execution_count": 9,
     "metadata": {},
     "output_type": "execute_result"
    }
   ],
   "source": [
    "math = ['vector', 'statistics', 'algebra']\n",
    "math.append('probability')\n",
    "math"
   ]
  },
  {
   "cell_type": "code",
   "execution_count": 10,
   "id": "b901109a",
   "metadata": {},
   "outputs": [
    {
     "data": {
      "text/plain": [
       "['vector',\n",
       " 'statistics',\n",
       " 'algebra',\n",
       " 'probability',\n",
       " 'geometry',\n",
       " 'measurements',\n",
       " 'calculus']"
      ]
     },
     "execution_count": 10,
     "metadata": {},
     "output_type": "execute_result"
    }
   ],
   "source": [
    "math.append('geometry')\n",
    "math.append('measurements')\n",
    "math.append('calculus')\n",
    "math"
   ]
  },
  {
   "cell_type": "markdown",
   "id": "5da9a412",
   "metadata": {},
   "source": [
    "Inserting Elements into a List\n",
    "----\n",
    "You can add a new element at any position in your list by using the insert()\n",
    "method. You do this by specifying the index of the new element and the\n",
    "value of the new item."
   ]
  },
  {
   "cell_type": "code",
   "execution_count": 11,
   "id": "9e925113",
   "metadata": {},
   "outputs": [
    {
     "data": {
      "text/plain": [
       "['probability', 'vector', 'statistics', 'algebra']"
      ]
     },
     "execution_count": 11,
     "metadata": {},
     "output_type": "execute_result"
    }
   ],
   "source": [
    "math = ['vector', 'statistics', 'algebra']\n",
    "math.insert(0,'probability')\n",
    "math"
   ]
  },
  {
   "cell_type": "code",
   "execution_count": 12,
   "id": "2b365021",
   "metadata": {},
   "outputs": [
    {
     "data": {
      "text/plain": [
       "['vector', 'statistics', 'geometry', 'algebra']"
      ]
     },
     "execution_count": 12,
     "metadata": {},
     "output_type": "execute_result"
    }
   ],
   "source": [
    "math = ['vector', 'statistics', 'algebra']\n",
    "math.insert(-1,'geometry')\n",
    "math"
   ]
  },
  {
   "cell_type": "markdown",
   "id": "7140ac8c",
   "metadata": {},
   "source": [
    "Removing Elements from a List\n",
    "---\n",
    "Often, you’ll want to remove an item or a set of items from a list. "
   ]
  },
  {
   "cell_type": "markdown",
   "id": "f6add887",
   "metadata": {},
   "source": [
    "Removing an Item Using the del Statement\n",
    "---\n",
    "If you know the position of the item you want to remove from a list, you can\n",
    "use the del statement."
   ]
  },
  {
   "cell_type": "code",
   "execution_count": 13,
   "id": "28ec0a99",
   "metadata": {},
   "outputs": [
    {
     "data": {
      "text/plain": [
       "['statistics', 'algebra']"
      ]
     },
     "execution_count": 13,
     "metadata": {},
     "output_type": "execute_result"
    }
   ],
   "source": [
    "math = ['vector', 'statistics', 'algebra']\n",
    "del math[0]\n",
    "math\n"
   ]
  },
  {
   "cell_type": "code",
   "execution_count": 14,
   "id": "f4ead67c",
   "metadata": {},
   "outputs": [
    {
     "data": {
      "text/plain": [
       "['statistics']"
      ]
     },
     "execution_count": 14,
     "metadata": {},
     "output_type": "execute_result"
    }
   ],
   "source": [
    "del math[-1]\n",
    "math"
   ]
  },
  {
   "cell_type": "markdown",
   "id": "97637db1",
   "metadata": {},
   "source": [
    "Removing an Item Using the pop() Method\n",
    "---"
   ]
  },
  {
   "cell_type": "code",
   "execution_count": 15,
   "id": "3efb8396",
   "metadata": {},
   "outputs": [
    {
     "name": "stdout",
     "output_type": "stream",
     "text": [
      "['vector', 'statistics', 'algebra', 'probability', 'geometry', 'measurements', 'calculus']\n"
     ]
    }
   ],
   "source": [
    "math = ['vector','statistics','algebra','probability','geometry','measurements','calculus']\n",
    "print (math)"
   ]
  },
  {
   "cell_type": "code",
   "execution_count": 16,
   "id": "56fff1f9",
   "metadata": {},
   "outputs": [
    {
     "name": "stdout",
     "output_type": "stream",
     "text": [
      "calculus\n"
     ]
    }
   ],
   "source": [
    "popped_math = math.pop()\n",
    "print(popped_math)"
   ]
  },
  {
   "cell_type": "code",
   "execution_count": 17,
   "id": "86b91b8f",
   "metadata": {},
   "outputs": [
    {
     "name": "stdout",
     "output_type": "stream",
     "text": [
      "['vector', 'statistics', 'algebra', 'probability', 'geometry', 'measurements']\n"
     ]
    }
   ],
   "source": [
    "print(math)"
   ]
  },
  {
   "cell_type": "markdown",
   "id": "727fa60e",
   "metadata": {},
   "source": [
    "Popping Items from any Position in a List\n",
    "---"
   ]
  },
  {
   "cell_type": "code",
   "execution_count": 18,
   "id": "87b84cfe",
   "metadata": {},
   "outputs": [
    {
     "name": "stdout",
     "output_type": "stream",
     "text": [
      "statistics is a base of Machine Learning\n"
     ]
    }
   ],
   "source": [
    "math = ['vector','statistics','algebra','probability','geometry','measurements','calculus']\n",
    "popped_math = math.pop(1)\n",
    "print(popped_math+\" is a base of Machine Learning\")"
   ]
  },
  {
   "cell_type": "markdown",
   "id": "d6376999",
   "metadata": {},
   "source": [
    "Removing an Item by Value\n",
    "---"
   ]
  },
  {
   "cell_type": "code",
   "execution_count": 19,
   "id": "4c3adb61",
   "metadata": {},
   "outputs": [
    {
     "name": "stdout",
     "output_type": "stream",
     "text": [
      "['vector', 'statistics', 'probability', 'geometry', 'measurements', 'calculus']\n"
     ]
    }
   ],
   "source": [
    "math = ['vector','statistics','algebra','probability','geometry','measurements','calculus']\n",
    "math.remove('algebra')\n",
    "print(math)"
   ]
  },
  {
   "cell_type": "code",
   "execution_count": 20,
   "id": "e1ea71d6",
   "metadata": {},
   "outputs": [
    {
     "name": "stdout",
     "output_type": "stream",
     "text": [
      "\n",
      " Calculus is too hard for me.\n"
     ]
    }
   ],
   "source": [
    "math = ['vector','statistics','algebra','probability','geometry','measurements','calculus']\n",
    "too_hard = 'calculus'\n",
    "math.remove(too_hard)\n",
    "math\n",
    "print(\"\\n \" + too_hard.title() + \" is too hard for me.\")"
   ]
  },
  {
   "cell_type": "markdown",
   "id": "19cf1a6a",
   "metadata": {},
   "source": [
    "organizing a list\n",
    "---"
   ]
  },
  {
   "cell_type": "markdown",
   "id": "d11f1947",
   "metadata": {},
   "source": [
    "Sorting a List Permanently with the sort() Method\n",
    "---\n",
    "Python’s sort() method makes it relatively easy to sort a list. Imagine we\n",
    "have a list of cars and want to change the order of the list to store them\n",
    "alphabetically. To keep the task simple, let’s assume that all the values in\n",
    "the list are lowercase."
   ]
  },
  {
   "cell_type": "code",
   "execution_count": 21,
   "id": "d753f145",
   "metadata": {},
   "outputs": [
    {
     "data": {
      "text/plain": [
       "['map reduce',\n",
       " 'machine learning',\n",
       " 'data visualization',\n",
       " 'data engineering',\n",
       " 'no sql',\n",
       " 'computer network']"
      ]
     },
     "execution_count": 21,
     "metadata": {},
     "output_type": "execute_result"
    }
   ],
   "source": [
    "subject = ['map reduce', 'machine learning', 'data visualization','data engineering','no sql','computer network']\n",
    "subject"
   ]
  },
  {
   "cell_type": "code",
   "execution_count": 22,
   "id": "55f43c0a",
   "metadata": {},
   "outputs": [
    {
     "name": "stdout",
     "output_type": "stream",
     "text": [
      "['computer network', 'data engineering', 'data visualization', 'machine learning', 'map reduce', 'no sql']\n"
     ]
    }
   ],
   "source": [
    "subject.sort()\n",
    "print(subject)"
   ]
  },
  {
   "cell_type": "code",
   "execution_count": 23,
   "id": "7a15deb3",
   "metadata": {},
   "outputs": [
    {
     "name": "stdout",
     "output_type": "stream",
     "text": [
      "['no sql', 'map reduce', 'machine learning', 'data visualization', 'data engineering', 'computer network']\n"
     ]
    }
   ],
   "source": [
    "subject.sort(reverse=True)\n",
    "print(subject)"
   ]
  },
  {
   "cell_type": "code",
   "execution_count": 24,
   "id": "1f836e79",
   "metadata": {},
   "outputs": [
    {
     "name": "stdout",
     "output_type": "stream",
     "text": [
      "Here is the original list:\n",
      "['no sql', 'map reduce', 'machine learning', 'data visualization', 'data engineering', 'computer network']\n",
      "\n",
      "Here is the sorted list:\n",
      "['computer network', 'data engineering', 'data visualization', 'machine learning', 'map reduce', 'no sql']\n",
      "\n",
      "Here is the original list again:\n",
      "['no sql', 'map reduce', 'machine learning', 'data visualization', 'data engineering', 'computer network']\n"
     ]
    }
   ],
   "source": [
    "print(\"Here is the original list:\")\n",
    "print(subject)\n",
    "print(\"\\nHere is the sorted list:\")\n",
    "print(sorted(subject))\n",
    "print(\"\\nHere is the original list again:\")\n",
    "print(subject)"
   ]
  },
  {
   "cell_type": "markdown",
   "id": "c1809391",
   "metadata": {},
   "source": [
    "Printing a List in Reverse Order\n",
    "---"
   ]
  },
  {
   "cell_type": "markdown",
   "id": "338fa83f",
   "metadata": {},
   "source": [
    "To reverse the original order of a list, you can use the reverse() method.\n",
    "\n",
    "If we originally stored the list of cars in chronological order according to\n",
    "when we owned them, we could easily rearrange the list into reverse chron-ological order:"
   ]
  },
  {
   "cell_type": "code",
   "execution_count": 25,
   "id": "9359acfe",
   "metadata": {},
   "outputs": [
    {
     "name": "stdout",
     "output_type": "stream",
     "text": [
      "['computer network', 'no sql', 'data engineering', 'data visualization', 'machine learning', 'map reduce']\n"
     ]
    }
   ],
   "source": [
    "subject = ['map reduce', 'machine learning', 'data visualization','data engineering','no sql','computer network']\n",
    "subject.reverse()\n",
    "print(subject)"
   ]
  },
  {
   "cell_type": "markdown",
   "id": "17a31704",
   "metadata": {},
   "source": [
    "Finding the Length of a List\n",
    "---\n",
    "You can quickly find the length of a list by using the len() function. The list\n",
    "in this example has four items, so its length is 4:"
   ]
  },
  {
   "cell_type": "code",
   "execution_count": 26,
   "id": "d436d0b4",
   "metadata": {},
   "outputs": [
    {
     "data": {
      "text/plain": [
       "6"
      ]
     },
     "execution_count": 26,
     "metadata": {},
     "output_type": "execute_result"
    }
   ],
   "source": [
    "subject = ['map reduce', 'machine learning', 'data visualization','data engineering','no sql','computer network']\n",
    "len(subject)"
   ]
  },
  {
   "cell_type": "markdown",
   "id": "04a1aefd",
   "metadata": {},
   "source": [
    "Avoiding Index errors when working with lists\n",
    "---\n",
    "One type of error is common to see when you’re working with lists for the\n",
    "first time. Let’s say you have a list with three items, and you ask for the\n",
    "7th item:"
   ]
  },
  {
   "cell_type": "code",
   "execution_count": 27,
   "id": "5021d4aa",
   "metadata": {},
   "outputs": [
    {
     "ename": "IndexError",
     "evalue": "list index out of range",
     "output_type": "error",
     "traceback": [
      "\u001b[1;31m-----------------------------------\u001b[0m",
      "\u001b[1;31mIndexError\u001b[0mTraceback (most recent call last)",
      "Input \u001b[1;32mIn [27]\u001b[0m, in \u001b[0;36m<module>\u001b[1;34m\u001b[0m\n\u001b[0;32m      1\u001b[0m subject \u001b[38;5;241m=\u001b[39m [\u001b[38;5;124m'\u001b[39m\u001b[38;5;124mmap reduce\u001b[39m\u001b[38;5;124m'\u001b[39m, \u001b[38;5;124m'\u001b[39m\u001b[38;5;124mmachine learning\u001b[39m\u001b[38;5;124m'\u001b[39m, \u001b[38;5;124m'\u001b[39m\u001b[38;5;124mdata visualization\u001b[39m\u001b[38;5;124m'\u001b[39m,\u001b[38;5;124m'\u001b[39m\u001b[38;5;124mdata engineering\u001b[39m\u001b[38;5;124m'\u001b[39m,\u001b[38;5;124m'\u001b[39m\u001b[38;5;124mno sql\u001b[39m\u001b[38;5;124m'\u001b[39m,\u001b[38;5;124m'\u001b[39m\u001b[38;5;124mcomputer network\u001b[39m\u001b[38;5;124m'\u001b[39m]\n\u001b[1;32m----> 2\u001b[0m \u001b[38;5;28mprint\u001b[39m(\u001b[43msubject\u001b[49m\u001b[43m[\u001b[49m\u001b[38;5;241;43m6\u001b[39;49m\u001b[43m]\u001b[49m)\n",
      "\u001b[1;31mIndexError\u001b[0m: list index out of range"
     ]
    }
   ],
   "source": [
    "subject = ['map reduce', 'machine learning', 'data visualization','data engineering','no sql','computer network']\n",
    "print(subject[6])"
   ]
  },
  {
   "cell_type": "code",
   "execution_count": 28,
   "id": "1a344eb7",
   "metadata": {},
   "outputs": [
    {
     "name": "stdout",
     "output_type": "stream",
     "text": [
      "computer network\n"
     ]
    }
   ],
   "source": [
    "print(subject[-1])"
   ]
  },
  {
   "cell_type": "code",
   "execution_count": 29,
   "id": "411c4fca",
   "metadata": {},
   "outputs": [
    {
     "ename": "IndexError",
     "evalue": "list index out of range",
     "output_type": "error",
     "traceback": [
      "\u001b[1;31m-----------------------------------\u001b[0m",
      "\u001b[1;31mIndexError\u001b[0mTraceback (most recent call last)",
      "Input \u001b[1;32mIn [29]\u001b[0m, in \u001b[0;36m<module>\u001b[1;34m\u001b[0m\n\u001b[0;32m      1\u001b[0m subject\u001b[38;5;241m=\u001b[39m[]\n\u001b[1;32m----> 2\u001b[0m \u001b[38;5;28mprint\u001b[39m(\u001b[43msubject\u001b[49m\u001b[43m[\u001b[49m\u001b[38;5;241;43m0\u001b[39;49m\u001b[43m]\u001b[49m)\n",
      "\u001b[1;31mIndexError\u001b[0m: list index out of range"
     ]
    }
   ],
   "source": [
    "subject=[]\n",
    "print(subject[0])"
   ]
  }
 ],
 "metadata": {
  "kernelspec": {
   "display_name": "Python 3 (ipykernel)",
   "language": "python",
   "name": "python3"
  },
  "language_info": {
   "codemirror_mode": {
    "name": "ipython",
    "version": 3
   },
   "file_extension": ".py",
   "mimetype": "text/x-python",
   "name": "python",
   "nbconvert_exporter": "python",
   "pygments_lexer": "ipython3",
   "version": "3.7.16"
  }
 },
 "nbformat": 4,
 "nbformat_minor": 5
}
